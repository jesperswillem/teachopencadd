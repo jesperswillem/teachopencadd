{
 "cells": [
  {
   "cell_type": "markdown",
   "metadata": {
    "tags": []
   },
   "source": [
    "# T026 · Kinase similarity: Interaction fingerprints\n",
    "\n",
    "**Note:** This talktorial is a part of TeachOpenCADD, a platform that aims to teach domain-specific skills and to provide pipeline templates as starting points for research projects.\n",
    "\n",
    "Authors:\n",
    "\n",
    "- Dominique Sydow, 2021, [Volkamer lab, Charité](https://volkamerlab.org/)\n",
    "- Talia B. Kimber, 2021, [Volkamer lab, Charité](https://volkamerlab.org/)\n",
    "- Andrea Volkamer, 2021, [Volkamer lab, Charité](https://volkamerlab.org/)"
   ]
  },
  {
   "cell_type": "markdown",
   "metadata": {},
   "source": [
    "## Aim of this talktorial\n",
    "\n",
    "We will assess the similarity between a set of kinases based on detected protein-ligand interactions in available complex structures. The [KLIFS](https://klifs.net/) interaction fingerprint (IFP), which describes the interactions seen in a structurally resolved kinase-ligand complex, will be used in this exercise.  \n",
    "\n",
    "_Note_: We focus on similarities between orthosteric kinase binding sites; similarities to allosteric binding sites are not covered."
   ]
  },
  {
   "cell_type": "markdown",
   "metadata": {},
   "source": [
    "### Contents in *Theory*\n",
    "\n",
    "* Kinase dataset\n",
    "* Kinase similarity descriptor: KLIFS interaction fingerprint\n",
    "* Fetching KLIFS data with `opencadd.databases.klifs`"
   ]
  },
  {
   "cell_type": "markdown",
   "metadata": {},
   "source": [
    "### Contents in *Practical*\n",
    "\n",
    "* Define the kinases of interest\n",
    "* Retrieve and preprocess data\n",
    "    * Set up a remote KLIFS session\n",
    "    * Fetch all structures describing these kinases\n",
    "    * Filter structures\n",
    "    * Fetch the structures' IFPs (if available)\n",
    "    * Merge structural and IFP data\n",
    "* Show kinase coverage\n",
    "* Compare structures\n",
    "    * Prepare IFPs as `numpy` array\n",
    "    * Calculate pairwise Jaccard distances\n",
    "* Map structure to kinase distance matrix\n",
    "* Save kinase distance matrix"
   ]
  },
  {
   "cell_type": "markdown",
   "metadata": {},
   "source": [
    "### References\n",
    "\n",
    "* Kinase dataset: [<i>Molecules</i> (2021), <b>26(3)</b>, 629](https://www.mdpi.com/1420-3049/26/3/629) \n",
    "* Protein Data Bank\n",
    "  * PDB URL: http://www.rcsb.org/\n",
    "  * PDB database: [<i>Acta Cryst.</i> (2002), <b>D58</b>, 899-907](https://doi.org/10.1107/S0907444902003451) and [<i>Structure</i> (2012), <b>20(3)</b>, 391-396](https://doi.org/10.1016/j.str.2012.01.010)\n",
    "* KLIFS\n",
    "  * KLIFS URL: https://klifs.net/\n",
    "  * KLIFS database: [<i>Nucleic Acid Res.</i> (2020), <b>49(D1)</b>, D562-D569](https://doi.org/10.1093/nar/gkaa895)\n",
    "  * KLIFS binding site definition and interaction fingerprint calculation: [<i>J. Med. Chem.</i> (2014), <b>57(2)</b>, 249-277](https://doi.org/10.1021/jm400378w)\n",
    "* Interaction fingerprint (IFP): [<i>J. Chem. Inf. Model.</i> (2007), <b>71(1)</b>, 195-207](https://doi.org/10.1021/ci600342e)\n",
    "* `opencadd`, a Python library for structural cheminformatics\n",
    "  * GitHub repository: https://github.com/volkamerlab/opencadd\n",
    "  * Documentation: https://opencadd.readthedocs.io"
   ]
  },
  {
   "cell_type": "markdown",
   "metadata": {},
   "source": [
    "## Theory"
   ]
  },
  {
   "cell_type": "markdown",
   "metadata": {},
   "source": [
    "### Kinase dataset"
   ]
  },
  {
   "cell_type": "markdown",
   "metadata": {},
   "source": [
    "We use the kinase selection as defined in __Talktorial T023__."
   ]
  },
  {
   "cell_type": "markdown",
   "metadata": {},
   "source": [
    "### Kinase similarity descriptor: KLIFS interaction fingerprints\n",
    "\n",
    "Interaction fingerprints (IFPs) encode the binding mode of a ligand in a binding site, i.e., the protein-ligand interactions that are present in a structurally resolved complex. If a ligand can form similar interaction patterns in proteins other than its designated protein (off- vs. on-target), it is possible that this ligand will cause unintended side effects. Knowledge about similarities between proteins can therefore help to avoid such off-target effects; or to exploit the known similarities for polypharmacology effects where one ligand could intentionally target multiple proteins at once."
   ]
  },
  {
   "cell_type": "markdown",
   "metadata": {},
   "source": [
    "In this talktorial, we are interested in assessing the similarity between a set of kinases based on the similarity between the binding modes of the co-crystallized ligands. \n",
    "We will make use of the KLIFS IFP: For each kinase structure that is co-crystallized with a ligand, all interactions between the $85$ KLIFS pocket residues (see more details in __Talktorial T023__) and the ligand are described using the IFP by Marcou and Rognan ([<i>JCIM</i> (2007), <b>71(1)</b>, 195-207](https://pubs.acs.org/doi/10.1021/ci600342e))."
   ]
  },
  {
   "cell_type": "markdown",
   "metadata": {},
   "source": [
    "This is how the IFP is explained in the respective KLIFS publication [<i>J. Med. Chem.</i> (2014), <b>57(2)</b>, 249-277](https://doi.org/10.1021/jm400378w):\n",
    "\n",
    "> For each amino acid in the catalytic cleft, seven types of protein−ligand interactions are determined. The presence of a certain type of interaction results in the type-setting of a “1” in the bit-string; otherwise a “0” is used to indicate the absence of the interaction. The following seven types of interactions are summarized in one bit-string; bit 1 = hydrophobic contact (HYD); bit 2 = face to face aromatic interactions (F−F); bit 3 = face to edge aromatic interactions (F−E); bit 4 = protein H-bond donor (DON); bit 5 = protein H- bond acceptor (ACC); bit 6 = protein cationic interactions (ION+), and bit 7 = protein anionic interactions (ION−)."
   ]
  },
  {
   "cell_type": "markdown",
   "metadata": {},
   "source": [
    "This results in a $85 \\times 7 = 595$ bit vector. Since the binding site is aligned across all kinases, each bit position in this IFP can be directly compared across all IFPs in KLIFS. This is what we will do in the practical part of this tutorial."
   ]
  },
  {
   "cell_type": "markdown",
   "metadata": {},
   "source": [
    "![KLIFS IFP](images/T026_KLIFS_IFP.png)\n",
    "\n",
    "*Figure 1:* \n",
    "KLIFS interaction fingerprint (IFP) definition: Seven interaction types are detected between each of a kinase structure's $85$ pocket residues and a co-crystallized ligand. Interaction types include: hydrophobic contact (HYD), face to face aromatic interactions (F−F), face to edge aromatic interactions (F−E), protein H-bond donor (DON), protein H-bond acceptor (ACC), protein cationic interactions (ION+), and protein anionic interactions (ION−).\n",
    "Figure by Dominique Sydow, adapted from: [<i>J. Med. Chem.</i> (2014), <b>57(2)</b>, 249-277](https://doi.org/10.1021/jm400378w)."
   ]
  },
  {
   "cell_type": "markdown",
   "metadata": {},
   "source": [
    "### Fetching KLIFS data with `opencadd.databases.klifs`\n",
    "\n",
    "`opencadd` is a Python library for structural cheminformatics developed by the [Volkamer lab](https://volkamerlab.org/) at the Charité in Berlin. \n",
    "This library is a growing collection of modules that help facilitate and standardize common tasks in structural bioinformatics and cheminformatics. Today, we will use the module `opencadd.databases.klifs`, which allows us to fetch the KLIFS IFP as a `pandas` DataFrame.\n",
    "\n",
    "- GitHub repository: https://github.com/volkamerlab/opencadd\n",
    "- Documentation: https://opencadd.readthedocs.io\n",
    "\n",
    "For more information about this library and the KLIFS OpenAPI, please refer to __Talktorial T012__."
   ]
  },
  {
   "cell_type": "markdown",
   "metadata": {},
   "source": [
    "## Practical"
   ]
  },
  {
   "cell_type": "code",
   "execution_count": 1,
   "metadata": {},
   "outputs": [],
   "source": [
    "from pathlib import Path\n",
    "\n",
    "import numpy as np\n",
    "import pandas as pd\n",
    "import matplotlib.pyplot as plt\n",
    "import seaborn as sns\n",
    "from sklearn.metrics import pairwise_distances\n",
    "from scipy.spatial import distance\n",
    "from opencadd.databases.klifs import setup_remote"
   ]
  },
  {
   "cell_type": "code",
   "execution_count": 2,
   "metadata": {},
   "outputs": [],
   "source": [
    "HERE = Path(_dh[-1])\n",
    "DATA = HERE / \"data\""
   ]
  },
  {
   "cell_type": "code",
   "execution_count": 3,
   "metadata": {},
   "outputs": [
    {
     "name": "stdout",
     "output_type": "stream",
     "text": [
      "Run in demo mode: True\n"
     ]
    }
   ],
   "source": [
    "configs = pd.read_csv(HERE / \"../T023_what_is_a_kinase/data/pipeline_configs.csv\")\n",
    "configs = configs.set_index(\"variable\")[\"default_value\"]\n",
    "\n",
    "DEMO = bool(int(configs[\"DEMO\"]))\n",
    "N_STRUCTURES_PER_KINASE = int(configs[\"N_STRUCTURES_PER_KINASE\"])\n",
    "N_CORES = int(configs[\"N_CORES\"])\n",
    "\n",
    "print(f\"Run in demo mode: {DEMO}\")\n",
    "if not DEMO:\n",
    "    if N_STRUCTURES_PER_KINASE > 0:\n",
    "        print(f\"Number of structures per kinase: {N_STRUCTURES_PER_KINASE}\")\n",
    "    else:\n",
    "        print(f\"Number of structures per kinase: all available structures\")\n",
    "    print(f\"Number of cores used: {N_CORES}\")\n",
    "\n",
    "# NBVAL_CHECK_OUTPUT"
   ]
  },
  {
   "cell_type": "markdown",
   "metadata": {},
   "source": [
    "### Define the kinases of interest"
   ]
  },
  {
   "cell_type": "markdown",
   "metadata": {},
   "source": [
    "Let's load the kinase selection as defined in __Talktorial T023__."
   ]
  },
  {
   "cell_type": "code",
   "execution_count": 4,
   "metadata": {},
   "outputs": [
    {
     "data": {
      "text/html": [
       "<div>\n",
       "<style scoped>\n",
       "    .dataframe tbody tr th:only-of-type {\n",
       "        vertical-align: middle;\n",
       "    }\n",
       "\n",
       "    .dataframe tbody tr th {\n",
       "        vertical-align: top;\n",
       "    }\n",
       "\n",
       "    .dataframe thead th {\n",
       "        text-align: right;\n",
       "    }\n",
       "</style>\n",
       "<table border=\"1\" class=\"dataframe\">\n",
       "  <thead>\n",
       "    <tr style=\"text-align: right;\">\n",
       "      <th></th>\n",
       "      <th>kinase</th>\n",
       "      <th>kinase_klifs</th>\n",
       "      <th>uniprot_id</th>\n",
       "      <th>group</th>\n",
       "      <th>full_kinase_name</th>\n",
       "    </tr>\n",
       "  </thead>\n",
       "  <tbody>\n",
       "    <tr>\n",
       "      <th>0</th>\n",
       "      <td>EGFR</td>\n",
       "      <td>EGFR</td>\n",
       "      <td>P00533</td>\n",
       "      <td>TK</td>\n",
       "      <td>Epidermal growth factor receptor</td>\n",
       "    </tr>\n",
       "    <tr>\n",
       "      <th>1</th>\n",
       "      <td>ErbB2</td>\n",
       "      <td>ErbB2</td>\n",
       "      <td>P04626</td>\n",
       "      <td>TK</td>\n",
       "      <td>Erythroblastic leukemia viral oncogene homolog 2</td>\n",
       "    </tr>\n",
       "    <tr>\n",
       "      <th>2</th>\n",
       "      <td>PI3K</td>\n",
       "      <td>p110a</td>\n",
       "      <td>P42336</td>\n",
       "      <td>Atypical</td>\n",
       "      <td>Phosphatidylinositol-3-kinase</td>\n",
       "    </tr>\n",
       "    <tr>\n",
       "      <th>3</th>\n",
       "      <td>VEGFR2</td>\n",
       "      <td>KDR</td>\n",
       "      <td>P35968</td>\n",
       "      <td>TK</td>\n",
       "      <td>Vascular endothelial growth factor receptor 2</td>\n",
       "    </tr>\n",
       "    <tr>\n",
       "      <th>4</th>\n",
       "      <td>BRAF</td>\n",
       "      <td>BRAF</td>\n",
       "      <td>P15056</td>\n",
       "      <td>TKL</td>\n",
       "      <td>Rapidly accelerated fibrosarcoma isoform B</td>\n",
       "    </tr>\n",
       "    <tr>\n",
       "      <th>5</th>\n",
       "      <td>CDK2</td>\n",
       "      <td>CDK2</td>\n",
       "      <td>P24941</td>\n",
       "      <td>CMGC</td>\n",
       "      <td>Cyclic-dependent kinase 2</td>\n",
       "    </tr>\n",
       "    <tr>\n",
       "      <th>6</th>\n",
       "      <td>LCK</td>\n",
       "      <td>LCK</td>\n",
       "      <td>P06239</td>\n",
       "      <td>TK</td>\n",
       "      <td>Lymphocyte-specific protein tyrosine kinase</td>\n",
       "    </tr>\n",
       "    <tr>\n",
       "      <th>7</th>\n",
       "      <td>MET</td>\n",
       "      <td>MET</td>\n",
       "      <td>P08581</td>\n",
       "      <td>TK</td>\n",
       "      <td>Mesenchymal-epithelial transition factor</td>\n",
       "    </tr>\n",
       "    <tr>\n",
       "      <th>8</th>\n",
       "      <td>p38a</td>\n",
       "      <td>p38a</td>\n",
       "      <td>Q16539</td>\n",
       "      <td>CMGC</td>\n",
       "      <td>p38 mitogen activated protein kinase alpha</td>\n",
       "    </tr>\n",
       "  </tbody>\n",
       "</table>\n",
       "</div>"
      ],
      "text/plain": [
       "   kinase kinase_klifs uniprot_id     group  \\\n",
       "0    EGFR         EGFR     P00533        TK   \n",
       "1   ErbB2        ErbB2     P04626        TK   \n",
       "2    PI3K        p110a     P42336  Atypical   \n",
       "3  VEGFR2          KDR     P35968        TK   \n",
       "4    BRAF         BRAF     P15056       TKL   \n",
       "5    CDK2         CDK2     P24941      CMGC   \n",
       "6     LCK          LCK     P06239        TK   \n",
       "7     MET          MET     P08581        TK   \n",
       "8    p38a         p38a     Q16539      CMGC   \n",
       "\n",
       "                                   full_kinase_name  \n",
       "0                  Epidermal growth factor receptor  \n",
       "1  Erythroblastic leukemia viral oncogene homolog 2  \n",
       "2                     Phosphatidylinositol-3-kinase  \n",
       "3     Vascular endothelial growth factor receptor 2  \n",
       "4        Rapidly accelerated fibrosarcoma isoform B  \n",
       "5                         Cyclic-dependent kinase 2  \n",
       "6       Lymphocyte-specific protein tyrosine kinase  \n",
       "7          Mesenchymal-epithelial transition factor  \n",
       "8        p38 mitogen activated protein kinase alpha  "
      ]
     },
     "execution_count": 4,
     "metadata": {},
     "output_type": "execute_result"
    }
   ],
   "source": [
    "kinase_selection_df = pd.read_csv(HERE / \"../T023_what_is_a_kinase/data/kinase_selection.csv\")\n",
    "kinase_selection_df\n",
    "# NBVAL_CHECK_OUTPUT"
   ]
  },
  {
   "cell_type": "markdown",
   "metadata": {},
   "source": [
    "### Retrieve and preprocess data"
   ]
  },
  {
   "cell_type": "markdown",
   "metadata": {},
   "source": [
    "Now, we query the KLIFS database using the `opencadd.databases.klifs` module to generate our IFP dataset."
   ]
  },
  {
   "cell_type": "markdown",
   "metadata": {},
   "source": [
    "#### Set up a remote KLIFS session"
   ]
  },
  {
   "cell_type": "code",
   "execution_count": 5,
   "metadata": {},
   "outputs": [],
   "source": [
    "from opencadd.databases.klifs import setup_remote"
   ]
  },
  {
   "cell_type": "code",
   "execution_count": 6,
   "metadata": {},
   "outputs": [],
   "source": [
    "klifs_session = setup_remote()"
   ]
  },
  {
   "cell_type": "markdown",
   "metadata": {},
   "source": [
    "#### Fetch all structures describing these kinases"
   ]
  },
  {
   "cell_type": "code",
   "execution_count": 7,
   "metadata": {},
   "outputs": [
    {
     "name": "stdout",
     "output_type": "stream",
     "text": [
      "Number of structures: 2523\n",
      "Kinases: CDK2 p38a EGFR ErbB2 MET LCK KDR BRAF p110a\n"
     ]
    }
   ],
   "source": [
    "# Get list of kinase names\n",
    "kinase_names = kinase_selection_df[\"kinase_klifs\"].to_list()\n",
    "\n",
    "# Get all available structures for these kinases\n",
    "structures_df = klifs_session.structures.by_kinase_name(kinase_names=kinase_names)\n",
    "# Keep only relevant columns\n",
    "structures_df = structures_df[\n",
    "    [\n",
    "        \"structure.klifs_id\",\n",
    "        \"kinase.klifs_name\",\n",
    "        \"species.klifs\",\n",
    "        \"structure.dfg\",\n",
    "        \"structure.resolution\",\n",
    "        \"structure.qualityscore\",\n",
    "    ]\n",
    "]\n",
    "print(f\"Number of structures: {len(structures_df)}\")\n",
    "print(\"Kinases:\", *structures_df[\"kinase.klifs_name\"].unique())"
   ]
  },
  {
   "cell_type": "markdown",
   "metadata": {},
   "source": [
    "#### Filter structures\n",
    "\n",
    "We filter the structures by different criteria:\n",
    "\n",
    "- Species: human\n",
    "- Conformation: DFG-in (the active kinase conformation)\n",
    "- Resolution: $\\le 3$ Angström\n",
    "- Quality score*: $\\ge 6$\n",
    "\n",
    "\\* The KLIFS quality score takes into account the quality of the alignment, as well as the number of missing residues and atoms. A higher score indicates a better structure quality."
   ]
  },
  {
   "cell_type": "code",
   "execution_count": 8,
   "metadata": {},
   "outputs": [
    {
     "name": "stdout",
     "output_type": "stream",
     "text": [
      "Number of structures: 1657\n",
      "Kinases: CDK2 p38a EGFR ErbB2 MET LCK KDR BRAF p110a\n"
     ]
    }
   ],
   "source": [
    "structures_df = structures_df[\n",
    "    (structures_df[\"species.klifs\"] == \"Human\")\n",
    "    & (structures_df[\"structure.dfg\"] == \"in\")\n",
    "    & (structures_df[\"structure.resolution\"] <= 3)\n",
    "    & (structures_df[\"structure.qualityscore\"] >= 6)\n",
    "]\n",
    "print(f\"Number of structures: {len(structures_df)}\")\n",
    "print(\"Kinases:\", *structures_df[\"kinase.klifs_name\"].unique())"
   ]
  },
  {
   "cell_type": "markdown",
   "metadata": {},
   "source": [
    "Save the structure KLIFS IDs for the next step."
   ]
  },
  {
   "cell_type": "code",
   "execution_count": 9,
   "metadata": {},
   "outputs": [
    {
     "name": "stdout",
     "output_type": "stream",
     "text": [
      "Number of structures: 1657\n"
     ]
    }
   ],
   "source": [
    "structure_klifs_ids = structures_df[\"structure.klifs_id\"].to_list()\n",
    "print(f\"Number of structures: {len(structure_klifs_ids)}\")"
   ]
  },
  {
   "cell_type": "markdown",
   "metadata": {},
   "source": [
    "_Note for demo mode_: To make it easier for us to maintain the talktorials, we will now load a set of frozen structure KLIFS IDs (2021-08-23) and continue to work with those.\n",
    "\n",
    "_Note for non-demo mode_: Did you specify `N_STRUCTURES_PER_KINASE` in the configuration file? If you e.g. set a value of 3, we will select in the following the top 3 structures per kinase in terms of resolution and KLIFS quality score."
   ]
  },
  {
   "cell_type": "code",
   "execution_count": 10,
   "metadata": {},
   "outputs": [
    {
     "name": "stdout",
     "output_type": "stream",
     "text": [
      "Notebook is run in demo mode - load frozen structure set.\n",
      "Number of structures: 1620\n"
     ]
    }
   ],
   "source": [
    "if DEMO:\n",
    "    # Load frozen dataset\n",
    "    print(\"Notebook is run in demo mode - load frozen structure set.\")\n",
    "    structure_klifs_ids = pd.read_csv(DATA / \"frozen_structure_klifs_ids.csv\")[\n",
    "        \"structure.klifs_id\"\n",
    "    ].to_list()\n",
    "    structures_df = structures_df[\n",
    "        structures_df[\"structure.klifs_id\"].isin(structure_klifs_ids)\n",
    "    ].copy()\n",
    "else:\n",
    "    if N_STRUCTURES_PER_KINASE > 0:\n",
    "        print(f\"Select {N_STRUCTURES_PER_KINASE} structures per kinase for downstream analysis.\")\n",
    "        # Sort structures by kinase and quality\n",
    "        structures_df = structures_df.sort_values(\n",
    "            by=[\"kinase.klifs_name\", \"structure.resolution\", \"structure.qualityscore\"],\n",
    "            ascending=[True, True, False],\n",
    "        )\n",
    "        # Reduce number of structures per kinase\n",
    "        structures_df = structures_df.groupby(\"kinase.klifs_name\").head(N_STRUCTURES_PER_KINASE)\n",
    "        structure_klifs_ids = structures_df[\"structure.klifs_id\"].to_list()\n",
    "    else:\n",
    "        print(f\"Use all available structures per kinase for downstream analysis.\")\n",
    "\n",
    "print(f\"Number of structures: {structures_df.shape[0]}\")\n",
    "# NBVAL_CHECK_OUTPUT"
   ]
  },
  {
   "cell_type": "markdown",
   "metadata": {
    "tags": []
   },
   "source": [
    "#### Fetch the structures' IFPs (if available)\n",
    "\n",
    "We fetch the IFPs for the set of structures. Not all structures will have an IFP because not all structures have a co-crystallized ligand."
   ]
  },
  {
   "cell_type": "code",
   "execution_count": 11,
   "metadata": {},
   "outputs": [
    {
     "name": "stdout",
     "output_type": "stream",
     "text": [
      "Number of structures with IFPs: 1466\n"
     ]
    },
    {
     "data": {
      "text/html": [
       "<div>\n",
       "<style scoped>\n",
       "    .dataframe tbody tr th:only-of-type {\n",
       "        vertical-align: middle;\n",
       "    }\n",
       "\n",
       "    .dataframe tbody tr th {\n",
       "        vertical-align: top;\n",
       "    }\n",
       "\n",
       "    .dataframe thead th {\n",
       "        text-align: right;\n",
       "    }\n",
       "</style>\n",
       "<table border=\"1\" class=\"dataframe\">\n",
       "  <thead>\n",
       "    <tr style=\"text-align: right;\">\n",
       "      <th></th>\n",
       "      <th>structure.klifs_id</th>\n",
       "      <th>interaction.fingerprint</th>\n",
       "    </tr>\n",
       "  </thead>\n",
       "  <tbody>\n",
       "    <tr>\n",
       "      <th>0</th>\n",
       "      <td>775</td>\n",
       "      <td>0000000000000010000000000000000000000000000000...</td>\n",
       "    </tr>\n",
       "    <tr>\n",
       "      <th>1</th>\n",
       "      <td>777</td>\n",
       "      <td>0000000000000010000001000000000000000000000000...</td>\n",
       "    </tr>\n",
       "    <tr>\n",
       "      <th>2</th>\n",
       "      <td>778</td>\n",
       "      <td>0000000000000010000000000000000000000000000000...</td>\n",
       "    </tr>\n",
       "    <tr>\n",
       "      <th>3</th>\n",
       "      <td>779</td>\n",
       "      <td>0000000000000010000001000000000000000000000000...</td>\n",
       "    </tr>\n",
       "    <tr>\n",
       "      <th>4</th>\n",
       "      <td>782</td>\n",
       "      <td>0000000000000010000001000000000000000000000000...</td>\n",
       "    </tr>\n",
       "  </tbody>\n",
       "</table>\n",
       "</div>"
      ],
      "text/plain": [
       "   structure.klifs_id                            interaction.fingerprint\n",
       "0                 775  0000000000000010000000000000000000000000000000...\n",
       "1                 777  0000000000000010000001000000000000000000000000...\n",
       "2                 778  0000000000000010000000000000000000000000000000...\n",
       "3                 779  0000000000000010000001000000000000000000000000...\n",
       "4                 782  0000000000000010000001000000000000000000000000..."
      ]
     },
     "execution_count": 11,
     "metadata": {},
     "output_type": "execute_result"
    }
   ],
   "source": [
    "ifps_df = klifs_session.interactions.by_structure_klifs_id(structure_klifs_ids)\n",
    "print(f\"Number of structures with IFPs: {len(ifps_df)}\")\n",
    "ifps_df.head()"
   ]
  },
  {
   "cell_type": "markdown",
   "metadata": {},
   "source": [
    "#### Merge structural and IFP data"
   ]
  },
  {
   "cell_type": "code",
   "execution_count": 12,
   "metadata": {},
   "outputs": [
    {
     "name": "stdout",
     "output_type": "stream",
     "text": [
      "Number of structures with IFPs: 1466\n"
     ]
    },
    {
     "data": {
      "text/html": [
       "<div>\n",
       "<style scoped>\n",
       "    .dataframe tbody tr th:only-of-type {\n",
       "        vertical-align: middle;\n",
       "    }\n",
       "\n",
       "    .dataframe tbody tr th {\n",
       "        vertical-align: top;\n",
       "    }\n",
       "\n",
       "    .dataframe thead th {\n",
       "        text-align: right;\n",
       "    }\n",
       "</style>\n",
       "<table border=\"1\" class=\"dataframe\">\n",
       "  <thead>\n",
       "    <tr style=\"text-align: right;\">\n",
       "      <th></th>\n",
       "      <th>structure.klifs_id</th>\n",
       "      <th>interaction.fingerprint</th>\n",
       "      <th>kinase.klifs_name</th>\n",
       "      <th>species.klifs</th>\n",
       "      <th>structure.dfg</th>\n",
       "      <th>structure.resolution</th>\n",
       "      <th>structure.qualityscore</th>\n",
       "    </tr>\n",
       "  </thead>\n",
       "  <tbody>\n",
       "    <tr>\n",
       "      <th>0</th>\n",
       "      <td>775</td>\n",
       "      <td>0000000000000010000000000000000000000000000000...</td>\n",
       "      <td>EGFR</td>\n",
       "      <td>Human</td>\n",
       "      <td>in</td>\n",
       "      <td>3.00</td>\n",
       "      <td>8.0</td>\n",
       "    </tr>\n",
       "    <tr>\n",
       "      <th>1</th>\n",
       "      <td>777</td>\n",
       "      <td>0000000000000010000001000000000000000000000000...</td>\n",
       "      <td>EGFR</td>\n",
       "      <td>Human</td>\n",
       "      <td>in</td>\n",
       "      <td>2.64</td>\n",
       "      <td>6.8</td>\n",
       "    </tr>\n",
       "    <tr>\n",
       "      <th>2</th>\n",
       "      <td>778</td>\n",
       "      <td>0000000000000010000000000000000000000000000000...</td>\n",
       "      <td>EGFR</td>\n",
       "      <td>Human</td>\n",
       "      <td>in</td>\n",
       "      <td>1.90</td>\n",
       "      <td>8.0</td>\n",
       "    </tr>\n",
       "    <tr>\n",
       "      <th>3</th>\n",
       "      <td>779</td>\n",
       "      <td>0000000000000010000001000000000000000000000000...</td>\n",
       "      <td>EGFR</td>\n",
       "      <td>Human</td>\n",
       "      <td>in</td>\n",
       "      <td>2.80</td>\n",
       "      <td>8.0</td>\n",
       "    </tr>\n",
       "    <tr>\n",
       "      <th>4</th>\n",
       "      <td>782</td>\n",
       "      <td>0000000000000010000001000000000000000000000000...</td>\n",
       "      <td>EGFR</td>\n",
       "      <td>Human</td>\n",
       "      <td>in</td>\n",
       "      <td>1.70</td>\n",
       "      <td>8.0</td>\n",
       "    </tr>\n",
       "  </tbody>\n",
       "</table>\n",
       "</div>"
      ],
      "text/plain": [
       "   structure.klifs_id                            interaction.fingerprint  \\\n",
       "0                 775  0000000000000010000000000000000000000000000000...   \n",
       "1                 777  0000000000000010000001000000000000000000000000...   \n",
       "2                 778  0000000000000010000000000000000000000000000000...   \n",
       "3                 779  0000000000000010000001000000000000000000000000...   \n",
       "4                 782  0000000000000010000001000000000000000000000000...   \n",
       "\n",
       "  kinase.klifs_name species.klifs structure.dfg  structure.resolution  \\\n",
       "0              EGFR         Human            in                  3.00   \n",
       "1              EGFR         Human            in                  2.64   \n",
       "2              EGFR         Human            in                  1.90   \n",
       "3              EGFR         Human            in                  2.80   \n",
       "4              EGFR         Human            in                  1.70   \n",
       "\n",
       "   structure.qualityscore  \n",
       "0                     8.0  \n",
       "1                     6.8  \n",
       "2                     8.0  \n",
       "3                     8.0  \n",
       "4                     8.0  "
      ]
     },
     "execution_count": 12,
     "metadata": {},
     "output_type": "execute_result"
    }
   ],
   "source": [
    "structures_with_ifps_df = ifps_df.merge(structures_df, on=\"structure.klifs_id\", how=\"inner\")\n",
    "print(f\"Number of structures with IFPs: {len(structures_with_ifps_df)}\")\n",
    "structures_with_ifps_df.head()\n",
    "# NBVAL_CHECK_OUTPUT"
   ]
  },
  {
   "cell_type": "markdown",
   "metadata": {
    "tags": []
   },
   "source": [
    "### Show kinase coverage\n",
    "\n",
    "Let's get the number of structures that describe our kinases (kinase coverage)."
   ]
  },
  {
   "cell_type": "code",
   "execution_count": 13,
   "metadata": {},
   "outputs": [
    {
     "data": {
      "text/plain": [
       "kinase.klifs_name\n",
       "ErbB2      4\n",
       "KDR        6\n",
       "LCK       30\n",
       "p110a     45\n",
       "BRAF      57\n",
       "MET       95\n",
       "p38a     127\n",
       "EGFR     339\n",
       "CDK2     763\n",
       "dtype: int64"
      ]
     },
     "execution_count": 13,
     "metadata": {},
     "output_type": "execute_result"
    }
   ],
   "source": [
    "# Use pandas' groupby method to count the number of structures (rows) per kinase\n",
    "n_structures_per_kinase = structures_with_ifps_df.groupby(\"kinase.klifs_name\").size().sort_values()\n",
    "n_structures_per_kinase\n",
    "# NBVAL_CHECK_OUTPUT"
   ]
  },
  {
   "cell_type": "markdown",
   "metadata": {},
   "source": [
    "Let's plot the results."
   ]
  },
  {
   "cell_type": "code",
   "execution_count": 14,
   "metadata": {},
   "outputs": [
    {
     "data": {
      "image/png": "[encoded data removed]",
      "text/plain": [
       "<Figure size 432x288 with 1 Axes>"
      ]
     },
     "metadata": {
      "needs_background": "light"
     },
     "output_type": "display_data"
    }
   ],
   "source": [
    "fig, ax = plt.subplots()\n",
    "n_structures_per_kinase.plot(kind=\"barh\", ax=ax)\n",
    "ax.set_xlabel(\"Number of structures\")\n",
    "ax.set_ylabel(\"Kinase name\")\n",
    "for i, value in enumerate(n_structures_per_kinase):\n",
    "    ax.text(value, i, str(value), va=\"center\")"
   ]
  },
  {
   "cell_type": "markdown",
   "metadata": {},
   "source": [
    "We see that our dataset is highly imbalanced. While some kinases are structurally resolved very often, other kinases are not. We will have to keep this in mind when interpreting our results later."
   ]
  },
  {
   "cell_type": "markdown",
   "metadata": {},
   "source": [
    "### Compare structures\n",
    "\n",
    "We will make a pairwise comparison of the structures' IFP using the Tanimoto/Jaccard distance as implemented in `sklearn.metrics.pairwise_distances`, which uses under the hood the method `scipy.spatial.distance`."
   ]
  },
  {
   "cell_type": "markdown",
   "metadata": {},
   "source": [
    "#### Prepare IFPs as `numpy` array\n",
    "\n",
    "KLIFS deposits the IFP as a string of 0's and 1's. We have to convert the IFPs to an array of boolean vectors (required by `scipy.spatial.distance` to be able to use the Jaccard distance). Each row in this array refers to one IFP, each columns to one of the IFP's features."
   ]
  },
  {
   "cell_type": "code",
   "execution_count": 15,
   "metadata": {},
   "outputs": [
    {
     "data": {
      "text/plain": [
       "structure.klifs_id  kinase.klifs_name\n",
       "775                 EGFR                 0000000000000010000000000000000000000000000000...\n",
       "777                 EGFR                 0000000000000010000001000000000000000000000000...\n",
       "778                 EGFR                 0000000000000010000000000000000000000000000000...\n",
       "779                 EGFR                 0000000000000010000001000000000000000000000000...\n",
       "782                 EGFR                 0000000000000010000001000000000000000000000000...\n",
       "Name: interaction.fingerprint, dtype: string"
      ]
     },
     "execution_count": 15,
     "metadata": {},
     "output_type": "execute_result"
    }
   ],
   "source": [
    "# This is the KLIFS format of the IFP (structure KLIFS ID and kinase name set as index)\n",
    "ifp_series = structures_with_ifps_df.set_index([\"structure.klifs_id\", \"kinase.klifs_name\"])[\n",
    "    \"interaction.fingerprint\"\n",
    "]\n",
    "ifp_series.head()\n",
    "# NBVAL_CHECK_OUTPUT"
   ]
  },
  {
   "cell_type": "code",
   "execution_count": 16,
   "metadata": {},
   "outputs": [
    {
     "data": {
      "text/plain": [
       "structure.klifs_id  kinase.klifs_name\n",
       "775                 EGFR                 [False, False, False, False, False, False, Fal...\n",
       "777                 EGFR                 [False, False, False, False, False, False, Fal...\n",
       "778                 EGFR                 [False, False, False, False, False, False, Fal...\n",
       "779                 EGFR                 [False, False, False, False, False, False, Fal...\n",
       "782                 EGFR                 [False, False, False, False, False, False, Fal...\n",
       "Name: interaction.fingerprint, dtype: object"
      ]
     },
     "execution_count": 16,
     "metadata": {},
     "output_type": "execute_result"
    }
   ],
   "source": [
    "# Cast \"0\" and \"1\" to boolean False and True\n",
    "ifp_series = ifp_series.apply(lambda x: [True if i == \"1\" else False for i in x])\n",
    "ifp_series.head()\n",
    "# NBVAL_CHECK_OUTPUT"
   ]
  },
  {
   "cell_type": "code",
   "execution_count": 17,
   "metadata": {},
   "outputs": [
    {
     "data": {
      "text/plain": [
       "array([[False, False, False, ..., False, False, False],\n",
       "       [False, False, False, ..., False, False, False],\n",
       "       [False, False, False, ..., False, False, False],\n",
       "       ...,\n",
       "       [False, False, False, ..., False, False, False],\n",
       "       [False, False, False, ..., False, False, False],\n",
       "       [False, False, False, ..., False, False, False]])"
      ]
     },
     "execution_count": 17,
     "metadata": {},
     "output_type": "execute_result"
    }
   ],
   "source": [
    "# Convert to numpy array\n",
    "ifps_array = np.array(ifp_series.to_list())\n",
    "ifps_array\n",
    "# NBVAL_CHECK_OUTPUT"
   ]
  },
  {
   "cell_type": "markdown",
   "metadata": {},
   "source": [
    "#### Calculate pairwise Jaccard distances\n",
    "\n",
    "The Jaccard distance, defined below, is often used in case of binary fingerprints: \n",
    "\n",
    "$$\n",
    "d_J(A,B) = 1 - J(A,B) = \\frac{\\mid A \\cup B \\mid - \\mid A \\cap B \\mid}{\\mid A \\cup B \\mid}.\n",
    "$$"
   ]
  },
  {
   "cell_type": "code",
   "execution_count": 18,
   "metadata": {},
   "outputs": [],
   "source": [
    "structure_distance_matrix_array = pairwise_distances(ifps_array, metric=\"jaccard\")"
   ]
  },
  {
   "cell_type": "code",
   "execution_count": 19,
   "metadata": {},
   "outputs": [
    {
     "name": "stdout",
     "output_type": "stream",
     "text": [
      "Structure distance matrix size: (1466, 1466)\n",
      "Show matrix subset:\n"
     ]
    },
    {
     "data": {
      "text/html": [
       "<div>\n",
       "<style scoped>\n",
       "    .dataframe tbody tr th:only-of-type {\n",
       "        vertical-align: middle;\n",
       "    }\n",
       "\n",
       "    .dataframe tbody tr th {\n",
       "        vertical-align: top;\n",
       "    }\n",
       "\n",
       "    .dataframe thead th {\n",
       "        text-align: right;\n",
       "    }\n",
       "</style>\n",
       "<table border=\"1\" class=\"dataframe\">\n",
       "  <thead>\n",
       "    <tr style=\"text-align: right;\">\n",
       "      <th>structure.klifs_id</th>\n",
       "      <th>775</th>\n",
       "      <th>777</th>\n",
       "      <th>778</th>\n",
       "      <th>779</th>\n",
       "      <th>782</th>\n",
       "    </tr>\n",
       "    <tr>\n",
       "      <th>structure.klifs_id</th>\n",
       "      <th></th>\n",
       "      <th></th>\n",
       "      <th></th>\n",
       "      <th></th>\n",
       "      <th></th>\n",
       "    </tr>\n",
       "  </thead>\n",
       "  <tbody>\n",
       "    <tr>\n",
       "      <th>775</th>\n",
       "      <td>0.000000</td>\n",
       "      <td>0.720000</td>\n",
       "      <td>0.542857</td>\n",
       "      <td>0.500000</td>\n",
       "      <td>0.483871</td>\n",
       "    </tr>\n",
       "    <tr>\n",
       "      <th>777</th>\n",
       "      <td>0.720000</td>\n",
       "      <td>0.000000</td>\n",
       "      <td>0.741935</td>\n",
       "      <td>0.500000</td>\n",
       "      <td>0.703704</td>\n",
       "    </tr>\n",
       "    <tr>\n",
       "      <th>778</th>\n",
       "      <td>0.542857</td>\n",
       "      <td>0.741935</td>\n",
       "      <td>0.000000</td>\n",
       "      <td>0.696970</td>\n",
       "      <td>0.411765</td>\n",
       "    </tr>\n",
       "    <tr>\n",
       "      <th>779</th>\n",
       "      <td>0.500000</td>\n",
       "      <td>0.500000</td>\n",
       "      <td>0.696970</td>\n",
       "      <td>0.000000</td>\n",
       "      <td>0.655172</td>\n",
       "    </tr>\n",
       "    <tr>\n",
       "      <th>782</th>\n",
       "      <td>0.483871</td>\n",
       "      <td>0.703704</td>\n",
       "      <td>0.411765</td>\n",
       "      <td>0.655172</td>\n",
       "      <td>0.000000</td>\n",
       "    </tr>\n",
       "  </tbody>\n",
       "</table>\n",
       "</div>"
      ],
      "text/plain": [
       "structure.klifs_id       775       777       778       779       782\n",
       "structure.klifs_id                                                  \n",
       "775                 0.000000  0.720000  0.542857  0.500000  0.483871\n",
       "777                 0.720000  0.000000  0.741935  0.500000  0.703704\n",
       "778                 0.542857  0.741935  0.000000  0.696970  0.411765\n",
       "779                 0.500000  0.500000  0.696970  0.000000  0.655172\n",
       "782                 0.483871  0.703704  0.411765  0.655172  0.000000"
      ]
     },
     "execution_count": 19,
     "metadata": {},
     "output_type": "execute_result"
    }
   ],
   "source": [
    "# Create DataFrame with structure KLIFS IDs as index/columns\n",
    "structure_klifs_ids = ifp_series.index.get_level_values(0)\n",
    "structure_distance_matrix_df = pd.DataFrame(\n",
    "    structure_distance_matrix_array, index=structure_klifs_ids, columns=structure_klifs_ids\n",
    ")\n",
    "print(f\"Structure distance matrix size: {structure_distance_matrix_df.shape}\")\n",
    "print(\"Show matrix subset:\")\n",
    "structure_distance_matrix_df.iloc[:5, :5]\n",
    "# NBVAL_CHECK_OUTPUT"
   ]
  },
  {
   "cell_type": "markdown",
   "metadata": {
    "tags": []
   },
   "source": [
    "### Map structure to kinase distance matrix\n",
    "\n",
    "Note: So far we compared individual structures, but we want to compare kinases (which can be represented by several structures, as plotted above).\n",
    "\n",
    "First, as an intermediate step, we will create a structure distance matrix but &mdash; instead of labeling the data with structure KLIFS IDs &mdash; we use the corresponding kinase name."
   ]
  },
  {
   "cell_type": "code",
   "execution_count": 20,
   "metadata": {},
   "outputs": [
    {
     "name": "stdout",
     "output_type": "stream",
     "text": [
      "Show matrix subset:\n"
     ]
    },
    {
     "data": {
      "text/html": [
       "<div>\n",
       "<style scoped>\n",
       "    .dataframe tbody tr th:only-of-type {\n",
       "        vertical-align: middle;\n",
       "    }\n",
       "\n",
       "    .dataframe tbody tr th {\n",
       "        vertical-align: top;\n",
       "    }\n",
       "\n",
       "    .dataframe thead th {\n",
       "        text-align: right;\n",
       "    }\n",
       "</style>\n",
       "<table border=\"1\" class=\"dataframe\">\n",
       "  <thead>\n",
       "    <tr style=\"text-align: right;\">\n",
       "      <th>kinase.klifs_name</th>\n",
       "      <th>EGFR</th>\n",
       "      <th>EGFR</th>\n",
       "      <th>EGFR</th>\n",
       "      <th>EGFR</th>\n",
       "      <th>EGFR</th>\n",
       "    </tr>\n",
       "    <tr>\n",
       "      <th>kinase.klifs_name</th>\n",
       "      <th></th>\n",
       "      <th></th>\n",
       "      <th></th>\n",
       "      <th></th>\n",
       "      <th></th>\n",
       "    </tr>\n",
       "  </thead>\n",
       "  <tbody>\n",
       "    <tr>\n",
       "      <th>EGFR</th>\n",
       "      <td>0.000000</td>\n",
       "      <td>0.720000</td>\n",
       "      <td>0.542857</td>\n",
       "      <td>0.500000</td>\n",
       "      <td>0.483871</td>\n",
       "    </tr>\n",
       "    <tr>\n",
       "      <th>EGFR</th>\n",
       "      <td>0.720000</td>\n",
       "      <td>0.000000</td>\n",
       "      <td>0.741935</td>\n",
       "      <td>0.500000</td>\n",
       "      <td>0.703704</td>\n",
       "    </tr>\n",
       "    <tr>\n",
       "      <th>EGFR</th>\n",
       "      <td>0.542857</td>\n",
       "      <td>0.741935</td>\n",
       "      <td>0.000000</td>\n",
       "      <td>0.696970</td>\n",
       "      <td>0.411765</td>\n",
       "    </tr>\n",
       "    <tr>\n",
       "      <th>EGFR</th>\n",
       "      <td>0.500000</td>\n",
       "      <td>0.500000</td>\n",
       "      <td>0.696970</td>\n",
       "      <td>0.000000</td>\n",
       "      <td>0.655172</td>\n",
       "    </tr>\n",
       "    <tr>\n",
       "      <th>EGFR</th>\n",
       "      <td>0.483871</td>\n",
       "      <td>0.703704</td>\n",
       "      <td>0.411765</td>\n",
       "      <td>0.655172</td>\n",
       "      <td>0.000000</td>\n",
       "    </tr>\n",
       "  </tbody>\n",
       "</table>\n",
       "</div>"
      ],
      "text/plain": [
       "kinase.klifs_name      EGFR      EGFR      EGFR      EGFR      EGFR\n",
       "kinase.klifs_name                                                  \n",
       "EGFR               0.000000  0.720000  0.542857  0.500000  0.483871\n",
       "EGFR               0.720000  0.000000  0.741935  0.500000  0.703704\n",
       "EGFR               0.542857  0.741935  0.000000  0.696970  0.411765\n",
       "EGFR               0.500000  0.500000  0.696970  0.000000  0.655172\n",
       "EGFR               0.483871  0.703704  0.411765  0.655172  0.000000"
      ]
     },
     "execution_count": 20,
     "metadata": {},
     "output_type": "execute_result"
    }
   ],
   "source": [
    "# Copy distance matrix to kinase matrix\n",
    "kinase_distance_matrix_df = structure_distance_matrix_df.copy()\n",
    "# Replace structure KLIFS IDs with the structures' kinase names\n",
    "kinase_names = ifp_series.index.get_level_values(1)\n",
    "kinase_distance_matrix_df.index = kinase_names\n",
    "kinase_distance_matrix_df.columns = kinase_names\n",
    "print(\"Show matrix subset:\")\n",
    "kinase_distance_matrix_df.iloc[:5, :5]\n",
    "# NBVAL_CHECK_OUTPUT"
   ]
  },
  {
   "cell_type": "markdown",
   "metadata": {},
   "source": [
    "A kinase pair can be represented by many different structure pairs which are associated with different distance values. \n",
    "\n",
    "For example (in the demo mode), if we compare all EGFR structure to each other, the range of distance values is already quite high because we can observe different binding modes of the co-crystallized ligands."
   ]
  },
  {
   "cell_type": "code",
   "execution_count": 21,
   "metadata": {
    "tags": [
     "nbsphinx-thumbnail"
    ]
   },
   "outputs": [
    {
     "data": {
      "image/png": "[encoded data removed]",
      "text/plain": [
       "<Figure size 432x288 with 1 Axes>"
      ]
     },
     "metadata": {
      "needs_background": "light"
     },
     "output_type": "display_data"
    }
   ],
   "source": [
    "if DEMO:\n",
    "    example = \"EGFR\"\n",
    "else:\n",
    "    example = kinase_selection_df[\"kinase_klifs\"][0]\n",
    "\n",
    "# Select EGFR-EGFR structure pairs only\n",
    "D = kinase_distance_matrix_df.loc[example, example]\n",
    "# Extract all pairwise distances without identical structure pairs\n",
    "# = lower triangular matrix without the diagonal\n",
    "D_condensed = distance.squareform(D)\n",
    "# Plot pairwise distances\n",
    "plt.boxplot(D_condensed)\n",
    "plt.xticks([1], [example])\n",
    "plt.ylabel(\"Distance between structures\")\n",
    "plt.show()"
   ]
  },
  {
   "cell_type": "markdown",
   "metadata": {},
   "source": [
    "In this talktorial, we will consider per kinase pair the two structures that show the most similar binding mode for their co-crystallized ligands. Hence, we select the structure pair with the minimum IFP distance as representative for a kinase pair."
   ]
  },
  {
   "cell_type": "code",
   "execution_count": 22,
   "metadata": {},
   "outputs": [],
   "source": [
    "# We unstack the matrix (each pairwise comparison in a single row)\n",
    "# We group by kinase names (level=[0, 1] ensures that the order of the kinases is ignored\n",
    "# We take the minimum value in each kinase pair group\n",
    "# We unstack the remaining data points\n",
    "kinase_distance_matrix_df = (\n",
    "    kinase_distance_matrix_df.unstack().groupby(level=[0, 1]).min().unstack(level=1)\n",
    ")\n",
    "kinase_distance_matrix_df.index.name = None\n",
    "kinase_distance_matrix_df.columns.name = None"
   ]
  },
  {
   "cell_type": "code",
   "execution_count": 23,
   "metadata": {},
   "outputs": [
    {
     "name": "stdout",
     "output_type": "stream",
     "text": [
      "Structure matrix of shape (1466, 1466) reduced to kinase matrix of shape (9, 9).\n"
     ]
    }
   ],
   "source": [
    "print(\n",
    "    f\"Structure matrix of shape {structure_distance_matrix_df.shape} \"\n",
    "    f\"reduced to kinase matrix of shape {kinase_distance_matrix_df.shape}.\"\n",
    ")\n",
    "# NBVAL_CHECK_OUTPUT"
   ]
  },
  {
   "cell_type": "code",
   "execution_count": 24,
   "metadata": {},
   "outputs": [
    {
     "data": {
      "text/html": [
       "<style type=\"text/css\">\n",
       "#T_dd0ab_row0_col0, #T_dd0ab_row1_col1, #T_dd0ab_row2_col2, #T_dd0ab_row3_col3, #T_dd0ab_row4_col4, #T_dd0ab_row5_col5, #T_dd0ab_row6_col6, #T_dd0ab_row7_col7, #T_dd0ab_row8_col8 {\n",
       "  background-color: #ebf3eb;\n",
       "  color: #000000;\n",
       "}\n",
       "#T_dd0ab_row0_col1, #T_dd0ab_row2_col7, #T_dd0ab_row8_col0 {\n",
       "  background-color: #4ea64e;\n",
       "  color: #f1f1f1;\n",
       "}\n",
       "#T_dd0ab_row0_col2, #T_dd0ab_row4_col0, #T_dd0ab_row5_col3 {\n",
       "  background-color: #3f9f3f;\n",
       "  color: #f1f1f1;\n",
       "}\n",
       "#T_dd0ab_row0_col3 {\n",
       "  background-color: #49a449;\n",
       "  color: #f1f1f1;\n",
       "}\n",
       "#T_dd0ab_row0_col4 {\n",
       "  background-color: #4ba54a;\n",
       "  color: #f1f1f1;\n",
       "}\n",
       "#T_dd0ab_row0_col5, #T_dd0ab_row3_col4 {\n",
       "  background-color: #379b37;\n",
       "  color: #f1f1f1;\n",
       "}\n",
       "#T_dd0ab_row0_col6 {\n",
       "  background-color: #209020;\n",
       "  color: #f1f1f1;\n",
       "}\n",
       "#T_dd0ab_row0_col7 {\n",
       "  background-color: #1d8e1d;\n",
       "  color: #f1f1f1;\n",
       "}\n",
       "#T_dd0ab_row0_col8 {\n",
       "  background-color: #45a245;\n",
       "  color: #f1f1f1;\n",
       "}\n",
       "#T_dd0ab_row1_col0 {\n",
       "  background-color: #5eae5e;\n",
       "  color: #f1f1f1;\n",
       "}\n",
       "#T_dd0ab_row1_col2 {\n",
       "  background-color: #a6d2a6;\n",
       "  color: #000000;\n",
       "}\n",
       "#T_dd0ab_row1_col3 {\n",
       "  background-color: #319831;\n",
       "  color: #f1f1f1;\n",
       "}\n",
       "#T_dd0ab_row1_col4, #T_dd0ab_row2_col4 {\n",
       "  background-color: #82c082;\n",
       "  color: #000000;\n",
       "}\n",
       "#T_dd0ab_row1_col5, #T_dd0ab_row8_col2, #T_dd0ab_row8_col5 {\n",
       "  background-color: #80bf80;\n",
       "  color: #000000;\n",
       "}\n",
       "#T_dd0ab_row1_col6 {\n",
       "  background-color: #a2cfa2;\n",
       "  color: #000000;\n",
       "}\n",
       "#T_dd0ab_row1_col7 {\n",
       "  background-color: #5cad5c;\n",
       "  color: #f1f1f1;\n",
       "}\n",
       "#T_dd0ab_row1_col8 {\n",
       "  background-color: #61af61;\n",
       "  color: #f1f1f1;\n",
       "}\n",
       "#T_dd0ab_row2_col0 {\n",
       "  background-color: #68b368;\n",
       "  color: #f1f1f1;\n",
       "}\n",
       "#T_dd0ab_row2_col1 {\n",
       "  background-color: #b2d7b1;\n",
       "  color: #000000;\n",
       "}\n",
       "#T_dd0ab_row2_col3, #T_dd0ab_row8_col3 {\n",
       "  background-color: #81bf81;\n",
       "  color: #000000;\n",
       "}\n",
       "#T_dd0ab_row2_col5 {\n",
       "  background-color: #8ec58e;\n",
       "  color: #000000;\n",
       "}\n",
       "#T_dd0ab_row2_col6 {\n",
       "  background-color: #6eb66e;\n",
       "  color: #f1f1f1;\n",
       "}\n",
       "#T_dd0ab_row2_col8 {\n",
       "  background-color: #95c995;\n",
       "  color: #000000;\n",
       "}\n",
       "#T_dd0ab_row3_col0 {\n",
       "  background-color: #329832;\n",
       "  color: #f1f1f1;\n",
       "}\n",
       "#T_dd0ab_row3_col1, #T_dd0ab_row3_col5, #T_dd0ab_row3_col7, #T_dd0ab_row7_col0, #T_dd0ab_row7_col2, #T_dd0ab_row7_col3, #T_dd0ab_row7_col4, #T_dd0ab_row7_col6, #T_dd0ab_row7_col8 {\n",
       "  background-color: #008000;\n",
       "  color: #f1f1f1;\n",
       "}\n",
       "#T_dd0ab_row3_col2 {\n",
       "  background-color: #4ba54b;\n",
       "  color: #f1f1f1;\n",
       "}\n",
       "#T_dd0ab_row3_col6, #T_dd0ab_row7_col5 {\n",
       "  background-color: #198c19;\n",
       "  color: #f1f1f1;\n",
       "}\n",
       "#T_dd0ab_row3_col8 {\n",
       "  background-color: #6bb46b;\n",
       "  color: #f1f1f1;\n",
       "}\n",
       "#T_dd0ab_row4_col1 {\n",
       "  background-color: #6fb76f;\n",
       "  color: #f1f1f1;\n",
       "}\n",
       "#T_dd0ab_row4_col2, #T_dd0ab_row6_col4 {\n",
       "  background-color: #57ab57;\n",
       "  color: #f1f1f1;\n",
       "}\n",
       "#T_dd0ab_row4_col3 {\n",
       "  background-color: #43a143;\n",
       "  color: #f1f1f1;\n",
       "}\n",
       "#T_dd0ab_row4_col5 {\n",
       "  background-color: #cae3ca;\n",
       "  color: #000000;\n",
       "}\n",
       "#T_dd0ab_row4_col6 {\n",
       "  background-color: #349934;\n",
       "  color: #f1f1f1;\n",
       "}\n",
       "#T_dd0ab_row4_col7 {\n",
       "  background-color: #108810;\n",
       "  color: #f1f1f1;\n",
       "}\n",
       "#T_dd0ab_row4_col8 {\n",
       "  background-color: #d5e9d5;\n",
       "  color: #000000;\n",
       "}\n",
       "#T_dd0ab_row5_col0 {\n",
       "  background-color: #55a955;\n",
       "  color: #f1f1f1;\n",
       "}\n",
       "#T_dd0ab_row5_col1 {\n",
       "  background-color: #88c388;\n",
       "  color: #000000;\n",
       "}\n",
       "#T_dd0ab_row5_col2 {\n",
       "  background-color: #84c084;\n",
       "  color: #000000;\n",
       "}\n",
       "#T_dd0ab_row5_col4 {\n",
       "  background-color: #d1e6d1;\n",
       "  color: #000000;\n",
       "}\n",
       "#T_dd0ab_row5_col6 {\n",
       "  background-color: #61b061;\n",
       "  color: #f1f1f1;\n",
       "}\n",
       "#T_dd0ab_row5_col7 {\n",
       "  background-color: #50a750;\n",
       "  color: #f1f1f1;\n",
       "}\n",
       "#T_dd0ab_row5_col8 {\n",
       "  background-color: #8dc58d;\n",
       "  color: #000000;\n",
       "}\n",
       "#T_dd0ab_row6_col0 {\n",
       "  background-color: #3e9e3e;\n",
       "  color: #f1f1f1;\n",
       "}\n",
       "#T_dd0ab_row6_col1 {\n",
       "  background-color: #a6d1a6;\n",
       "  color: #000000;\n",
       "}\n",
       "#T_dd0ab_row6_col2, #T_dd0ab_row6_col5 {\n",
       "  background-color: #5fae5f;\n",
       "  color: #f1f1f1;\n",
       "}\n",
       "#T_dd0ab_row6_col3 {\n",
       "  background-color: #4da64d;\n",
       "  color: #f1f1f1;\n",
       "}\n",
       "#T_dd0ab_row6_col7 {\n",
       "  background-color: #3a9c3a;\n",
       "  color: #f1f1f1;\n",
       "}\n",
       "#T_dd0ab_row6_col8 {\n",
       "  background-color: #3c9d3c;\n",
       "  color: #f1f1f1;\n",
       "}\n",
       "#T_dd0ab_row7_col1 {\n",
       "  background-color: #359a35;\n",
       "  color: #f1f1f1;\n",
       "}\n",
       "#T_dd0ab_row8_col1 {\n",
       "  background-color: #5aac5a;\n",
       "  color: #f1f1f1;\n",
       "}\n",
       "#T_dd0ab_row8_col4 {\n",
       "  background-color: #d8ead8;\n",
       "  color: #000000;\n",
       "}\n",
       "#T_dd0ab_row8_col6 {\n",
       "  background-color: #299429;\n",
       "  color: #f1f1f1;\n",
       "}\n",
       "#T_dd0ab_row8_col7 {\n",
       "  background-color: #289328;\n",
       "  color: #f1f1f1;\n",
       "}\n",
       "</style>\n",
       "<table id=\"T_dd0ab\">\n",
       "  <thead>\n",
       "    <tr>\n",
       "      <th class=\"blank level0\" >&nbsp;</th>\n",
       "      <th id=\"T_dd0ab_level0_col0\" class=\"col_heading level0 col0\" >BRAF</th>\n",
       "      <th id=\"T_dd0ab_level0_col1\" class=\"col_heading level0 col1\" >CDK2</th>\n",
       "      <th id=\"T_dd0ab_level0_col2\" class=\"col_heading level0 col2\" >EGFR</th>\n",
       "      <th id=\"T_dd0ab_level0_col3\" class=\"col_heading level0 col3\" >ErbB2</th>\n",
       "      <th id=\"T_dd0ab_level0_col4\" class=\"col_heading level0 col4\" >KDR</th>\n",
       "      <th id=\"T_dd0ab_level0_col5\" class=\"col_heading level0 col5\" >LCK</th>\n",
       "      <th id=\"T_dd0ab_level0_col6\" class=\"col_heading level0 col6\" >MET</th>\n",
       "      <th id=\"T_dd0ab_level0_col7\" class=\"col_heading level0 col7\" >p110a</th>\n",
       "      <th id=\"T_dd0ab_level0_col8\" class=\"col_heading level0 col8\" >p38a</th>\n",
       "    </tr>\n",
       "  </thead>\n",
       "  <tbody>\n",
       "    <tr>\n",
       "      <th id=\"T_dd0ab_level0_row0\" class=\"row_heading level0 row0\" >BRAF</th>\n",
       "      <td id=\"T_dd0ab_row0_col0\" class=\"data row0 col0\" >0.000</td>\n",
       "      <td id=\"T_dd0ab_row0_col1\" class=\"data row0 col1\" >0.300</td>\n",
       "      <td id=\"T_dd0ab_row0_col2\" class=\"data row0 col2\" >0.278</td>\n",
       "      <td id=\"T_dd0ab_row0_col3\" class=\"data row0 col3\" >0.394</td>\n",
       "      <td id=\"T_dd0ab_row0_col4\" class=\"data row0 col4\" >0.364</td>\n",
       "      <td id=\"T_dd0ab_row0_col5\" class=\"data row0 col5\" >0.320</td>\n",
       "      <td id=\"T_dd0ab_row0_col6\" class=\"data row0 col6\" >0.368</td>\n",
       "      <td id=\"T_dd0ab_row0_col7\" class=\"data row0 col7\" >0.500</td>\n",
       "      <td id=\"T_dd0ab_row0_col8\" class=\"data row0 col8\" >0.333</td>\n",
       "    </tr>\n",
       "    <tr>\n",
       "      <th id=\"T_dd0ab_level0_row1\" class=\"row_heading level0 row1\" >CDK2</th>\n",
       "      <td id=\"T_dd0ab_row1_col0\" class=\"data row1 col0\" >0.300</td>\n",
       "      <td id=\"T_dd0ab_row1_col1\" class=\"data row1 col1\" >0.000</td>\n",
       "      <td id=\"T_dd0ab_row1_col2\" class=\"data row1 col2\" >0.111</td>\n",
       "      <td id=\"T_dd0ab_row1_col3\" class=\"data row1 col3\" >0.452</td>\n",
       "      <td id=\"T_dd0ab_row1_col4\" class=\"data row1 col4\" >0.238</td>\n",
       "      <td id=\"T_dd0ab_row1_col5\" class=\"data row1 col5\" >0.190</td>\n",
       "      <td id=\"T_dd0ab_row1_col6\" class=\"data row1 col6\" >0.133</td>\n",
       "      <td id=\"T_dd0ab_row1_col7\" class=\"data row1 col7\" >0.348</td>\n",
       "      <td id=\"T_dd0ab_row1_col8\" class=\"data row1 col8\" >0.278</td>\n",
       "    </tr>\n",
       "    <tr>\n",
       "      <th id=\"T_dd0ab_level0_row2\" class=\"row_heading level0 row2\" >EGFR</th>\n",
       "      <td id=\"T_dd0ab_row2_col0\" class=\"data row2 col0\" >0.278</td>\n",
       "      <td id=\"T_dd0ab_row2_col1\" class=\"data row2 col1\" >0.111</td>\n",
       "      <td id=\"T_dd0ab_row2_col2\" class=\"data row2 col2\" >0.000</td>\n",
       "      <td id=\"T_dd0ab_row2_col3\" class=\"data row2 col3\" >0.258</td>\n",
       "      <td id=\"T_dd0ab_row2_col4\" class=\"data row2 col4\" >0.238</td>\n",
       "      <td id=\"T_dd0ab_row2_col5\" class=\"data row2 col5\" >0.167</td>\n",
       "      <td id=\"T_dd0ab_row2_col6\" class=\"data row2 col6\" >0.227</td>\n",
       "      <td id=\"T_dd0ab_row2_col7\" class=\"data row2 col7\" >0.381</td>\n",
       "      <td id=\"T_dd0ab_row2_col8\" class=\"data row2 col8\" >0.174</td>\n",
       "    </tr>\n",
       "    <tr>\n",
       "      <th id=\"T_dd0ab_level0_row3\" class=\"row_heading level0 row3\" >ErbB2</th>\n",
       "      <td id=\"T_dd0ab_row3_col0\" class=\"data row3 col0\" >0.394</td>\n",
       "      <td id=\"T_dd0ab_row3_col1\" class=\"data row3 col1\" >0.452</td>\n",
       "      <td id=\"T_dd0ab_row3_col2\" class=\"data row3 col2\" >0.258</td>\n",
       "      <td id=\"T_dd0ab_row3_col3\" class=\"data row3 col3\" >0.000</td>\n",
       "      <td id=\"T_dd0ab_row3_col4\" class=\"data row3 col4\" >0.406</td>\n",
       "      <td id=\"T_dd0ab_row3_col5\" class=\"data row3 col5\" >0.419</td>\n",
       "      <td id=\"T_dd0ab_row3_col6\" class=\"data row3 col6\" >0.382</td>\n",
       "      <td id=\"T_dd0ab_row3_col7\" class=\"data row3 col7\" >0.571</td>\n",
       "      <td id=\"T_dd0ab_row3_col8\" class=\"data row3 col8\" >0.258</td>\n",
       "    </tr>\n",
       "    <tr>\n",
       "      <th id=\"T_dd0ab_level0_row4\" class=\"row_heading level0 row4\" >KDR</th>\n",
       "      <td id=\"T_dd0ab_row4_col0\" class=\"data row4 col0\" >0.364</td>\n",
       "      <td id=\"T_dd0ab_row4_col1\" class=\"data row4 col1\" >0.238</td>\n",
       "      <td id=\"T_dd0ab_row4_col2\" class=\"data row4 col2\" >0.238</td>\n",
       "      <td id=\"T_dd0ab_row4_col3\" class=\"data row4 col3\" >0.406</td>\n",
       "      <td id=\"T_dd0ab_row4_col4\" class=\"data row4 col4\" >0.000</td>\n",
       "      <td id=\"T_dd0ab_row4_col5\" class=\"data row4 col5\" >0.059</td>\n",
       "      <td id=\"T_dd0ab_row4_col6\" class=\"data row4 col6\" >0.333</td>\n",
       "      <td id=\"T_dd0ab_row4_col7\" class=\"data row4 col7\" >0.533</td>\n",
       "      <td id=\"T_dd0ab_row4_col8\" class=\"data row4 col8\" >0.043</td>\n",
       "    </tr>\n",
       "    <tr>\n",
       "      <th id=\"T_dd0ab_level0_row5\" class=\"row_heading level0 row5\" >LCK</th>\n",
       "      <td id=\"T_dd0ab_row5_col0\" class=\"data row5 col0\" >0.320</td>\n",
       "      <td id=\"T_dd0ab_row5_col1\" class=\"data row5 col1\" >0.190</td>\n",
       "      <td id=\"T_dd0ab_row5_col2\" class=\"data row5 col2\" >0.167</td>\n",
       "      <td id=\"T_dd0ab_row5_col3\" class=\"data row5 col3\" >0.419</td>\n",
       "      <td id=\"T_dd0ab_row5_col4\" class=\"data row5 col4\" >0.059</td>\n",
       "      <td id=\"T_dd0ab_row5_col5\" class=\"data row5 col5\" >0.000</td>\n",
       "      <td id=\"T_dd0ab_row5_col6\" class=\"data row5 col6\" >0.250</td>\n",
       "      <td id=\"T_dd0ab_row5_col7\" class=\"data row5 col7\" >0.375</td>\n",
       "      <td id=\"T_dd0ab_row5_col8\" class=\"data row5 col8\" >0.190</td>\n",
       "    </tr>\n",
       "    <tr>\n",
       "      <th id=\"T_dd0ab_level0_row6\" class=\"row_heading level0 row6\" >MET</th>\n",
       "      <td id=\"T_dd0ab_row6_col0\" class=\"data row6 col0\" >0.368</td>\n",
       "      <td id=\"T_dd0ab_row6_col1\" class=\"data row6 col1\" >0.133</td>\n",
       "      <td id=\"T_dd0ab_row6_col2\" class=\"data row6 col2\" >0.227</td>\n",
       "      <td id=\"T_dd0ab_row6_col3\" class=\"data row6 col3\" >0.382</td>\n",
       "      <td id=\"T_dd0ab_row6_col4\" class=\"data row6 col4\" >0.333</td>\n",
       "      <td id=\"T_dd0ab_row6_col5\" class=\"data row6 col5\" >0.250</td>\n",
       "      <td id=\"T_dd0ab_row6_col6\" class=\"data row6 col6\" >0.000</td>\n",
       "      <td id=\"T_dd0ab_row6_col7\" class=\"data row6 col7\" >0.429</td>\n",
       "      <td id=\"T_dd0ab_row6_col8\" class=\"data row6 col8\" >0.353</td>\n",
       "    </tr>\n",
       "    <tr>\n",
       "      <th id=\"T_dd0ab_level0_row7\" class=\"row_heading level0 row7\" >p110a</th>\n",
       "      <td id=\"T_dd0ab_row7_col0\" class=\"data row7 col0\" >0.500</td>\n",
       "      <td id=\"T_dd0ab_row7_col1\" class=\"data row7 col1\" >0.348</td>\n",
       "      <td id=\"T_dd0ab_row7_col2\" class=\"data row7 col2\" >0.381</td>\n",
       "      <td id=\"T_dd0ab_row7_col3\" class=\"data row7 col3\" >0.571</td>\n",
       "      <td id=\"T_dd0ab_row7_col4\" class=\"data row7 col4\" >0.533</td>\n",
       "      <td id=\"T_dd0ab_row7_col5\" class=\"data row7 col5\" >0.375</td>\n",
       "      <td id=\"T_dd0ab_row7_col6\" class=\"data row7 col6\" >0.429</td>\n",
       "      <td id=\"T_dd0ab_row7_col7\" class=\"data row7 col7\" >0.000</td>\n",
       "      <td id=\"T_dd0ab_row7_col8\" class=\"data row7 col8\" >0.474</td>\n",
       "    </tr>\n",
       "    <tr>\n",
       "      <th id=\"T_dd0ab_level0_row8\" class=\"row_heading level0 row8\" >p38a</th>\n",
       "      <td id=\"T_dd0ab_row8_col0\" class=\"data row8 col0\" >0.333</td>\n",
       "      <td id=\"T_dd0ab_row8_col1\" class=\"data row8 col1\" >0.278</td>\n",
       "      <td id=\"T_dd0ab_row8_col2\" class=\"data row8 col2\" >0.174</td>\n",
       "      <td id=\"T_dd0ab_row8_col3\" class=\"data row8 col3\" >0.258</td>\n",
       "      <td id=\"T_dd0ab_row8_col4\" class=\"data row8 col4\" >0.043</td>\n",
       "      <td id=\"T_dd0ab_row8_col5\" class=\"data row8 col5\" >0.190</td>\n",
       "      <td id=\"T_dd0ab_row8_col6\" class=\"data row8 col6\" >0.353</td>\n",
       "      <td id=\"T_dd0ab_row8_col7\" class=\"data row8 col7\" >0.474</td>\n",
       "      <td id=\"T_dd0ab_row8_col8\" class=\"data row8 col8\" >0.000</td>\n",
       "    </tr>\n",
       "  </tbody>\n",
       "</table>\n"
      ],
      "text/plain": [
       "<pandas.io.formats.style.Styler at 0x172761580>"
      ]
     },
     "execution_count": 24,
     "metadata": {},
     "output_type": "execute_result"
    }
   ],
   "source": [
    "# Show matrix with background gradient\n",
    "cm = sns.light_palette(\"green\", as_cmap=True)\n",
    "kinase_distance_matrix_df.style.background_gradient(cmap=cm).format(\"{:.3f}\")"
   ]
  },
  {
   "cell_type": "markdown",
   "metadata": {},
   "source": [
    "Note: Since this is a distance matrix, lighter colors indicate similarity, darker colors dissimilarity."
   ]
  },
  {
   "cell_type": "markdown",
   "metadata": {
    "tags": []
   },
   "source": [
    "### Save kinase distance matrix"
   ]
  },
  {
   "cell_type": "code",
   "execution_count": 25,
   "metadata": {},
   "outputs": [],
   "source": [
    "kinase_distance_matrix_df.to_csv(DATA / \"kinase_distance_matrix.csv\")"
   ]
  },
  {
   "cell_type": "markdown",
   "metadata": {
    "jp-MarkdownHeadingCollapsed": true,
    "tags": []
   },
   "source": [
    "## Discussion\n",
    "\n",
    "In this talktorial, we have used the KLIFS interaction fingerprints, which describe binding modes of co-crystallized ligands in kinase structures, to assess kinase similarity.\n",
    "\n",
    "We have to keep two elements in mind:\n",
    "\n",
    "- Interaction fingerprints may miss important key interactions if the co-crystallized ligand(s) simply do not form the interaction but other ligands might.\n",
    "- We only compare here the two closest binding modes per kinase pair, although we have &mdash; for kinases such as EGFR and CDK2 &mdash; much more data available on binding modes. As an alternative, one could instead aggregate the information from multiple binding modes per kinase in a fingerprint that reports all interactions seen in any structure. However, this approach has its own drawbacks: Some kinases have much higher coverage than others, leading to an imbalance in information content.\n",
    "\n",
    "The kinase distance matrix above will be reloaded in __Talktorial T028__, where we compare kinase similarities from different perspectives, including the interaction perspective we have talked about in this talktorial."
   ]
  },
  {
   "cell_type": "markdown",
   "metadata": {},
   "source": [
    "## Quiz\n",
    "\n",
    "1. What are the advantages and disadvantages of describing kinase similarity with interaction fingerprints?\n",
    "2. Why is the structural coverage between kinases so different?\n",
    "3. At one point, we are mapping structure pairs to kinase pairs. We use here the minimum structure distance. What other mapping strategies can you think of? What advantages and disadvantages could they have?"
   ]
  }
 ],
 "metadata": {
  "kernelspec": {
   "display_name": "Python 3 (ipykernel)",
   "language": "python",
   "name": "python3"
  },
  "language_info": {
   "codemirror_mode": {
    "name": "ipython",
    "version": 3
   },
   "file_extension": ".py",
   "mimetype": "text/x-python",
   "name": "python",
   "nbconvert_exporter": "python",
   "pygments_lexer": "ipython3",
   "version": "3.9.13"
  },
  "toc-autonumbering": true,
  "widgets": {
   "application/vnd.jupyter.widget-state+json": {
    "state": {},
    "version_major": 2,
    "version_minor": 0
   }
  }
 },
 "nbformat": 4,
 "nbformat_minor": 4
}
