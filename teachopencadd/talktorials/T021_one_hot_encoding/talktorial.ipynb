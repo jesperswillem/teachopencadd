{
 "cells": [
  {
   "cell_type": "markdown",
   "metadata": {},
   "source": [
    "# T021 · One-Hot Encoding\n",
    "\n",
    "Developed in the CADD seminar 2020, Volkamer Lab, Charité/FU Berlin \n",
    "\n",
    "**Note:** This talktorial is a part of TeachOpenCADD, a platform that aims to teach domain-specific skills and to provide pipeline templates as starting points for research projects.\n",
    "\n",
    "Authors:\n",
    "\n",
    "- Sakshi Misra, CADD seminar 2020, Charité/FU Berlin\n",
    "- Talia B. Kimber, 2020, [Volkamer lab](https://volkamerlab.org), Charité\n",
    "- Yonghui Chen, 2020, [Volkamer lab](https://volkamerlab.org), Charité\n",
    "- Andrea Volkamer, 2020, [Volkamer lab](https://volkamerlab.org), Charité"
   ]
  },
  {
   "cell_type": "markdown",
   "metadata": {},
   "source": [
    "## Aim of this talktorial\n",
    "\n",
    "The aim of the talktorial is to perform one-hot encoding of SMILES structures on a subset of the ChEMBL data set to gain a deeper understanding on the one-hot encoding concept and why it is useful as a pre-processing step in various machine learning algorithms."
   ]
  },
  {
   "cell_type": "markdown",
   "metadata": {},
   "source": [
    "### Contents in *Theory*\n",
    "\n",
    "- Molecular data and representation\n",
    "    - ChEMBL database\n",
    "    - SMILES structures and rules\n",
    "- What is categorical data?\n",
    "     - What is the problem with categorical data?\n",
    "     - How to convert categorical data to numerical data?\n",
    "- The One-Hot Encoding (OHE) concept\n",
    "     - Why using one-hot encoding?\n",
    "     - Example of one-hot encoding\n",
    "     - Advantages and disadvantages of one-hot encoding\n",
    "- Similar: Integer or label encoding\n",
    "- What is *padding*?\n",
    "- Further readings"
   ]
  },
  {
   "cell_type": "markdown",
   "metadata": {},
   "source": [
    "### Contents in *Practical*\n",
    "\n",
    "- Import necessary packages\n",
    "- Read the input data\n",
    "- Process the data\n",
    "     - Double digit replacement\n",
    "     - Compute longest (& shortest) SMILES\n",
    "- Python one-hot encoding implementation\n",
    "     - One-hot encode (padding=True)\n",
    "     - Visualization\n",
    "          - Shortest SMILES\n",
    "          - Longest SMILES \n",
    "- Supplementary material\n",
    "   - Scikit learn implementation\n",
    "   - Keras implementation"
   ]
  },
  {
   "cell_type": "markdown",
   "metadata": {},
   "source": [
    "## References\n",
    "\n",
    "- Theoretical background:\n",
    "     - ChEMBL database: \"The ChEMBL bioactivity database: an update.\" ([<i>Nucleic acids research<i> (2014), <b>42.D1</b>, D1083-D1090](https://doi.org/10.1093/nar/gkt1031))\n",
    "     - Allen Chieng Hoon Choong, Nung Kion Lee, \"*Evaluation of Convolutionary Neural Networks Modeling of DNA Sequences using Ordinal versus one-hot Encoding Method*\", [bioRxiv, October 25, 2017](https://doi.org/10.1101/186965).\n",
    "     - Patricio Cerda, Gael Varoquaux, \"*Encoding high-cardinality string categorical variables*\", [arXiv:1907, 18 May 2020](https://arxiv.org/pdf/1907.01860v5.pdf).\n",
    "     - Blogpost: Jason Brownlee, *How to One Hot Encode Sequence Data in Python*, [Machine Learning Mastery, accessed November 9th, 2020](https://machinelearningmastery.com/how-to-one-hot-encode-sequence-data-in-python/).\n",
    "     - Blogpost: Krishna Kumar Mahto, *One-Hot-Encoding, Multicollinearity and the Dummy Variable Trap*, towardsdatascience, Available from [one-hot-encoding-multicollinearity](https://towardsdatascience.com/one-hot-encoding-multicollinearity-and-the-dummy-variable-trap-b5840be3c41a/), accessed July 8th, 2019.\n",
    "     - Blogpost: Chris, *What is padding in a neural network?*, MachineCurve, [Padding](https://www.machinecurve.com/index.php/2020/02/07/what-is-padding-in-a-neural-network/#:~:text=Padding%20avoids%20the%20loss%20of%20spatial%20dimensions,-Sometimes%2C%20however%2C%20you&text=You%20need%20the%20output%20images,in%20order%20to%20generate%20them.) section, accessed February 7th, 2020\n",
    "     \n",
    "\n",
    "- Packages and functions:\n",
    "     - [**RDKit**](https://www.rdkit.org/docs/GettingStartedInPython.html): Greg Landrum,  *RDKit Documentation*, [PDF](https://buildmedia.readthedocs.org/media/pdf/rdkit/latest/rdkit.pdf), Release on 2019.09.1.\n",
    "     - [**Scikit-learn**](https://scikit-learn.org/stable/): \n",
    "        - [Scikit-learn: Machine Learning in Python](https://jmlr.csail.mit.edu/papers/v12/pedregosa11a.html), Pedregosa *et al.*, JMLR 12, pp. 2825-2830, 2011.\n",
    "        - Jiangang Hao, et al. \"A Review of Scikit-learn Package in Python Programming Language.\" [*Journal of Education and Behavioral Statistics* **Volume: 44 issue: 3** (2019), page(s): 348-361](https://doi.org/10.3102/1076998619832248)\n",
    "     - [**Keras**](https://keras.io/): Book chapter: \"An Introduction to Deep Learning and Keras\" in [*Learn Keras for Deep Neural Networks* (2019), **page(s):1-16**](https://doi.org/10.1007/978-1-4842-4240-7).\n",
    "     - [**Matplotlib**](https://matplotlib.org/)\n",
    "     - `smiles encoder` function: Blogpost by iwatobipen, *encode and decode SMILES strings* , [Wordpress, accessed November 9th, 2020](https://iwatobipen.wordpress.com/2017/01/22/encode-and-decode-smiles-strings/)"
   ]
  },
  {
   "cell_type": "markdown",
   "metadata": {},
   "source": [
    "## Theory"
   ]
  },
  {
   "cell_type": "markdown",
   "metadata": {},
   "source": [
    "### Molecular data and representation"
   ]
  },
  {
   "cell_type": "markdown",
   "metadata": {},
   "source": [
    "#### ChEMBL database\n",
    "\n",
    "- [ChEMBL](https://www.ebi.ac.uk/chembl/) is an open large-scale bioactivity database, containing molecules with drug-like properties. \n",
    "- The recent release (version 25) contains information extracted from  more than $72,000$ documents. In total, there are now more than $1.8$ million compounds and $15$ million bioactivity data points available.\n",
    "- It is maintained by [European Bioinformatics Institute](https://en.wikipedia.org/wiki/European_Bioinformatics_Institute). Please refer to __Talktorial T001__ for more details."
   ]
  },
  {
   "cell_type": "markdown",
   "metadata": {},
   "source": [
    "#### SMILES structures and rules\n",
    "\n",
    "- [SMILES](https://en.wikipedia.org/wiki/Simplified_molecular-input_line-entry_system) (Simplified Molecular Input Line Entry System) notation is a chemical notation that allows a user to represent a chemical structure of a molecule in a linear way that can be read by the computer (see \"Modern Aspects of the Smiles Rearrangement\" (2017), [*Chemistry A European Journal*, **Volume23, Issue38**, 8992-9008](https://doi.org/10.1002/chem.201700353) for further information).\n",
    "- It contains a sequence of letters, numbers and characters that specify a molecule's atoms, their connectivity, bond order and chirality."
   ]
  },
  {
   "cell_type": "markdown",
   "metadata": {},
   "source": [
    "**Some SMILES specification rules**\n",
    "\n",
    "- **Atoms** - are represented by their atomic symbols. Also metal atoms are represented with symbols in square bracket, e.g. Gold `[Au]`.\n",
    "- **Bonds** - single, double and triple bonds are represented by symbols `-`, `=` and `#`, respectively. Single bonds are the default and therefore do not need to be specified. \n",
    "- **Aromaticity** - While atomic symbols are generally used in upper case, such as `C`, `O`, `S` and `N`; to specify aromatic atoms lower case symbols are used instead, such as `c`, `o`, `s` and `n`. Sometimes implicit bonds in rings (alternating `=` and `-`) are also used to describe aromatic atoms such as `C1=CC=CC=C1`.\n",
    "- **Rings** - SMILES allows a user to identify ring structures by using numbers to identify the opening and closing ring atom. For example, in `C1CCCCC1`, the first carbon has a number \"1\" which connects by a single bond with the last carbon which also has a number \"1\". The resulting structure is cyclohexane.\n",
    "- **Branches** - are specified by enclosing them in parentheses, and can be nested or arranged. For example, 2-Propanol is represented by `CC(O)C`."
   ]
  },
  {
   "cell_type": "markdown",
   "metadata": {},
   "source": [
    "### What is categorical data?\n",
    "\n",
    "Categorical data are variables that contain labels rather than numeric values.\n",
    "Some examples include:\n",
    "\n",
    "- A \"pet” variable with the values: \"dog” and \"cat\".\n",
    "- A \"color” variable with the values: \"red\", \"green” and \"blue\".\n",
    "- A \"place” variable with the values: \"first”, \"second” and \"third\"."
   ]
  },
  {
   "cell_type": "markdown",
   "metadata": {},
   "source": [
    "#### What is the problem with categorical data?\n",
    "\n",
    "Machine learning consists of mathematical operations translated to a computer via low-level programming languages. Computers are brilliant when dealing with numbers. So we must somehow convert our input data to numbers. \n",
    "There are many machine learning algorithms which cannot operate on categorical data directly. Thus, categorical data must be converted to a numerical form, that all input and output variables are numeric (see [**Blogpost**](https://www.analyticsvidhya.com/blog/2020/03/one-hot-encoding-vs-label-encoding-using-scikit-learn/): Alakh Sethi, *One-Hot Encoding vs. Label Encoding using Scikit-Learn* , Analytics Vidya, accessed March 6th, 2020 for further information).\n",
    "\n",
    "![Computer data](./images/computer_data.jpeg)\n",
    "\n",
    "*Figure 1*: Displays the categorical encoding required for computers to understand the input. The figure comes from this [blogpost](https://www.analyticsvidhya.com/blog/2020/03/one-hot-encoding-vs-label-encoding-using-scikit-learn/)."
   ]
  },
  {
   "cell_type": "markdown",
   "metadata": {},
   "source": [
    "#### How to convert categorical data to numerical data?\n",
    "\n",
    "There are many ways to convert categorical values into numerical values. Each approach has its own positive and negative impact on the feature set. Hereby, two main methods will be the focus: *One-hot* encoding and *Label* encoding.\n",
    "Both of these encoders are part of the [scikit-learn](https://scikit-learn.org/stable/modules/generated/sklearn.preprocessing.LabelEncoder.html) library (one of the most widely used Python libraries) and are used to convert text or categorical data into numerical data which the model expects and and can work with."
   ]
  },
  {
   "cell_type": "markdown",
   "metadata": {},
   "source": [
    "### The *One-Hot Encoding* (OHE) concept\n",
    "\n",
    "The one-hot encoding is a vector representation where all the elements of the vector are set to `0` except one, which has `1` as its value. For example, `[0 0 0 1 0 0]` is a one-hot vector.\n",
    "Simply put, one-hot encoding, also known as binary encoding, is a binary representation of categorical variables as binary vectors. \n",
    "\n",
    "The figure shown below helps us gain an overall idea of the one-hot encoding concept. \n",
    "\n",
    "![One Hot encoding](./images/OneHotEncoding.png)\n",
    "\n",
    "*Figure 2* : Displays the one-hot encoding of the toluene molecule. Figure taken from the article [<i>BMC Bioinformatics.</i> (2018), <b>19</b>,526](https://doi.org/10.1186/s12859-018-2523-5), more information can be found there.\n",
    " \n",
    "\n",
    "Let us take a deeper look into the concept with the help of a simple example that will describe the basic concept of one-hot encoding, why it is useful and how one can approach it."
   ]
  },
  {
   "cell_type": "markdown",
   "metadata": {},
   "source": [
    "#### Why using one-hot encoding?\n",
    "\n",
    "One-hot encoding allows the representation of categorical data to be more expressive.\n",
    "It is difficult for many machine learning algorithms to work with categorical data directly that's why the label values which are categorical must be converted into numbers first as a preprocessing step. This is required for both input and output variables that are categorical.\n",
    "\n",
    "We could also use an *integer encoding* directly. This may work for problems where there is a natural ordinal relationship between the categories, and in turn the integer values, such as labels for temperature \"cold\", \"warm\", and \"hot\".\n",
    "There may be problems when there is no ordinal relationship and allowing the representation to lean on any such relationship by using integer encoding might be not useful to solve the problem. An example might be the labels \"dog\" and \"cat\"."
   ]
  },
  {
   "cell_type": "markdown",
   "metadata": {},
   "source": [
    "#### Example of one-hot encoding\n",
    "\n",
    "Let us take a look at a very simple example to understand this concept. Assume we have the \"color\" variable which has three labels `red` , `blue` and `green`.\n",
    "All these labels must be converted into numeric form in order to work with our machine learning algorithm. This can be done by creating three new columns having all three labels and use `1` for the color of the respective label and `0` for the other colors as shown in Figure 4.\n",
    "\n",
    "![One Hot Encoding](images/OneHotEncoding_eg.png)\n",
    "\n",
    "*Figure 3* : The visual demonstration of one-hot encoding done on the variable \"color\". Figure taken from the article: \"*Building a One Hot Encoding Layer with TensorFlow*\", George Novack, [towardsdatascience](https://towardsdatascience.com/building-a-one-hot-encoding-layer-with-tensorflow-f907d686bf39), more details can be found there."
   ]
  },
  {
   "cell_type": "markdown",
   "metadata": {},
   "source": [
    "####  Advantages and disadvantages of one-hot encoding \n",
    "\n",
    "**Advantages**\n",
    "-  If the cardinality (the number of categories) of the categorical features is low (relative to the amount of data), one-hot encoding will work best.\n",
    "-  One-hot encoding has the advantage that the result is binary rather than ordinal and that everything sits in an orthogonal vector space.\n",
    "\n",
    "**Disadvantages**\n",
    "-  Increase in dimensionality, after adding several columns based on categorical variables which may result in an increase in the computational cost.\n",
    "- There is a high chance of multi-collinearity due to dummy variables (unique category added as a feature) which can affect the performance of the model.\n",
    "-  One-hot encoding can result in increasing the [sparsity](https://en.wikipedia.org/wiki/Sparse_matrix) of a data set (a sparse matrix is a matrix in which most of the elements are zero)."
   ]
  },
  {
   "cell_type": "markdown",
   "metadata": {},
   "source": [
    "### Similar: Integer or label encoding\n",
    "\n",
    "[Label Encoding](https://scikit-learn.org/stable/modules/generated/sklearn.preprocessing.LabelEncoder.html), or integer encoding, is a popular encoding technique for handling categorical variables and is easily reversible. In this technique, each label is assigned a unique integer based on alphabetical ordering, so that machines can work with it properly.\n",
    "Machine learning algorithms can then decide in a better way on how labels must be operated on.\n",
    "It is an important preprocessing step for structured data sets in supervised learning."
   ]
  },
  {
   "cell_type": "markdown",
   "metadata": {},
   "source": [
    "**Example of integer encoding**\n",
    "\n",
    "Let us use a similar example as above: We have a color variable and we can assign `red` as `0`, `green` as `1`, and `blue` as `2` as shown in Figure 5.\n",
    "\n",
    "![OneHotEncoding Example](./images/label_encoding_example.png)\n",
    "\n",
    "*Figure 5* : The visual demonstration of label encoding done on the variable \"color\". Figure taken from the article: \"*Know about Categorical Encoding, even New Ones!*\", Ahmed Othmen, [towardsdatascience](https://towardsdatascience.com/know-about-categorical-encoding-even-new-ones-c266227b9cbd), more details can be found there.\n"
   ]
  },
  {
   "cell_type": "markdown",
   "metadata": {},
   "source": [
    "**Difference between label and one-hot encoding**\n",
    "\n",
    "There is not much difference between these two encoding techniques, it mainly depends on the type of data and model used. For example, if we have categorical features which are not ordinal (dog or cat) then we can use one-hot encoding. Label encoding works best with ordinal data like `good=0, better=1, best=2`.\n",
    "Also when there are many categorical variables then it might be good to choose label encoding just to avoid high memory consumption and sparsity."
   ]
  },
  {
   "cell_type": "markdown",
   "metadata": {},
   "source": [
    "### What is *padding*? \n",
    "\n",
    "Padding is used to add zeros to the resulted one-hot encoded matrix. There are different types of padding, we chose to performed zero padding in here. For more details, please refer to this [Blogpost](https://www.machinecurve.com/index.php/2020/02/07/what-is-padding-in-a-neural-network/#:~:text=Padding%20avoids%20the%20loss%20of%20spatial%20dimensions,-Sometimes%2C%20however%2C%20you&text=You%20need%20the%20output%20images,in%20order%20to%20generate%20them.).\n",
    "\n",
    "**Why is it performed?**\n",
    "\n",
    "Padding is performed to make the dimensions of the matrix equal - or to preserve the height and the width - and to not have to worry too much about tensor dimensions when used as an input for the deep learning models.\n",
    "\n",
    "\n",
    "**How is it performed?**\n",
    "\n",
    "Padding can be performed by using the [numpy.pad](https://numpy.org/doc/stable/reference/generated/numpy.pad.html) function which takes several parameters like the `array` which needs to be padded, `pad_width` which is number of values added to the edges of each axis and `mode` which by default is \"constant\".\n",
    "\n",
    "In this talktorial, *padding* is performed\n",
    "\n",
    "- *implicitly*: when applying one-hot encoding using a python implementation on the preprocessed data, where we have given the maximum length of the string as the parameter so that all the resulting one-hot encoded matrices are of the same dimension\n",
    "- *explicitly*: More info on this can be found in the **supplementary section**, where we apply one-hot encoding using *keras* and *scikit-learn* implementations."
   ]
  },
  {
   "cell_type": "markdown",
   "metadata": {},
   "source": [
    "### Further readings\n",
    "\n",
    "This section lists some resources for further reading:\n",
    "\n",
    "- [What is one-hot encoding and when is it used in data science?](https://www.quora.com/What-is-one-hot-encoding-and-when-is-it-used-in-data-science)\n",
    "- [Categorical encoding using Label-Encoding and One-Hot-Encoder](https://towardsdatascience.com/categorical-encoding-using-label-encoding-and-one-hot-encoder-911ef77fb5bd#:~:text=One%2DHot%20Encoding%20in%20Python&text=OneHotEncoder%20from%20SciKit%20library%20only,apply%20OneHotEncoder%20on%20column%20Bridge_Types_Cat.)\n",
    "- Hirohara, M., Saito, Y., Koda, Y. et al. Convolutional neural network based on SMILES representation of compounds for detecting chemical motif. [_BMC Bioinformatics_ **19**, 526 (2018)](https://doi.org/10.1186/s12859-018-2523-5)\n",
    "- [How one can use matplotlib.pyplot.imshow() in Python](https://www.geeksforgeeks.org/matplotlib-pyplot-imshow-in-python/)"
   ]
  },
  {
   "cell_type": "markdown",
   "metadata": {},
   "source": [
    "## Practical"
   ]
  },
  {
   "cell_type": "markdown",
   "metadata": {},
   "source": [
    "### Import necessary packages"
   ]
  },
  {
   "cell_type": "code",
   "execution_count": 1,
   "metadata": {},
   "outputs": [],
   "source": [
    "from pathlib import Path\n",
    "from warnings import filterwarnings\n",
    "\n",
    "import pandas as pd\n",
    "import numpy as np\n",
    "from rdkit import Chem\n",
    "from rdkit.Chem import Draw, PandasTools\n",
    "from sklearn.preprocessing import LabelEncoder\n",
    "from sklearn.preprocessing import OneHotEncoder\n",
    "from tensorflow import keras\n",
    "from tensorflow.keras.utils import to_categorical\n",
    "from tensorflow.keras.preprocessing.text import Tokenizer\n",
    "import matplotlib.pyplot as plt\n",
    "\n",
    "# Silence some expected warnings\n",
    "filterwarnings(\"ignore\")"
   ]
  },
  {
   "cell_type": "code",
   "execution_count": 2,
   "metadata": {},
   "outputs": [],
   "source": [
    "# Set path to this notebook\n",
    "HERE = Path(_dh[-1])\n",
    "DATA = HERE / \"data\""
   ]
  },
  {
   "cell_type": "markdown",
   "metadata": {},
   "source": [
    "### Read the input data\n",
    "\n",
    "Using the Pandas library, we first load the subset of the ChEMBL data set and draw the molecules using the `rdkit.draw` function. We then preprocess the data and apply our `one-hot encoding` python implementation.\n",
    "\n",
    "Let's load the data and quickly analyze its column values and check if there are any missing values:"
   ]
  },
  {
   "cell_type": "code",
   "execution_count": 3,
   "metadata": {},
   "outputs": [
    {
     "name": "stdout",
     "output_type": "stream",
     "text": [
      "Shape of dataframe: (3905, 5)\n",
      "\n"
     ]
    }
   ],
   "source": [
    "df = pd.read_csv(DATA / \"CHEMBL25_activities_EGFR.csv\", index_col=0).reset_index(drop=True)\n",
    "print(f\"Shape of dataframe: {df.shape}\\n\")\n",
    "# NBVAL_CHECK_OUTPUT"
   ]
  },
  {
   "cell_type": "markdown",
   "metadata": {},
   "source": [
    "Check the dimension and missing value of the data"
   ]
  },
  {
   "cell_type": "code",
   "execution_count": 4,
   "metadata": {},
   "outputs": [
    {
     "name": "stdout",
     "output_type": "stream",
     "text": [
      "<class 'pandas.core.frame.DataFrame'>\n",
      "RangeIndex: 3905 entries, 0 to 3904\n",
      "Data columns (total 5 columns):\n",
      " #   Column            Non-Null Count  Dtype  \n",
      "---  ------            --------------  -----  \n",
      " 0   chembl_id         3905 non-null   object \n",
      " 1   IC50              3905 non-null   float64\n",
      " 2   units             3905 non-null   object \n",
      " 3   canonical_smiles  3905 non-null   object \n",
      " 4   pIC50             3905 non-null   float64\n",
      "dtypes: float64(2), object(3)\n",
      "memory usage: 152.7+ KB\n"
     ]
    }
   ],
   "source": [
    "df.info()"
   ]
  },
  {
   "cell_type": "markdown",
   "metadata": {},
   "source": [
    "Look at the first 3 rows"
   ]
  },
  {
   "cell_type": "code",
   "execution_count": 5,
   "metadata": {},
   "outputs": [
    {
     "data": {
      "text/html": [
       "<div>\n",
       "<style scoped>\n",
       "    .dataframe tbody tr th:only-of-type {\n",
       "        vertical-align: middle;\n",
       "    }\n",
       "\n",
       "    .dataframe tbody tr th {\n",
       "        vertical-align: top;\n",
       "    }\n",
       "\n",
       "    .dataframe thead th {\n",
       "        text-align: right;\n",
       "    }\n",
       "</style>\n",
       "<table border=\"1\" class=\"dataframe\">\n",
       "  <thead>\n",
       "    <tr style=\"text-align: right;\">\n",
       "      <th></th>\n",
       "      <th>chembl_id</th>\n",
       "      <th>IC50</th>\n",
       "      <th>units</th>\n",
       "      <th>canonical_smiles</th>\n",
       "      <th>pIC50</th>\n",
       "    </tr>\n",
       "  </thead>\n",
       "  <tbody>\n",
       "    <tr>\n",
       "      <th>0</th>\n",
       "      <td>CHEMBL207869</td>\n",
       "      <td>77.0</td>\n",
       "      <td>nM</td>\n",
       "      <td>Clc1c(OCc2cc(F)ccc2)ccc(Nc2c(C#Cc3ncccn3)cncn2)c1</td>\n",
       "      <td>7.113509</td>\n",
       "    </tr>\n",
       "    <tr>\n",
       "      <th>1</th>\n",
       "      <td>CHEMBL3940060</td>\n",
       "      <td>330.0</td>\n",
       "      <td>nM</td>\n",
       "      <td>ClCC(=O)OCCN1C(=O)Oc2c1cc1c(Nc3cc(Cl)c(F)cc3)n...</td>\n",
       "      <td>6.481486</td>\n",
       "    </tr>\n",
       "    <tr>\n",
       "      <th>2</th>\n",
       "      <td>CHEMBL3678951</td>\n",
       "      <td>1.0</td>\n",
       "      <td>nM</td>\n",
       "      <td>FC(F)(F)c1cc(Nc2n(C(C)C)c3nc(Nc4ccc(N5CC[NH+](...</td>\n",
       "      <td>9.000000</td>\n",
       "    </tr>\n",
       "  </tbody>\n",
       "</table>\n",
       "</div>"
      ],
      "text/plain": [
       "       chembl_id   IC50 units  \\\n",
       "0   CHEMBL207869   77.0    nM   \n",
       "1  CHEMBL3940060  330.0    nM   \n",
       "2  CHEMBL3678951    1.0    nM   \n",
       "\n",
       "                                    canonical_smiles     pIC50  \n",
       "0  Clc1c(OCc2cc(F)ccc2)ccc(Nc2c(C#Cc3ncccn3)cncn2)c1  7.113509  \n",
       "1  ClCC(=O)OCCN1C(=O)Oc2c1cc1c(Nc3cc(Cl)c(F)cc3)n...  6.481486  \n",
       "2  FC(F)(F)c1cc(Nc2n(C(C)C)c3nc(Nc4ccc(N5CC[NH+](...  9.000000  "
      ]
     },
     "execution_count": 5,
     "metadata": {},
     "output_type": "execute_result"
    }
   ],
   "source": [
    "df.head(3)\n",
    "# NBVAL_CHECK_OUTPUT"
   ]
  },
  {
   "cell_type": "markdown",
   "metadata": {},
   "source": [
    "Select the columns which are necessary for our study"
   ]
  },
  {
   "cell_type": "code",
   "execution_count": 6,
   "metadata": {},
   "outputs": [],
   "source": [
    "df = df[[\"chembl_id\", \"canonical_smiles\"]]"
   ]
  },
  {
   "cell_type": "markdown",
   "metadata": {},
   "source": [
    "We can visualize the molecules with their ChEMBL ID using pandas tools and the `draw` method as shown below."
   ]
  },
  {
   "cell_type": "code",
   "execution_count": 7,
   "metadata": {
    "tags": [
     "nbsphinx-thumbnail"
    ]
   },
   "outputs": [
    {
     "data": {
      "image/png": "[encoded data removed]",
      "text/plain": [
       "<IPython.core.display.Image object>"
      ]
     },
     "execution_count": 7,
     "metadata": {},
     "output_type": "execute_result"
    }
   ],
   "source": [
    "# Using PandasTools and the respective Draw method\n",
    "PandasTools.AddMoleculeColumnToFrame(df, smilesCol=\"canonical_smiles\", molCol=\"Mol2D\")\n",
    "Draw.MolsToGridImage(list(df.Mol2D[0:10]), legends=list(df.chembl_id[0:20]), molsPerRow=5)"
   ]
  },
  {
   "cell_type": "markdown",
   "metadata": {},
   "source": [
    "### Process the data\n",
    "\n",
    "SMILES preprocessing: Since in SMILES representation, atoms can be described by one or two characters (depending on the periodic element they represent) while the machine will read the input position-wise, we convert the SMILES in a chemical-aware representation.\n",
    "\n",
    "- First, we search for all unique characters present in the current data set, which allows us to remove the characters which are not present in the current data.\n",
    "\n",
    "- Second, we search for all double-character elements in our SMILES data set by comparing the atoms present in our strings with all the possible elements present in the periodic table and replacing all the two alphabetic elements by *artificially* selected characters, for example changing `Cl` to `L`.\n",
    "\n",
    "For padding:\n",
    "\n",
    "- SMILES strings have unequal dimension since their string length differ. For machine learning application, having equal dimension throughout the data set is required. In order to achieve this, we can first search for the SMILES string with the maximum length (e.g. [len()](https://www.geeksforgeeks.org/python-string-length-len/) method) and pass it as an argument in our function for all the strings."
   ]
  },
  {
   "cell_type": "markdown",
   "metadata": {},
   "source": [
    "#### Double digit replacement"
   ]
  },
  {
   "cell_type": "code",
   "execution_count": 8,
   "metadata": {},
   "outputs": [],
   "source": [
    "def assess_two_letter_elements(df):\n",
    "    \"\"\"\n",
    "    Find the two letter elements in dataframe.\n",
    "\n",
    "    Parameters\n",
    "    ----------\n",
    "    df : pandas.DataFrame\n",
    "        Dataframe which requires preprocessing.\n",
    "\n",
    "    Returns\n",
    "    -------\n",
    "    two_letter_elements : list\n",
    "        List with found two letter elements\n",
    "    \"\"\"\n",
    "\n",
    "    # Search for unique characters in SMILES strings\n",
    "    unique_chars = set(df.canonical_smiles.apply(list).sum())\n",
    "    # Get upper and lower case letters only\n",
    "    upper_chars = []\n",
    "    lower_chars = []\n",
    "    for entry in unique_chars:\n",
    "        if entry.isalpha():\n",
    "            if entry.isupper():\n",
    "                upper_chars.append(entry)\n",
    "            elif entry.islower():\n",
    "                lower_chars.append(entry)\n",
    "    print(f\"Upper letter characters {sorted(upper_chars)}\")\n",
    "    print(f\"Lower letter characters {sorted(lower_chars)}\")\n",
    "\n",
    "    # List of all possible periodic elements\n",
    "    periodic_elements = [\n",
    "        \"Ac\",\n",
    "        \"Al\",\n",
    "        \"Am\",\n",
    "        \"Sb\",\n",
    "        \"Ar\",\n",
    "        \"As\",\n",
    "        \"At\",\n",
    "        \"Ba\",\n",
    "        \"Bk\",\n",
    "        \"Be\",\n",
    "        \"Bi\",\n",
    "        \"Bh\",\n",
    "        \"B\",\n",
    "        \"Br\",\n",
    "        \"Cd\",\n",
    "        \"Ca\",\n",
    "        \"Cf\",\n",
    "        \"C\",\n",
    "        \"Ce\",\n",
    "        \"Cs\",\n",
    "        \"Cl\",\n",
    "        \"Cr\",\n",
    "        \"Co\",\n",
    "        \"Cn\",\n",
    "        \"Cu\",\n",
    "        \"Cm\",\n",
    "        \"Ds\",\n",
    "        \"Db\",\n",
    "        \"Dy\",\n",
    "        \"Es\",\n",
    "        \"Er\",\n",
    "        \"Eu\",\n",
    "        \"Fm\",\n",
    "        \"Fl\",\n",
    "        \"F\",\n",
    "        \"Fr\",\n",
    "        \"Gd\",\n",
    "        \"Ga\",\n",
    "        \"Ge\",\n",
    "        \"Au\",\n",
    "        \"Hf\",\n",
    "        \"Hs\",\n",
    "        \"He\",\n",
    "        \"Ho\",\n",
    "        \"H\",\n",
    "        \"In\",\n",
    "        \"I\",\n",
    "        \"Ir\",\n",
    "        \"Fe\",\n",
    "        \"Kr\",\n",
    "        \"La\",\n",
    "        \"Lr\",\n",
    "        \"Pb\",\n",
    "        \"Li\",\n",
    "        \"Lv\",\n",
    "        \"Lu\",\n",
    "        \"Mg\",\n",
    "        \"Mn\",\n",
    "        \"Mt\",\n",
    "        \"Md\",\n",
    "        \"Hg\",\n",
    "        \"Mo\",\n",
    "        \"Mc\",\n",
    "        \"Nd\",\n",
    "        \"Ne\",\n",
    "        \"Np\",\n",
    "        \"Ni\",\n",
    "        \"Nh\",\n",
    "        \"Nb\",\n",
    "        \"N\",\n",
    "        \"No\",\n",
    "        \"Og\",\n",
    "        \"Os\",\n",
    "        \"O\",\n",
    "        \"Pd\",\n",
    "        \"P\",\n",
    "        \"Pt\",\n",
    "        \"Pu\",\n",
    "        \"Po\",\n",
    "        \"K\",\n",
    "        \"Pr\",\n",
    "        \"Pm\",\n",
    "        \"Pa\",\n",
    "        \"Ra\",\n",
    "        \"Rn\",\n",
    "        \"Re\",\n",
    "        \"Rh\",\n",
    "        \"Rg\",\n",
    "        \"Rb\",\n",
    "        \"Ru\",\n",
    "        \"Rf\",\n",
    "        \"Sm\",\n",
    "        \"Sc\",\n",
    "        \"Sg\",\n",
    "        \"Se\",\n",
    "        \"Si\",\n",
    "        \"Ag\",\n",
    "        \"Na\",\n",
    "        \"Sr\",\n",
    "        \"S\",\n",
    "        \"Ta\",\n",
    "        \"Tc\",\n",
    "        \"Te\",\n",
    "        \"Ts\",\n",
    "        \"Tb\",\n",
    "        \"Tl\",\n",
    "        \"Th\",\n",
    "        \"Tm\",\n",
    "        \"Sn\",\n",
    "        \"Ti\",\n",
    "        \"W\",\n",
    "        \"U\",\n",
    "        \"V\",\n",
    "        \"Xe\",\n",
    "        \"Yb\",\n",
    "        \"Y\",\n",
    "        \"Zn\",\n",
    "        \"Zr\",\n",
    "    ]\n",
    "\n",
    "    # The two_char_elements list contains all two letter elements\n",
    "    # which can be generated by all possible combination of upper x lower characters\n",
    "    # and are valid periodic elements.\n",
    "    two_char_elements = []\n",
    "    for upper in upper_chars:\n",
    "        for lower in lower_chars:\n",
    "            ch = upper + lower\n",
    "            if ch in periodic_elements:\n",
    "                two_char_elements.append(ch)\n",
    "\n",
    "    # This list is then reduced to the subset of two-letter elements\n",
    "    # that actually appear in the SMILES strings, specific to our data set.\n",
    "    two_char_elements_smiles = set()\n",
    "    for char in two_char_elements:\n",
    "        if df.canonical_smiles.str.contains(char).any():\n",
    "            two_char_elements_smiles.add(char)\n",
    "\n",
    "    return two_char_elements_smiles"
   ]
  },
  {
   "cell_type": "code",
   "execution_count": 9,
   "metadata": {},
   "outputs": [
    {
     "name": "stdout",
     "output_type": "stream",
     "text": [
      "Upper letter characters ['B', 'C', 'F', 'H', 'I', 'N', 'O', 'P', 'S']\n",
      "Lower letter characters ['c', 'e', 'l', 'n', 'o', 'r', 's']\n",
      "\n",
      "Two letter elements found in the data set: ['Br', 'Cl', 'Cn', 'Sc', 'Se']\n"
     ]
    }
   ],
   "source": [
    "elements_found = assess_two_letter_elements(df)\n",
    "print(f\"\\nTwo letter elements found in the data set: {sorted(elements_found)}\")\n",
    "# NBVAL_CHECK_OUTPUT"
   ]
  },
  {
   "cell_type": "markdown",
   "metadata": {},
   "source": [
    "Based on this finding, we defined our own dictionary for replacement. Note that their are several shortcomings with this *simple* implementation that we (partially) manually address here:\n",
    "\n",
    "- We exclude `Sc` and `Cn` from the replacement, since it is more likely that sulfur `S` and an aromatic carbon `c` are contained in a molecule than scandium `Sc`, same for carbon `C` and an aromatic nitrogen `n` over Copernicium `Cn`. Thus, only the elements chlorine `Cl`, bromine `Br` and selenium `Se` are replaced. \n",
    "- In isomeric SMILES `@` and `@@` are used to describe enantiomers, thus we also need to replace the latter by a one letter code.\n",
    "- If you are working wit a different data set, you may want to adapt the below mapping dictionary."
   ]
  },
  {
   "cell_type": "markdown",
   "metadata": {},
   "source": [
    "This resulted in the following dictionary to replace the two letter elements found in this data set"
   ]
  },
  {
   "cell_type": "code",
   "execution_count": 10,
   "metadata": {},
   "outputs": [],
   "source": [
    "replace_dict = {\"Cl\": \"L\", \"Br\": \"R\", \"Se\": \"X\", \"@@\": \"Z\"}"
   ]
  },
  {
   "cell_type": "markdown",
   "metadata": {},
   "source": [
    "Based on this dictionary, we define a function to create the preprocessed data."
   ]
  },
  {
   "cell_type": "code",
   "execution_count": 11,
   "metadata": {},
   "outputs": [],
   "source": [
    "def preprocessing_data(df, replacement):\n",
    "    \"\"\"\n",
    "    Preprocess the SMILES structures in a data set.\n",
    "\n",
    "    Parameters\n",
    "    ----------\n",
    "    df : pandas.DataFrame\n",
    "      Dataframe which requires preprocessing.\n",
    "    replacement : dict\n",
    "      Dictionary with mapping for replacement.\n",
    "\n",
    "    Returns\n",
    "    -------\n",
    "    df : pandas.DataFrame\n",
    "        Dataframe with new processed canonical SMILES column.\n",
    "    unique_char : list\n",
    "        List with unique characters present in SMILES.\n",
    "    \"\"\"\n",
    "    # Print warning if the data set has a 'Sc' element\n",
    "    if df.canonical_smiles.str.contains(\"Sc\").any():\n",
    "        print(\n",
    "            'Warning: \"Sc\" element is found in the data set, since the element is rarely found '\n",
    "            \"in the drugs so we are not converting  \"\n",
    "            'it to single letter element, instead considering \"S\" '\n",
    "            'and \"c\" as separate elements. '\n",
    "        )\n",
    "\n",
    "    # Create a new column having processed canonical SMILES\n",
    "    df[\"processed_canonical_smiles\"] = df[\"canonical_smiles\"].copy()\n",
    "\n",
    "    # Replace the two letter elements found with one character\n",
    "    for pattern, repl in replacement.items():\n",
    "        df[\"processed_canonical_smiles\"] = df[\"processed_canonical_smiles\"].str.replace(\n",
    "            pattern, repl\n",
    "        )\n",
    "\n",
    "    unique_char = set(df.processed_canonical_smiles.apply(list).sum())\n",
    "    return df, unique_char"
   ]
  },
  {
   "cell_type": "code",
   "execution_count": 12,
   "metadata": {},
   "outputs": [
    {
     "name": "stdout",
     "output_type": "stream",
     "text": [
      "Warning: \"Sc\" element is found in the data set, since the element is rarely found in the drugs so we are not converting  it to single letter element, instead considering \"S\" and \"c\" as separate elements. \n"
     ]
    },
    {
     "data": {
      "text/html": [
       "<div>\n",
       "<style scoped>\n",
       "    .dataframe tbody tr th:only-of-type {\n",
       "        vertical-align: middle;\n",
       "    }\n",
       "\n",
       "    .dataframe tbody tr th {\n",
       "        vertical-align: top;\n",
       "    }\n",
       "\n",
       "    .dataframe thead th {\n",
       "        text-align: right;\n",
       "    }\n",
       "</style>\n",
       "<table border=\"1\" class=\"dataframe\">\n",
       "  <thead>\n",
       "    <tr style=\"text-align: right;\">\n",
       "      <th></th>\n",
       "      <th>chembl_id</th>\n",
       "      <th>canonical_smiles</th>\n",
       "      <th>Mol2D</th>\n",
       "      <th>processed_canonical_smiles</th>\n",
       "    </tr>\n",
       "  </thead>\n",
       "  <tbody>\n",
       "    <tr>\n",
       "      <th>0</th>\n",
       "      <td>CHEMBL207869</td>\n",
       "      <td>Clc1c(OCc2cc(F)ccc2)ccc(Nc2c(C#Cc3ncccn3)cncn2)c1</td>\n",
       "      <td><img data-content=\"rdkit/molecule\" src=\"data:image/png;base64,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\" alt=\"Mol\"/></td>\n",
       "      <td>Lc1c(OCc2cc(F)ccc2)ccc(Nc2c(C#Cc3ncccn3)cncn2)c1</td>\n",
       "    </tr>\n",
       "    <tr>\n",
       "      <th>1</th>\n",
       "      <td>CHEMBL3940060</td>\n",
       "      <td>ClCC(=O)OCCN1C(=O)Oc2c1cc1c(Nc3cc(Cl)c(F)cc3)n...</td>\n",
       "      <td><img data-content=\"rdkit/molecule\" src=\"data:image/png;base64,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\" alt=\"Mol\"/></td>\n",
       "      <td>LCC(=O)OCCN1C(=O)Oc2c1cc1c(Nc3cc(L)c(F)cc3)ncn...</td>\n",
       "    </tr>\n",
       "    <tr>\n",
       "      <th>2</th>\n",
       "      <td>CHEMBL3678951</td>\n",
       "      <td>FC(F)(F)c1cc(Nc2n(C(C)C)c3nc(Nc4ccc(N5CC[NH+](...</td>\n",
       "      <td><img data-content=\"rdkit/molecule\" src=\"data:image/png;base64,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\" alt=\"Mol\"/></td>\n",
       "      <td>FC(F)(F)c1cc(Nc2n(C(C)C)c3nc(Nc4ccc(N5CC[NH+](...</td>\n",
       "    </tr>\n",
       "  </tbody>\n",
       "</table>\n",
       "</div>"
      ],
      "text/plain": [
       "       chembl_id                                   canonical_smiles  \\\n",
       "0   CHEMBL207869  Clc1c(OCc2cc(F)ccc2)ccc(Nc2c(C#Cc3ncccn3)cncn2)c1   \n",
       "1  CHEMBL3940060  ClCC(=O)OCCN1C(=O)Oc2c1cc1c(Nc3cc(Cl)c(F)cc3)n...   \n",
       "2  CHEMBL3678951  FC(F)(F)c1cc(Nc2n(C(C)C)c3nc(Nc4ccc(N5CC[NH+](...   \n",
       "\n",
       "                                               Mol2D  \\\n",
       "0  <img data-content=\"rdkit/molecule\" src=\"data:i...   \n",
       "1  <img data-content=\"rdkit/molecule\" src=\"data:i...   \n",
       "2  <img data-content=\"rdkit/molecule\" src=\"data:i...   \n",
       "\n",
       "                          processed_canonical_smiles  \n",
       "0   Lc1c(OCc2cc(F)ccc2)ccc(Nc2c(C#Cc3ncccn3)cncn2)c1  \n",
       "1  LCC(=O)OCCN1C(=O)Oc2c1cc1c(Nc3cc(L)c(F)cc3)ncn...  \n",
       "2  FC(F)(F)c1cc(Nc2n(C(C)C)c3nc(Nc4ccc(N5CC[NH+](...  "
      ]
     },
     "execution_count": 12,
     "metadata": {},
     "output_type": "execute_result"
    }
   ],
   "source": [
    "# Calling function\n",
    "df, unique_char = preprocessing_data(df, replace_dict)\n",
    "df.head(3)"
   ]
  },
  {
   "cell_type": "code",
   "execution_count": 13,
   "metadata": {},
   "outputs": [
    {
     "name": "stdout",
     "output_type": "stream",
     "text": [
      "All unique characters found in the preprocessed data set:\n",
      "['#', '(', ')', '+', '-', '/', '0', '1', '2', '3', '4', '5', '6', '7', '=', '@', 'B', 'C', 'F', 'H', 'I', 'L', 'N', 'O', 'P', 'R', 'S', 'X', 'Z', '[', '\\\\', ']', 'c', 'n', 'o', 's']\n"
     ]
    }
   ],
   "source": [
    "# Print unique characters\n",
    "print(f\"All unique characters found in the preprocessed data set:\\n{sorted(unique_char)}\")\n",
    "# NBVAL_CHECK_OUTPUT"
   ]
  },
  {
   "cell_type": "markdown",
   "metadata": {},
   "source": [
    "#### Compute longest (& shortest) SMILES\n",
    "\n",
    "Here, we compute the length and the indices in the data frame of the longest and shortest SMILES, which we will use later in the sections for visualization purpose."
   ]
  },
  {
   "cell_type": "code",
   "execution_count": 14,
   "metadata": {},
   "outputs": [
    {
     "name": "stdout",
     "output_type": "stream",
     "text": [
      "Longest SMILES: O=C(N[C@@H]1C(=O)N[C@H](CCC[NH3+])C(=O)N[C@@H]([C@H](CC)C)C(=O)N[C@H](Cc2ccccc2)C(=O)N[C@@H](Cc2[nH]cnc2)C(=O)N[C@H](CC(=O)[O-])C(=O)N[C@@H](CC(=O)N)C(=O)NCCCC1)[C@@H](NC(=O)[C@H](NC(=O)[C@@H](NC(=O)[C@H]1N=C([C@@H]([NH3+])[C@H](CC)C)SC1)CC(C)C)CCC(=O)[O-])[C@H](CC)C\n",
      "Contains 267 characters, index in dataframe: 2704.\n"
     ]
    }
   ],
   "source": [
    "# Index of the longest SMILES string\n",
    "longest_smiles = max(df[\"canonical_smiles\"], key=len)\n",
    "longest_smiles_index = df.canonical_smiles[df.canonical_smiles == longest_smiles].index.tolist()\n",
    "print(f\"Longest SMILES: {longest_smiles}\")\n",
    "print(f\"Contains {len(longest_smiles)} characters, index in dataframe: {longest_smiles_index[0]}.\")\n",
    "smiles_maxlen = len(longest_smiles)\n",
    "# NBVAL_CHECK_OUTPUT"
   ]
  },
  {
   "cell_type": "code",
   "execution_count": 15,
   "metadata": {},
   "outputs": [
    {
     "name": "stdout",
     "output_type": "stream",
     "text": [
      "Shortest SMILES: Oc1c(O)cccc1\n",
      "Contains 12 characters, index in dataframe: 3428.\n"
     ]
    }
   ],
   "source": [
    "# Index of the shortest SMILES string\n",
    "shortest_smiles = min(df[\"canonical_smiles\"], key=len)\n",
    "shortest_smiles_index = df.canonical_smiles[df.canonical_smiles == shortest_smiles].index.tolist()\n",
    "print(f\"Shortest SMILES: {shortest_smiles}\")\n",
    "print(\n",
    "    f\"Contains {len(shortest_smiles)} characters, index in dataframe: {shortest_smiles_index[0]}.\"\n",
    ")\n",
    "# NBVAL_CHECK_OUTPUT"
   ]
  },
  {
   "cell_type": "markdown",
   "metadata": {},
   "source": [
    "### Python one-hot encoding implementation"
   ]
  },
  {
   "cell_type": "markdown",
   "metadata": {},
   "source": [
    "#### One-hot encode (padding=True)\n",
    "\n",
    "We define a function `smiles_encoder` that takes SMILES, the maximum length of the SMILES string (`max_len`) for padding and the list of unique characters (`unique_char`) present in the `processed_canonical_smiles` column; and returns the one-hot encoded matrix of fixed shape."
   ]
  },
  {
   "cell_type": "code",
   "execution_count": 16,
   "metadata": {},
   "outputs": [],
   "source": [
    "# Function defined to create one-hot encoded matrix\n",
    "def smiles_encoder(smiles, max_len, unique_char):\n",
    "    \"\"\"\n",
    "    Function defined using all unique characters in our\n",
    "    processed canonical SMILES structures created\n",
    "    with the preprocessing_data function.\n",
    "\n",
    "    Parameters\n",
    "    ----------\n",
    "    smiles : str\n",
    "         SMILES of a molecule in string format.\n",
    "    unique_char : list\n",
    "         List of unique characters in the string data set.\n",
    "    max_len : int\n",
    "         Maximum length of the SMILES string.\n",
    "\n",
    "    Returns\n",
    "    -------\n",
    "    smiles_matrix : numpy.ndarray\n",
    "         One-hot encoded matrix of fixed shape\n",
    "         (unique char in smiles, max SMILES length).\n",
    "    \"\"\"\n",
    "    # create dictionary of the unique char data set\n",
    "    smi2index = {char: index for index, char in enumerate(unique_char)}\n",
    "    # one-hot encoding\n",
    "    # zero padding to max_len\n",
    "    smiles_matrix = np.zeros((len(unique_char), max_len))\n",
    "    for index, char in enumerate(smiles):\n",
    "        smiles_matrix[smi2index[char], index] = 1\n",
    "    return smiles_matrix"
   ]
  },
  {
   "cell_type": "code",
   "execution_count": 17,
   "metadata": {},
   "outputs": [
    {
     "data": {
      "text/html": [
       "<div>\n",
       "<style scoped>\n",
       "    .dataframe tbody tr th:only-of-type {\n",
       "        vertical-align: middle;\n",
       "    }\n",
       "\n",
       "    .dataframe tbody tr th {\n",
       "        vertical-align: top;\n",
       "    }\n",
       "\n",
       "    .dataframe thead th {\n",
       "        text-align: right;\n",
       "    }\n",
       "</style>\n",
       "<table border=\"1\" class=\"dataframe\">\n",
       "  <thead>\n",
       "    <tr style=\"text-align: right;\">\n",
       "      <th></th>\n",
       "      <th>chembl_id</th>\n",
       "      <th>canonical_smiles</th>\n",
       "      <th>Mol2D</th>\n",
       "      <th>processed_canonical_smiles</th>\n",
       "      <th>unique_char_ohe_matrix</th>\n",
       "    </tr>\n",
       "  </thead>\n",
       "  <tbody>\n",
       "    <tr>\n",
       "      <th>0</th>\n",
       "      <td>CHEMBL207869</td>\n",
       "      <td>Clc1c(OCc2cc(F)ccc2)ccc(Nc2c(C#Cc3ncccn3)cncn2)c1</td>\n",
       "      <td><img data-content=\"rdkit/molecule\" src=\"data:image/png;base64,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\" alt=\"Mol\"/></td>\n",
       "      <td>Lc1c(OCc2cc(F)ccc2)ccc(Nc2c(C#Cc3ncccn3)cncn2)c1</td>\n",
       "      <td>[[0.0, 0.0, 0.0, 0.0, 0.0, 0.0, 0.0, 0.0, 0.0,...</td>\n",
       "    </tr>\n",
       "    <tr>\n",
       "      <th>1</th>\n",
       "      <td>CHEMBL3940060</td>\n",
       "      <td>ClCC(=O)OCCN1C(=O)Oc2c1cc1c(Nc3cc(Cl)c(F)cc3)n...</td>\n",
       "      <td><img data-content=\"rdkit/molecule\" src=\"data:image/png;base64,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\" alt=\"Mol\"/></td>\n",
       "      <td>LCC(=O)OCCN1C(=O)Oc2c1cc1c(Nc3cc(L)c(F)cc3)ncn...</td>\n",
       "      <td>[[0.0, 0.0, 0.0, 0.0, 0.0, 0.0, 0.0, 0.0, 0.0,...</td>\n",
       "    </tr>\n",
       "    <tr>\n",
       "      <th>2</th>\n",
       "      <td>CHEMBL3678951</td>\n",
       "      <td>FC(F)(F)c1cc(Nc2n(C(C)C)c3nc(Nc4ccc(N5CC[NH+](...</td>\n",
       "      <td><img data-content=\"rdkit/molecule\" src=\"data:image/png;base64,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\" alt=\"Mol\"/></td>\n",
       "      <td>FC(F)(F)c1cc(Nc2n(C(C)C)c3nc(Nc4ccc(N5CC[NH+](...</td>\n",
       "      <td>[[0.0, 0.0, 0.0, 0.0, 0.0, 0.0, 0.0, 0.0, 0.0,...</td>\n",
       "    </tr>\n",
       "  </tbody>\n",
       "</table>\n",
       "</div>"
      ],
      "text/plain": [
       "       chembl_id                                   canonical_smiles  \\\n",
       "0   CHEMBL207869  Clc1c(OCc2cc(F)ccc2)ccc(Nc2c(C#Cc3ncccn3)cncn2)c1   \n",
       "1  CHEMBL3940060  ClCC(=O)OCCN1C(=O)Oc2c1cc1c(Nc3cc(Cl)c(F)cc3)n...   \n",
       "2  CHEMBL3678951  FC(F)(F)c1cc(Nc2n(C(C)C)c3nc(Nc4ccc(N5CC[NH+](...   \n",
       "\n",
       "                                               Mol2D  \\\n",
       "0  <img data-content=\"rdkit/molecule\" src=\"data:i...   \n",
       "1  <img data-content=\"rdkit/molecule\" src=\"data:i...   \n",
       "2  <img data-content=\"rdkit/molecule\" src=\"data:i...   \n",
       "\n",
       "                          processed_canonical_smiles  \\\n",
       "0   Lc1c(OCc2cc(F)ccc2)ccc(Nc2c(C#Cc3ncccn3)cncn2)c1   \n",
       "1  LCC(=O)OCCN1C(=O)Oc2c1cc1c(Nc3cc(L)c(F)cc3)ncn...   \n",
       "2  FC(F)(F)c1cc(Nc2n(C(C)C)c3nc(Nc4ccc(N5CC[NH+](...   \n",
       "\n",
       "                              unique_char_ohe_matrix  \n",
       "0  [[0.0, 0.0, 0.0, 0.0, 0.0, 0.0, 0.0, 0.0, 0.0,...  \n",
       "1  [[0.0, 0.0, 0.0, 0.0, 0.0, 0.0, 0.0, 0.0, 0.0,...  \n",
       "2  [[0.0, 0.0, 0.0, 0.0, 0.0, 0.0, 0.0, 0.0, 0.0,...  "
      ]
     },
     "execution_count": 17,
     "metadata": {},
     "output_type": "execute_result"
    }
   ],
   "source": [
    "# Apply the function to the processed canonical SMILES strings\n",
    "df[\"unique_char_ohe_matrix\"] = df[\"processed_canonical_smiles\"].apply(\n",
    "    smiles_encoder, max_len=smiles_maxlen, unique_char=unique_char\n",
    ")\n",
    "df.head(3)"
   ]
  },
  {
   "cell_type": "markdown",
   "metadata": {},
   "source": [
    "#### Visualization"
   ]
  },
  {
   "cell_type": "markdown",
   "metadata": {},
   "source": [
    "Matplotlib is a plotting library for the python programming language and Pyplot is a state-based interface to a matplotlib module which provides a MATLAB-like interface.\n",
    "The [imshow](https://matplotlib.org/3.2.1/api/_as_gen/matplotlib.pyplot.imshow.html) function in the pyplot module of the matplotlib library is used to display data as an image i.e. on a 2D space.\n",
    "\n",
    "We now visualize our one-hot encoded matrix using `imshow` by defining the `one_hot_matrix_plot` function as shown below."
   ]
  },
  {
   "cell_type": "code",
   "execution_count": 18,
   "metadata": {},
   "outputs": [],
   "source": [
    "def one_hot_matrix_plot(ohe_matrix, smiles_char, smiles):\n",
    "    \"\"\"\n",
    "    Visualize one-hot encoded matrix\n",
    "    using matplotlib imshow() function.\n",
    "\n",
    "    Parameters\n",
    "    ----------\n",
    "    ohe_matrix : numpy.ndarray\n",
    "       One-hot encoded (ohe) matrix of shape\n",
    "       (`smiles_char`, `len(smiles)`).\n",
    "    smiles_char : list\n",
    "        List of all possible SMILES characters.\n",
    "    smiles : string\n",
    "        Original SMILES string of respective molecule.\n",
    "\n",
    "    Returns\n",
    "    ------\n",
    "    None\n",
    "\n",
    "    \"\"\"\n",
    "    im = plt.imshow(ohe_matrix, cmap=\"hot\", interpolation=\"None\")\n",
    "    plt.xlabel(\"Length of SMILES string\")\n",
    "    plt.ylabel(f\"Char in SMILES ({len(smiles_char)})\")\n",
    "    plt.title(\"Visualization of one-hot encoded matrix\")\n",
    "    plt.show()\n",
    "    print(\"Shape of one-hot matrix : \", ohe_matrix.shape)\n",
    "    print(\"Associated canonical SMILES: \", smiles)\n",
    "    return None"
   ]
  },
  {
   "cell_type": "code",
   "execution_count": 19,
   "metadata": {},
   "outputs": [
    {
     "data": {
      "image/png": "[encoded data removed]",
      "text/plain": [
       "<Figure size 432x288 with 1 Axes>"
      ]
     },
     "metadata": {
      "needs_background": "light"
     },
     "output_type": "display_data"
    },
    {
     "name": "stdout",
     "output_type": "stream",
     "text": [
      "Shape of one-hot matrix :  (36, 267)\n",
      "Associated canonical SMILES:  O=C(N[C@@H]1C(=O)N[C@H](CCC[NH3+])C(=O)N[C@@H]([C@H](CC)C)C(=O)N[C@H](Cc2ccccc2)C(=O)N[C@@H](Cc2[nH]cnc2)C(=O)N[C@H](CC(=O)[O-])C(=O)N[C@@H](CC(=O)N)C(=O)NCCCC1)[C@@H](NC(=O)[C@H](NC(=O)[C@@H](NC(=O)[C@H]1N=C([C@@H]([NH3+])[C@H](CC)C)SC1)CC(C)C)CCC(=O)[O-])[C@H](CC)C\n"
     ]
    }
   ],
   "source": [
    "# Pass the index of the longest SMILES string to visualize the matrix\n",
    "one_hot_matrix_plot(\n",
    "    df.iloc[longest_smiles_index[0]][\"unique_char_ohe_matrix\"], unique_char, longest_smiles\n",
    ")"
   ]
  },
  {
   "cell_type": "code",
   "execution_count": 20,
   "metadata": {},
   "outputs": [
    {
     "data": {
      "image/png": "[encoded data removed]",
      "text/plain": [
       "<rdkit.Chem.rdchem.Mol at 0x7fb82ea077c0>"
      ]
     },
     "execution_count": 20,
     "metadata": {},
     "output_type": "execute_result"
    }
   ],
   "source": [
    "# Draw the molecules with the longest SMILES\n",
    "longest_smiles_mol = Chem.MolFromSmiles(longest_smiles)\n",
    "longest_smiles_mol"
   ]
  },
  {
   "cell_type": "code",
   "execution_count": 21,
   "metadata": {},
   "outputs": [
    {
     "data": {
      "image/png": "[encoded data removed]",
      "text/plain": [
       "<Figure size 432x288 with 1 Axes>"
      ]
     },
     "metadata": {
      "needs_background": "light"
     },
     "output_type": "display_data"
    },
    {
     "name": "stdout",
     "output_type": "stream",
     "text": [
      "Shape of one-hot matrix :  (36, 267)\n",
      "Associated canonical SMILES:  Oc1c(O)cccc1\n"
     ]
    }
   ],
   "source": [
    "# Pass the index of the shortest SMILES string to visualize the matrix\n",
    "one_hot_matrix_plot(\n",
    "    df.iloc[shortest_smiles_index[0]][\"unique_char_ohe_matrix\"], unique_char, shortest_smiles\n",
    ")"
   ]
  },
  {
   "cell_type": "markdown",
   "metadata": {},
   "source": [
    "From above, the matrix visualization was performed using matplotlib `imshow` function, we can also visualize the entire matrix using the `numpy.matrix` function, e.g. the one-hot encoded matrix of the longest SMILES string as shown below."
   ]
  },
  {
   "cell_type": "code",
   "execution_count": 22,
   "metadata": {},
   "outputs": [
    {
     "data": {
      "image/png": "[encoded data removed]",
      "text/plain": [
       "<rdkit.Chem.rdchem.Mol at 0x7fb82e9acd60>"
      ]
     },
     "execution_count": 22,
     "metadata": {},
     "output_type": "execute_result"
    }
   ],
   "source": [
    "# Draw the molecules with the shortest SMILES\n",
    "shortest_smiles_mol = Chem.MolFromSmiles(shortest_smiles)\n",
    "shortest_smiles_mol"
   ]
  },
  {
   "cell_type": "code",
   "execution_count": 23,
   "metadata": {},
   "outputs": [
    {
     "name": "stdout",
     "output_type": "stream",
     "text": [
      "First 3 rows of the ohe matrix, representing the characters ['n', 'B', '3']\n",
      "\n",
      "[[0. 0. 0. 0. 0. 0. 0. 0. 0. 0. 0. 0. 0. 0. 0. 0. 0. 0. 0. 0. 0. 0. 0. 0.\n",
      "  0. 0. 0. 0. 0. 0. 0. 0. 0. 0. 0. 0. 0. 0. 0. 0. 0. 0. 0. 0. 0. 0. 0. 0.\n",
      "  0. 0. 0. 0. 0. 0. 0. 0. 0. 0. 0. 0. 0. 0. 0. 0. 0. 0. 0. 0. 0. 0. 0. 0.\n",
      "  0. 0. 0. 0. 0. 0. 0. 0. 0. 0. 0. 0. 0. 0. 0. 0. 0. 0. 0. 0. 0. 0. 1. 0.\n",
      "  0. 0. 1. 0. 0. 0. 0. 0. 0. 0. 0. 0. 0. 0. 0. 0. 0. 0. 0. 0. 0. 0. 0. 0.\n",
      "  0. 0. 0. 0. 0. 0. 0. 0. 0. 0. 0. 0. 0. 0. 0. 0. 0. 0. 0. 0. 0. 0. 0. 0.\n",
      "  0. 0. 0. 0. 0. 0. 0. 0. 0. 0. 0. 0. 0. 0. 0. 0. 0. 0. 0. 0. 0. 0. 0. 0.\n",
      "  0. 0. 0. 0. 0. 0. 0. 0. 0. 0. 0. 0. 0. 0. 0. 0. 0. 0. 0. 0. 0. 0. 0. 0.\n",
      "  0. 0. 0. 0. 0. 0. 0. 0. 0. 0. 0. 0. 0. 0. 0. 0. 0. 0. 0. 0. 0. 0. 0. 0.\n",
      "  0. 0. 0. 0. 0. 0. 0. 0. 0. 0. 0. 0. 0. 0. 0. 0. 0. 0. 0. 0. 0. 0. 0. 0.\n",
      "  0. 0. 0. 0. 0. 0. 0. 0. 0. 0. 0. 0. 0. 0. 0. 0. 0. 0. 0. 0. 0. 0. 0. 0.\n",
      "  0. 0. 0.]\n",
      " [0. 0. 0. 0. 0. 0. 0. 0. 0. 0. 0. 0. 0. 0. 0. 0. 0. 0. 0. 0. 0. 0. 0. 0.\n",
      "  0. 0. 0. 0. 0. 0. 0. 0. 0. 0. 0. 0. 0. 0. 0. 0. 0. 0. 0. 0. 0. 0. 0. 0.\n",
      "  0. 0. 0. 0. 0. 0. 0. 0. 0. 0. 0. 0. 0. 0. 0. 0. 0. 0. 0. 0. 0. 0. 0. 0.\n",
      "  0. 0. 0. 0. 0. 0. 0. 0. 0. 0. 0. 0. 0. 0. 0. 0. 0. 0. 0. 0. 0. 0. 0. 0.\n",
      "  0. 0. 0. 0. 0. 0. 0. 0. 0. 0. 0. 0. 0. 0. 0. 0. 0. 0. 0. 0. 0. 0. 0. 0.\n",
      "  0. 0. 0. 0. 0. 0. 0. 0. 0. 0. 0. 0. 0. 0. 0. 0. 0. 0. 0. 0. 0. 0. 0. 0.\n",
      "  0. 0. 0. 0. 0. 0. 0. 0. 0. 0. 0. 0. 0. 0. 0. 0. 0. 0. 0. 0. 0. 0. 0. 0.\n",
      "  0. 0. 0. 0. 0. 0. 0. 0. 0. 0. 0. 0. 0. 0. 0. 0. 0. 0. 0. 0. 0. 0. 0. 0.\n",
      "  0. 0. 0. 0. 0. 0. 0. 0. 0. 0. 0. 0. 0. 0. 0. 0. 0. 0. 0. 0. 0. 0. 0. 0.\n",
      "  0. 0. 0. 0. 0. 0. 0. 0. 0. 0. 0. 0. 0. 0. 0. 0. 0. 0. 0. 0. 0. 0. 0. 0.\n",
      "  0. 0. 0. 0. 0. 0. 0. 0. 0. 0. 0. 0. 0. 0. 0. 0. 0. 0. 0. 0. 0. 0. 0. 0.\n",
      "  0. 0. 0.]\n",
      " [0. 0. 0. 0. 0. 0. 0. 0. 0. 0. 0. 0. 0. 0. 0. 0. 0. 0. 0. 0. 0. 0. 0. 0.\n",
      "  0. 0. 0. 0. 0. 1. 0. 0. 0. 0. 0. 0. 0. 0. 0. 0. 0. 0. 0. 0. 0. 0. 0. 0.\n",
      "  0. 0. 0. 0. 0. 0. 0. 0. 0. 0. 0. 0. 0. 0. 0. 0. 0. 0. 0. 0. 0. 0. 0. 0.\n",
      "  0. 0. 0. 0. 0. 0. 0. 0. 0. 0. 0. 0. 0. 0. 0. 0. 0. 0. 0. 0. 0. 0. 0. 0.\n",
      "  0. 0. 0. 0. 0. 0. 0. 0. 0. 0. 0. 0. 0. 0. 0. 0. 0. 0. 0. 0. 0. 0. 0. 0.\n",
      "  0. 0. 0. 0. 0. 0. 0. 0. 0. 0. 0. 0. 0. 0. 0. 0. 0. 0. 0. 0. 0. 0. 0. 0.\n",
      "  0. 0. 0. 0. 0. 0. 0. 0. 0. 0. 0. 0. 0. 0. 0. 0. 0. 0. 0. 0. 0. 0. 0. 0.\n",
      "  0. 0. 0. 0. 0. 0. 0. 0. 0. 0. 0. 0. 0. 0. 0. 0. 0. 0. 0. 0. 0. 0. 0. 0.\n",
      "  0. 0. 0. 0. 0. 0. 0. 0. 0. 0. 0. 0. 0. 0. 0. 0. 0. 0. 0. 0. 1. 0. 0. 0.\n",
      "  0. 0. 0. 0. 0. 0. 0. 0. 0. 0. 0. 0. 0. 0. 0. 0. 0. 0. 0. 0. 0. 0. 0. 0.\n",
      "  0. 0. 0. 0. 0. 0. 0. 0. 0. 0. 0. 0. 0. 0. 0. 0. 0. 0. 0. 0. 0. 0. 0. 0.\n",
      "  0. 0. 0.]]\n"
     ]
    }
   ],
   "source": [
    "# Print the some rows of the matrix for the molecule with the longest smiles\n",
    "np.set_printoptions(threshold=np.inf)\n",
    "subset = 3\n",
    "unique_char = list(unique_char)\n",
    "print(\n",
    "    f\"First {subset} rows of the ohe matrix, representing the characters {unique_char[0:subset]}\\n\"\n",
    ")\n",
    "print(np.matrix(df.iloc[longest_smiles_index[0]][\"unique_char_ohe_matrix\"])[0:subset, :])"
   ]
  },
  {
   "cell_type": "markdown",
   "metadata": {},
   "source": [
    "## Discussion\n",
    "\n",
    "In the fields of computer aided drug discovery and development, machine learning techniques have been used for the development of novel drug candidates. The methods for designing drug targets and novel drug discovery now oftenly combine machine learning and deep learning algorithms to enhance the efficiency, efficacy, and quality of developed outputs. \n",
    "\n",
    "But to work with any machine learning or deep learning algorithms, the input data should be in machine readable format. In computed-aided drug design, we mainly deal with the categorical or textual data where we work with drug molecules which are represented in SMILES string format, therefore we have to convert these categorical data to a numerical format. \n",
    "\n",
    "**One-hot encoding** is one of the popular and efficient encoding technique which converts the data to a numerical format. It can be used an important preprocessing steps before applying any machine learning or deep learning algorithms.\n",
    "\n",
    "In this talktorial, we have applied one hot encoding after preprocessing the data to overcome some of the shortcomings such as:\n",
    "\n",
    "- Make equal dimension of the one-hot encoded matrices because SMILES strings could have unequal dimension since their string length might differ and for most machine learning application having equal dimension throughout the data set is required.\n",
    "\n",
    "- Replacing two character element such as `Cl` to a single character because while one-hot encoding, it would split `Cl` into two characters, namely `C` and `l`, and that could lead to discrepancies.  \n",
    "\n",
    "- Looking for unique characters in the data set to produce less sparse one-hot encoded matrices.\n",
    "\n",
    "\n",
    "One-hot encoding has several applications in various fields such as:\n",
    "\n",
    "- __Machine learning (neural networks)__: In machine learning , one-hot encoding is a frequently used method to deal with categorical data because many machine learning models need their input variables to be numeric.\n",
    "\n",
    "- __Natural language processing (NLP)__: For NLP, most of the times data consists of corpus of words which is categorical in nature. Consider we have vocabulary of size $N$. In the one-hot encoding technique, we map the words to the vectors of length $n$, where the $n$th digit is an indicator of the presence of the particular word. The $n$th bit of each vector indicates the presence of the $n$th word in the vocabulary. For example if we are converting words to the one-hot encoding format, then we will see vectors such as $[0000\\dots 100], [0000\\dots 010], [0000\\dots 001]$, and so on. Using this technique normal sentences can be represented as vectors and numerical operations can be then performed on this vector form."
   ]
  },
  {
   "cell_type": "markdown",
   "metadata": {},
   "source": [
    "## Quiz"
   ]
  },
  {
   "cell_type": "markdown",
   "metadata": {},
   "source": [
    "- Why is it required to have equal dimensions of the one-hot encoded matrix?\n",
    "- Is there any other way to pre-process the data?\n",
    "- How and which machine learning models can be applied on the above data set?"
   ]
  },
  {
   "cell_type": "markdown",
   "metadata": {},
   "source": [
    "## Supplementary material \n",
    "\n",
    "If you are interested in other implementations of one-hot encoding, please keep reading this section. This includes:\n",
    "\n",
    "* Exploring **scikit-learn** and **keras** implementations of one-hot encoding.\n",
    "* Performing **padding** before and after one-hot encoding."
   ]
  },
  {
   "cell_type": "markdown",
   "metadata": {},
   "source": [
    "### Scikit-learn implementation of one-hot encoding"
   ]
  },
  {
   "cell_type": "markdown",
   "metadata": {},
   "source": [
    "Before implementing one-hot encoding using scikit-learn, we have defined the functions named \n",
    "\n",
    "* `later_padding`, which adds horizontal and vertical padding to the given matrix,\n",
    "* and `initial_padding` which adds zeros to the character list after they are label encoded.\n",
    "\n",
    "Both using the `numpy.pad` function as discussed in the theory section.\n",
    "\n",
    "These functions are later used as a boolean parameter (`islaterpadding` and `isinitialpadding`) in the scikit-learn and keras implementations to choose if later padding or initial padding is required."
   ]
  },
  {
   "cell_type": "code",
   "execution_count": 24,
   "metadata": {},
   "outputs": [],
   "source": [
    "# Function to add padding after one-hot encoding\n",
    "def later_padding(ohe_matrix, smiles_maxlen, unique_char):\n",
    "    \"\"\"\n",
    "    Add horizontal and vertical padding\n",
    "    to the given matrix using numpy.pad() function.\n",
    "\n",
    "    Parameters\n",
    "    ----------\n",
    "    ohe_matrix : ndarray\n",
    "        Character array.\n",
    "    smiles_max_len : int\n",
    "        Maximum length of the SMILES string.\n",
    "    unique_char : list\n",
    "        List of unique characters in the string data set.\n",
    "\n",
    "    Returns\n",
    "    -------\n",
    "    padded_matrix : numpy.ndarray\n",
    "           Padded one-hot encoded matrix of\n",
    "           shape (unique char in smiles, max smile_length).\n",
    "    \"\"\"\n",
    "\n",
    "    padded_matrix = np.pad(\n",
    "        ohe_matrix,\n",
    "        ((0, smiles_maxlen - len(ohe_matrix)), (0, len(unique_char) - len(ohe_matrix[0]))),\n",
    "        \"constant\",\n",
    "    )\n",
    "    return padded_matrix"
   ]
  },
  {
   "cell_type": "code",
   "execution_count": 25,
   "metadata": {},
   "outputs": [],
   "source": [
    "# Function to add padding before one-hot encoding\n",
    "# after label (integer) encoding\n",
    "def initial_padding(smiles, max_len):\n",
    "    \"\"\"\n",
    "    Add zeroes to the list of characters\n",
    "    after integer encoding them\n",
    "\n",
    "    Parameters\n",
    "    ----------\n",
    "    smiles : str\n",
    "       SMILES string.\n",
    "    max_len : int\n",
    "       Maximum length of the SMILES string\n",
    "\n",
    "    Returns\n",
    "    -------\n",
    "    canonical_char_padded : numpy.ndarray\n",
    "      Canonical character array padded to max_len.\n",
    "    \"\"\"\n",
    "    canonical_char = list(smiles)\n",
    "    # Perform padding on the list of characters\n",
    "    canonical_char_padded = np.pad(canonical_char, (0, max_len - len(canonical_char)), \"constant\")\n",
    "    return canonical_char_padded"
   ]
  },
  {
   "cell_type": "markdown",
   "metadata": {},
   "source": [
    "**One-hot encoding using scikit-learn**\n",
    "\n",
    "Now, we proceed with our second implementation of one-hot encoding from scikit-learn. We can use the [OneHotEncoder](https://scikit-learn.org/stable/modules/generated/sklearn.preprocessing.OneHotEncoder.html) from the `sklearn` library. \n",
    "\n",
    "* The function takes only numerical categorical values, hence any value of type string should be [label_encoded](https://scikit-learn.org/stable/modules/generated/sklearn.preprocessing.LabelEncoder.html) first before one-hot encoding.\n",
    "* Thus, in the functions below first label (integer) encoded SMILES are produced, then the integer encoded SMILES are transformed to one-hot encoded matrices.\n",
    "* By default, the OneHotEncoder class returns a more efficient sparse encoding, which we disabled by setting the `sparse=False` argument."
   ]
  },
  {
   "cell_type": "code",
   "execution_count": 26,
   "metadata": {},
   "outputs": [],
   "source": [
    "# Use Scikit-learn implementation of one-hot encoding\n",
    "def sklearn_one_hot_encoded_matrix(\n",
    "    smiles, islaterpadding, isinitialpadding, smiles_maxlen, unique_char\n",
    "):\n",
    "    \"\"\"\n",
    "    Label and one-hot encodes the SMILES\n",
    "    using sklearn LabelEncoder and OneHotEncoder implementation.\n",
    "\n",
    "    Parameters\n",
    "    ----------\n",
    "    smiles : str\n",
    "        SMILES string of a compound.\n",
    "    islaterpadding : bool\n",
    "        Paramater is `True` if `later_padding` is required,\n",
    "        `False` otherwise.\n",
    "    isinitialpadding : bool\n",
    "        Paramater is `True` if `initial_padding` is required,\n",
    "        `False` otherwise.\n",
    "    smile_maxlen : int\n",
    "       Maximum length of the SMILES string\n",
    "    unique_char : list\n",
    "        List of unique characters in the string data set.\n",
    "\n",
    "    Returns\n",
    "    -------\n",
    "    onehot_encoded : numpy.ndarray\n",
    "        One-hot encoded matrix of shape\n",
    "        (chars in individual SMILES, length of individual SMILES).\n",
    "    \"\"\"\n",
    "    # Integer encoding\n",
    "    canonical_char = list(smiles)\n",
    "    label_encoder = LabelEncoder()\n",
    "    # Fit_transform function is used to first fit the data and then transform it\n",
    "    integer_encoded = label_encoder.fit_transform(canonical_char)\n",
    "\n",
    "    # If initial padding, add zeros to vector (columns in matrix)\n",
    "    if isinitialpadding:\n",
    "        integer_encoded = initial_padding(integer_encoded, smiles_maxlen)\n",
    "\n",
    "    # One-hot encoding\n",
    "    onehot_encoder = OneHotEncoder(sparse=False)\n",
    "    # Reshape the integer encoded data\n",
    "    integer_encoded = integer_encoded.reshape(len(integer_encoded), 1)\n",
    "    onehot_encoded = onehot_encoder.fit_transform(integer_encoded)\n",
    "\n",
    "    # If later padding, add zeros to ohe matrix\n",
    "    if islaterpadding:\n",
    "        onehot_encoded = later_padding(onehot_encoded, smiles_maxlen, unique_char)\n",
    "\n",
    "    onehot_encoded = onehot_encoded.transpose()\n",
    "\n",
    "    # If initial padding, add zeros to rows\n",
    "    if isinitialpadding:\n",
    "        row_padding = np.zeros(shape=(len(unique_char) - len(onehot_encoded), smiles_maxlen))\n",
    "        onehot_encoded = np.append(onehot_encoded, row_padding, axis=0)\n",
    "    return onehot_encoded"
   ]
  },
  {
   "cell_type": "markdown",
   "metadata": {},
   "source": [
    "#### Without padding (unequal dimension)\n",
    "\n",
    "We can use the `sklearn_one_hot_encoded_matrix` function defined above to create the one-hot encoded matrix without padding. \n",
    "This will create matrices with unequal dimensions, because it will first label encode all the characters present in the SMILES strings (individually) and then one-hot encode them."
   ]
  },
  {
   "cell_type": "code",
   "execution_count": 27,
   "metadata": {},
   "outputs": [
    {
     "data": {
      "text/html": [
       "<div>\n",
       "<style scoped>\n",
       "    .dataframe tbody tr th:only-of-type {\n",
       "        vertical-align: middle;\n",
       "    }\n",
       "\n",
       "    .dataframe tbody tr th {\n",
       "        vertical-align: top;\n",
       "    }\n",
       "\n",
       "    .dataframe thead th {\n",
       "        text-align: right;\n",
       "    }\n",
       "</style>\n",
       "<table border=\"1\" class=\"dataframe\">\n",
       "  <thead>\n",
       "    <tr style=\"text-align: right;\">\n",
       "      <th></th>\n",
       "      <th>chembl_id</th>\n",
       "      <th>canonical_smiles</th>\n",
       "      <th>Mol2D</th>\n",
       "      <th>processed_canonical_smiles</th>\n",
       "      <th>unique_char_ohe_matrix</th>\n",
       "      <th>sklearn_ohe_matrix_no_padding</th>\n",
       "    </tr>\n",
       "  </thead>\n",
       "  <tbody>\n",
       "    <tr>\n",
       "      <th>0</th>\n",
       "      <td>CHEMBL207869</td>\n",
       "      <td>Clc1c(OCc2cc(F)ccc2)ccc(Nc2c(C#Cc3ncccn3)cncn2)c1</td>\n",
       "      <td><img data-content=\"rdkit/molecule\" src=\"data:image/png;base64,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\" alt=\"Mol\"/></td>\n",
       "      <td>Lc1c(OCc2cc(F)ccc2)ccc(Nc2c(C#Cc3ncccn3)cncn2)c1</td>\n",
       "      <td>[[0.0, 0.0, 0.0, 0.0, 0.0, 0.0, 0.0, 0.0, 0.0,...</td>\n",
       "      <td>[[0.0, 0.0, 0.0, 0.0, 0.0, 0.0, 0.0, 0.0, 0.0,...</td>\n",
       "    </tr>\n",
       "    <tr>\n",
       "      <th>1</th>\n",
       "      <td>CHEMBL3940060</td>\n",
       "      <td>ClCC(=O)OCCN1C(=O)Oc2c1cc1c(Nc3cc(Cl)c(F)cc3)n...</td>\n",
       "      <td><img data-content=\"rdkit/molecule\" src=\"data:image/png;base64,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\" alt=\"Mol\"/></td>\n",
       "      <td>LCC(=O)OCCN1C(=O)Oc2c1cc1c(Nc3cc(L)c(F)cc3)ncn...</td>\n",
       "      <td>[[0.0, 0.0, 0.0, 0.0, 0.0, 0.0, 0.0, 0.0, 0.0,...</td>\n",
       "      <td>[[0.0, 0.0, 0.0, 1.0, 0.0, 0.0, 0.0, 0.0, 0.0,...</td>\n",
       "    </tr>\n",
       "  </tbody>\n",
       "</table>\n",
       "</div>"
      ],
      "text/plain": [
       "       chembl_id                                   canonical_smiles  \\\n",
       "0   CHEMBL207869  Clc1c(OCc2cc(F)ccc2)ccc(Nc2c(C#Cc3ncccn3)cncn2)c1   \n",
       "1  CHEMBL3940060  ClCC(=O)OCCN1C(=O)Oc2c1cc1c(Nc3cc(Cl)c(F)cc3)n...   \n",
       "\n",
       "                                               Mol2D  \\\n",
       "0  <img data-content=\"rdkit/molecule\" src=\"data:i...   \n",
       "1  <img data-content=\"rdkit/molecule\" src=\"data:i...   \n",
       "\n",
       "                          processed_canonical_smiles  \\\n",
       "0   Lc1c(OCc2cc(F)ccc2)ccc(Nc2c(C#Cc3ncccn3)cncn2)c1   \n",
       "1  LCC(=O)OCCN1C(=O)Oc2c1cc1c(Nc3cc(L)c(F)cc3)ncn...   \n",
       "\n",
       "                              unique_char_ohe_matrix  \\\n",
       "0  [[0.0, 0.0, 0.0, 0.0, 0.0, 0.0, 0.0, 0.0, 0.0,...   \n",
       "1  [[0.0, 0.0, 0.0, 0.0, 0.0, 0.0, 0.0, 0.0, 0.0,...   \n",
       "\n",
       "                       sklearn_ohe_matrix_no_padding  \n",
       "0  [[0.0, 0.0, 0.0, 0.0, 0.0, 0.0, 0.0, 0.0, 0.0,...  \n",
       "1  [[0.0, 0.0, 0.0, 1.0, 0.0, 0.0, 0.0, 0.0, 0.0,...  "
      ]
     },
     "execution_count": 27,
     "metadata": {},
     "output_type": "execute_result"
    }
   ],
   "source": [
    "# Apply the function over the processed canonical SMILES strings\n",
    "df[\"sklearn_ohe_matrix_no_padding\"] = df[\"processed_canonical_smiles\"].apply(\n",
    "    sklearn_one_hot_encoded_matrix,\n",
    "    islaterpadding=False,\n",
    "    isinitialpadding=False,\n",
    "    smiles_maxlen=smiles_maxlen,\n",
    "    unique_char=unique_char,\n",
    ")\n",
    "df.head(2)"
   ]
  },
  {
   "cell_type": "markdown",
   "metadata": {},
   "source": [
    "**Visualization of one-hot encoded matrix (unequal dimension)**"
   ]
  },
  {
   "cell_type": "code",
   "execution_count": 28,
   "metadata": {},
   "outputs": [
    {
     "data": {
      "image/png": "[encoded data removed]",
      "text/plain": [
       "<Figure size 432x288 with 1 Axes>"
      ]
     },
     "metadata": {
      "needs_background": "light"
     },
     "output_type": "display_data"
    },
    {
     "name": "stdout",
     "output_type": "stream",
     "text": [
      "Shape of one-hot matrix :  (15, 43)\n",
      "Associated canonical SMILES:  N([C@H](C)c1ccccc1)c1ncnc2oc(-c3ccccc3)cc12\n"
     ]
    }
   ],
   "source": [
    "# Choose index of the compound for which the OHE matrix is visualised\n",
    "index = 100\n",
    "one_hot_matrix_plot(\n",
    "    df.iloc[index][\"sklearn_ohe_matrix_no_padding\"],\n",
    "    df.iloc[index][\"sklearn_ohe_matrix_no_padding\"],\n",
    "    df.iloc[index][\"processed_canonical_smiles\"],\n",
    ")"
   ]
  },
  {
   "cell_type": "markdown",
   "metadata": {},
   "source": [
    "#### With padding (equal dimension)\n",
    "Padding can either be done before or after one-hot encoding is performed on the SMILES strings, meaning after we label encode the SMILES characters. \n",
    "We discuss both scenarios in the next sections."
   ]
  },
  {
   "cell_type": "markdown",
   "metadata": {},
   "source": [
    "##### Padding after one-hot encoding is performed\n",
    "\n",
    "We simply pass **True** to the `islaterpadding` boolean parameter to the `sklearn_one_hot_encoded_matrix` function as shown below to pad the matrix after one-hot encoding is performed,"
   ]
  },
  {
   "cell_type": "code",
   "execution_count": 29,
   "metadata": {},
   "outputs": [
    {
     "data": {
      "text/html": [
       "<div>\n",
       "<style scoped>\n",
       "    .dataframe tbody tr th:only-of-type {\n",
       "        vertical-align: middle;\n",
       "    }\n",
       "\n",
       "    .dataframe tbody tr th {\n",
       "        vertical-align: top;\n",
       "    }\n",
       "\n",
       "    .dataframe thead th {\n",
       "        text-align: right;\n",
       "    }\n",
       "</style>\n",
       "<table border=\"1\" class=\"dataframe\">\n",
       "  <thead>\n",
       "    <tr style=\"text-align: right;\">\n",
       "      <th></th>\n",
       "      <th>chembl_id</th>\n",
       "      <th>canonical_smiles</th>\n",
       "      <th>Mol2D</th>\n",
       "      <th>processed_canonical_smiles</th>\n",
       "      <th>unique_char_ohe_matrix</th>\n",
       "      <th>sklearn_ohe_matrix_no_padding</th>\n",
       "      <th>sklearn_ohe_matrix_later_padding</th>\n",
       "    </tr>\n",
       "  </thead>\n",
       "  <tbody>\n",
       "    <tr>\n",
       "      <th>0</th>\n",
       "      <td>CHEMBL207869</td>\n",
       "      <td>Clc1c(OCc2cc(F)ccc2)ccc(Nc2c(C#Cc3ncccn3)cncn2)c1</td>\n",
       "      <td><img data-content=\"rdkit/molecule\" src=\"data:image/png;base64,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\" alt=\"Mol\"/></td>\n",
       "      <td>Lc1c(OCc2cc(F)ccc2)ccc(Nc2c(C#Cc3ncccn3)cncn2)c1</td>\n",
       "      <td>[[0.0, 0.0, 0.0, 0.0, 0.0, 0.0, 0.0, 0.0, 0.0,...</td>\n",
       "      <td>[[0.0, 0.0, 0.0, 0.0, 0.0, 0.0, 0.0, 0.0, 0.0,...</td>\n",
       "      <td>[[0.0, 0.0, 0.0, 0.0, 0.0, 0.0, 0.0, 0.0, 0.0,...</td>\n",
       "    </tr>\n",
       "    <tr>\n",
       "      <th>1</th>\n",
       "      <td>CHEMBL3940060</td>\n",
       "      <td>ClCC(=O)OCCN1C(=O)Oc2c1cc1c(Nc3cc(Cl)c(F)cc3)n...</td>\n",
       "      <td><img data-content=\"rdkit/molecule\" src=\"data:image/png;base64,iVBORw0KGgoAAAANSUhEUgAAAMgAAADICAIAAAAiOjnJAAAABmJLR0QA/wD/AP+gvaeTAAAYVElEQVR4nO2deViUVdvA71mAYXlnyBRxBxVUXFJBC7m0F0XEFl8TUeuLcinQtNLKUPOScrvG9cJeW8brUyN7SzFzT1lE9NUrRUoDCSVBSzZFZEDW2e7vj4PzkSIOzHNm6/5d/MEszzlneH7c5zzPnHNuESICQQiN2NoNIBwTEovgAolFcIHEIrhAYhFcILEILpBYBBdILIILJBbBBRKL4AKJRXCBxCK4QGIRXCCxCC6QWAQXSCyCCyQWwQUSi+ACiUVwgcQiuEBiEVwgsQgukFgEF0gsggskFsEFEovgAolFcIHEIrhAYhFcILEILpBYBBdILIILJBbBBRKL4AKJRXCBxCK4QGIRXCCxCC6QWAQXSCyCCyQWwQUSi+ACiUVwgcQiuEBiEVwgsQgukFgEF0gsggskltWor4cbNwAA1GpQq63cGMEhsaxGfj6MHQsVFXD6NJw6Ze3WCA2JZU1mzICVK63dCD6QWKZiMBh0Op1erxektD//BETo3h26d4dz56ChAeLioKREkLJtAhLLJHJzc4ODgxcsWODn57dt2zadTtfuohBh2zYYOBD27gUAWLgQkpPh2DFYvx58fSE2FoqLBWu2NUGiVTQazcqVK52dnQFALpezP1q/fv127dql0+naWlpeHo4ahQAIgDNnYm4uImJODiYn49SpKBYjALq64jvvYEmJ8J/FkpBYrZGdnR0UFAQAIpEoJiZGrVYnJSX5+/szvXx9fVUqlVarNaUorRYTEtDNDQHQ2xt/+KHF6v6iV3z8f0rs1i+HE6u0FJctw7g4PHLEnGI0Go1SqWSBytfXNy0tjT3f0NCg1+vbqldOTs6UKb8AoEiEs2djZWUL73n/fUxIwPp6vHwZo6NxyJBqAHB2do6JiSkuLjbns1gFhxNr9mwsL0dEjI3F9p6PS5cuDRs2zBio7t27Z3xpypQpISEh6enpD+jVu3fvFvXSarVKpdLFxcXXt5+vb/3Bgy3XeO0aSiQIgF274pYtWF+P2dlXIyMjRSIRALi6ui5cuNC+opfDifU//9P0S2Ii7tmD8+fjvn1YUWHi0fX19fHx8U5OTsyV9PT05q/euXPH09OTmRQeHn727Fmml5+fX3O9jGOv5oLOnTu3urrmUfUaDHjwIA4f3jT8GjPm7pYtW+rr63/99dcpU6YY9Tp69Gh7/ibWwOHEevllZOd1xQrcuLHpRInFGBCAMTGYlIRq9aMO/emnnwYMGAAAYrE4JiampqYFD6qrq5VKpVGvkJCQkydPPqzX559/vnbtWtaT+vj4GHvSx5KaiiNGYGDgUgDw8vJSKpV1dXU5OTnR0dEymWzSpEnlLB7bPI4lVmMjnj+PsbG4ZAmuWYNXr+LKlfjPf6KLS5NhAB+EhgYGBsbFxaWmpjY0NLDj6urq4uLiJBIJAPTt2/fUqVOt19OiXhqNZvv27b179zZecYvF4rfffrtFQVvBYMCDBw8OHz6cFdKtW7fKykpE7NOnDwDk5eW1729jYRxILI0Ghw7F99/HuroHX6qrw5QUXLIER44c2r+/8cS7u7tHREQsWLCA2SCVSpcuXWq07bFUVFQsX77ceA8iIiLi3LlzTC8XFxcASE1NNecDpaamBgUFTZ48mT0cMWIEAJw7d86cMi2GA4m1ciUCoJ9fC2I14969e6mpqXFxcYGBgWzs4uLiIhaLBw0alJmZ2Y5qKyoq4uPjWfT68MMP2ZNeXl4AUFpa2p4P0gyDwaC+33ePHz8eAI4fP25mmZbBUcS6ehVlMhSJsC1BorS0dOfOnQDg5OTU2NhoTv0set2+fZs9ZOOtK1eumFPmA0ydOhUA9uzZI2CZ/HCIr3QQYd48aGiAOXMgLMz047y9vWfOnOns7MxuE5jThA4dOqxatapTp07soUKhAICqqipzynwAHmXywyHEUqkgPR28vWH9ehOPKCkpmTZt2pw5c4DPCWM9I4llx5SUlGQeOAASCXz6KTzxhIlHGQyGvXv3Jicnw/0TphZ0rh2PMjt3/sjbu6i2doGAZfLD7sVasGDB08nJG2bOhKgo049qfuLtpduSyTqUlXWrqJAJWCY/7Fusffv27d+/Xy6Xv/zxx2060MPDQyKR1NbW6nQ6exFLoQAAsJOeEKTWbkAbUKvVVfdRq9X+/v7vvvsuACiVyu7du7epKJFIJJfLKysrq6ur7Usse5kdbzNiIUJDA7i6woULsHMnVFVBdTVUVbGflAEDJhw//sARY8eOLS4ufuaZZ2JjY9tRoUKhqKysVKvVbKDNY4xFEcvaZGTAd99B165w5w6EhMAXXzzwutzXFwDkcrniPhKJ5OTJk87Ozjt27BCL29OhG8+9/VwVApBYbWPbNvjmGxCLYcsWEIth61ZQKEChALmc/TLM09Pg6clulDOKiooiIiJu377duXPn9tXJVSweZT7xBPTqBV27ClgkR2xDLLEYWNTx9gZE8PKCqiq4dcvYFRZ5eLz5229saMXGWDqdrkuXLuXl5dOnTz927JhU2uYPYgwq/MQStnvduRMOHIChQ2HzZnjvPQEL5oJtiNWxI1y5Av7+kJwMs2bBmDEPvC4fMeLkhQvNn3F1dZ08efKhQ4fS0tI++OCDhISEttZpPPc2G7EuXYLBg0EiaXpYUgIJCbBjB+Tlmd9A7tiGWGvXwtatUFUFMTHQty9ERjZ1hfd/ZB07prm5eXp6enp6spEWm+oUHR0dGhq6ZcuWgICAmJiYNtVpPPfsitJ8sc6cObNq1ap9+/Z5eHiYKVZDA3z8MWzcCGvXwocfNj0plcK0aaBSmdlMS2HtLyvNhX2L7OrqevZs26YSfPXVV9OmTfvxxx/T0tIAIDQ0tN1tqK6unjt3LhsCKpVKRMzLywMAd3f3goKCtpb23/+ivz8CoFSKK1YgIh45gp98grGxiIixsTh1artbajnsXixEXLJkRWDgcS8vvHGjPYdfuHABAIYPH96+2pOTk3v27AkATk5OcXFxjY2NSUlJnTp1kkqlYrHYyckpOjo6Pz/flKJqamoWLYrr1k0HgIMGYWYmVlRgdHTTHNhZsxARb97EqKj2tdSiOIJYOh0+9xwC4FNPYRtna2JWVtaMGTOcnZ0VCkVCQkJ9fb3px6rV6piYGBaonnrqqV9++aW0tHTKlCmsKwgJCZk6dSq7qnBycpo9e3ZhYWErpaWnp7P5hs8888ny5djYiEeOYLduTUvBlEps+ypGa+IIYiFiVRUGBCAAvvQS6vWPf/+tW7c2bNjQ//5sUsn9EXLPnj2/+OILU+Zm/fjjjz169AAAmUwWHx+v0WiSkpI6duwIAHK5PCEhQa/XI+L169djYmKMerUYvRobG+fNm8cEHTp06MWLF8vL9TNmGBdW4O+/t+uPYlUcRCxEvHIFPT0RAOPjH/kevR6PH8fo6LfZ2B8AunXrtnz58oKCgkOHDhmnmffo0aOV6FVZWWm8UAgODv7tt99KS0tfeukl9syECRP++OOPBw55rF6TJ09u3pP26TPc21vn5oZKpUn/JzaI44iFiMeOoUSCEglevfrgS8XFqFSiry+LAbslEklYWFhSUlLzlYAGg6G5Xj179mxRLzaT083NbfPmzWx9TocOHQBAoVCoVCqDwfCo5j2s1+/3Y1FxcXFOTk5ZWZmxJ501a0erPaet41BiIeLWrXjwIH7xBSJidTWePIk//IDPPde0HBQA+/bFhIS7rSz+ZHqx9YAt6nXt2rWIiIjff/+9uLh40qRJ7G3PPffczZs3TWnho/RqsSe1XxxNLEbfvvjdd3jzJr76apNPMhm+8gqmp+OjA8pfaF0vg8GgUqnY+hxPT0+VStXWFubn57/22mtGvYxrEiMiIv7888+2lmaDOKZYsbE4cyZevowrVuDEibhli+lrof9Ci3pdvXo17P7M+hdeeMGcjRVY9JJIJD4+Pu7u7q33pPaFw4qVn4+vvtraQN509Hr97t27Bw4cyGRyc3MDAC8vr6SkJAFKR4yLiwOAWHYD1FGw7xmkreDnB83WJJuFWCyePn16dnY2i15vv/32jBkzcnNzo9oyGboV2BJnofYKtBFs47tCQdFqob4evvsOPvoIamsFK1YsFr/44ovPP/98+6Z/tQKPqRBWxwEj1vnz8PXXsHo1ODubvmzHVAS3CuxtXZeJOKBY6ekAAOPGWbsdJkNi2QcnTgAAjB1r7XaYjEOK5WhjrLo6OH8eJBJ49llrN8VkPD19goLKZTInazdESBxNrDNnoLERRowQfnTFD7ncNSvL1dXV2u0QFEfrCs+dqxGJ7KkfBAB3d3Bygvp6aGy0dlOEw9HEOnw4tEOHARMm/GbthrQNtnlbdbW12yEcDiWWWq2+ePHivXuFI0f2snZb2oZ9rRk0BYcSi+0zGxwc7O7ubu22tA22mymJZaOcOHECAMbZ0S2s+7CIde+etdshHA4lVnp6OtiJWBkZUFQEAHDiBJw8CS+/DGxHwT//FKZ8vV6/fv363bt3L1iwoIjVZGGs/S24YJw4cUIkEnl4eGg0Gmu35fEkJOAvvyAirl+Pn3+OgYF47Rpu3Yo//yxA4ZcvXx45ciTcv/Xq4uIyf/58E+chCoV9R6w7d+7s3bs3Nja2Z8+e48aNGzhw4FtvvcXyStg+n30GH30EbBOdd9+FVauanjdnloNOp1u3bl1gYGBmZmbXrl3XrFkTHR2t0+k+++yzPn36xMbGWi56WdJiQdBoNBkZGcuWLQsKCmr+lXCXLl0WLVpk7daZygMR6+BB3LULw8Nx+3b08UGVCk3LKfYXHshVVlVVxZ7Pzc2Njo5mK5FY1icLRC+7EaugoEClUkVFRbHwzpDJZGFhYUqlMisry77mXj4sFiKGhuLzzzfNpfbzw8REU9cSNs9V5uPj0zxxwZdffrlp06ba2tqH9SoqKuLx0Rg2LVZdXd2+fftiY2N9fX2bR9lBgwa99957x48fr2s1V4AtY1wq8cCaCb0ek5KwX78mvXx9Hx+9WslVVlNTwxZodO7cefPmzZbUy3bFYhOCjXtiPfnkk1FRUSqV6uFVe44H04vt4KBQVA4ZMqzFnHWt5ypjpKamsoE8AHTq1EmpVFpGL9sVKysrCwAUCsXq1aszMzPtfTlUO9Bq8auvMDJyHdPC39+/eb5gU3KVGWlRr5ycnKioKDZOlclkKSkpAjbedsVat24dALzxxhvWboiVeTih69atWxcvXmx6rjIjLep1+fLl6OhoV1fXiRMnGsf75mO7Yk2YMAEAvv32W2s3xCbQarU7d+5kyy4YUql0yZIlbdrFhHH48GF28QgAUfd3rmH7UFy/fl2oBtuoWI2Nje7u7iKRyPwEWo6EVqvdsWMHi1Xnz583pygWvTIyMtjDIUOGAMDFixeFaCaizYp16tQpdvVn7YbYIuyGS2WLKcvby+jRowHA6Jn52Oidd/at31j7mrBnKYxz5Ddu3Dhq1KhDhw4JWKb5RTHMm5q8cSOo1VBXBx9+CN7eAjUJAGBWdnbX0aOHTZggYJkOg3Ed4s2bN3/66afCwkLzyxR8Y3ozxDpzBqRSWL0aSkth9WrYulWoNkFdXa+jR2P0ehg1SrAyHQgeO9QLvmjWjK7wyhUYOhQAoEsXgTO8nD4NGg0EBcH9bN5Ec/iJJWDEMkOsfv3g118BAG7dajLgm29g40YBGmV3KwMti12IZUZXOHo0nD0Ly5ZBXR189BFcvw6zZ4NWCzodLFliVqPsbi2zZTGOh1i6F0H6L1sSC+D/BTp+HJ5+GhIT4bXXYOlS0GhgxYp2lnn3Lly6BC4uNMB6FMbxELsdb5sRS4jbDYcPw4svwvjxMGEC7NoFUinEx7c/aBUXw5AhEBICDraCUzh4dIWCXxUKIdaIEeDvDz//DOPGQVgYfP01SKWwbl3hpk1tLur0adi1C8aPF/Ia0+Gwi6tCge68l5XhwIEIgAMGYGkp7t5dEBrqJJEsXry4DYXU1OArr6DBgHV1OG2aMA1zRL799lsAmD59ellZGQB4eXmZX2Zubi4A9O/f3/yiGALdee/cGVJTYcAAyMuD8eN1oaEX588HsXjDhg0ffPDBY47VauHUKVi2DDIyYOBAEInA1RWcnJqWrRAP8UDEaneYqa2t/fTTTxERbG7w3pwuXSAjA8LCitzdXxg79seUlP3790dGRm7atMlgMGzevPnB9xcWQloapKVBSkrTSs2VK8E41V+rhWZpL4nmGCWQyWRvvvmmh4eHXq83JtcwkTNnzsyZMyc/P9/JyWnevHnG/MUGg0GYzeWECn0M7a1bQUOHAkD//v1LSkqOHj0qk8kAYO7cuQaDobKykk013jFpUtPcW/YzaBC+9x5mZqJKhYsX4/z5KOikMwfj8uXLABAQENC+w2tra+Pi4pg9gwcPzsrKunv3bkxMjEwmc3NzCwgISExM1JmduEf42Q13795l0338/PyKioqOHTvm7Ow8bNiwUaNGGfOg9unQAb28MCoKVSr8G0w1FpabN28CgFwu/73tSXaSk5N79eoFzXKV7dmzx8vLCwDc3NzYLwAwaNCgpKQkc2btcpk2U1lZOWLECADw8fE5cOAAyzTJPsyzzz67Zs2aCxcuGP5+U42FQqPRbN++XSQSicXiqKioqw8neGmJh3OVlZWVsfQtADB69Oj8/PzGxsYvv/ySmcf0+uHQofadJ17zsYxxSyaTicXiWbNmHTx4sLq6mlN1fzf++OOPOXPmsGUUUqn09ddfbz16mZirjKHRaBITE9ls1Ze/+SYqN/fInTv6Nq6u4zjRz5glq0+fPvxq+Ttz48aNd955x8XFBQBaiV5Lly5lESg4ODgvL++xucoYjY2NX6pU07KzA7OyArOypufmpt29a3r04juDVKlUAsCbb77JtZa/OY/V6+TJk25ubkqlUqfTmZ6rjKE1GI7cufOvnBymF4te39++/b8lJf+5dauVA/mKNX78eADYvXs311oIfJxe5eXl7ctVxmiu1z8vXlxWWFin19e3OkrmKJZxQURZWRm/Wojm3Lhxw5izjumVn59vfq4yhsZg2Hv79r7bt9/Kz99SVHS01cRXHMXKyMhgd0r4VUG0SEFBwaxZs5heUqnUx8eHBarIyEhB/sk/MWGVGMfFFPa7v56907t37x07dly7di0mJgYRAcDT0zMxMfH7779nU7gsgfn+PoqQkBAAOHToEL8qiMeyaNEiAFi4cKGAZVaZcF+eV8SqqanJzMyUSqVjxozhVAVhCmyjHq1WK2CZchO+l+Ql1unTp7VabVBQUPPtrAjLI/gMPhPhJZYd7TPr2FgrGSIvsdjInZYyWx1rpRbjIlZFRUV2drZMJgsODuZRPmE61hKLS/av9PR0g8EQEhLiaCmt7BBPH8+n//u03EVu4XqFF0uj0bBJ2dQP2gKKfyjOu51XSCx9CSWYWIWFhWlpaWlpaSkpKVVVVePGjQsPDxeqcKLdyMVyEYju6e8ZwCC2YCISs8RS69Vnzp85nHg4JSXlxo0bxucHDx68evVq47ZxhBWRiCTuYvcaQ02NvkYusVyH+BixChoLKvWVw92G71fvj/SMBAA96i/VX0q7l5ZWnXaq5tTIcyPPbjsLAB07dgwNDQ0LC5s4cSKbU0bYCAqJosZQU6WvshWxPiv/rEJX4SfzK9eVJ1cn39XdTa5OTr+XXqmvZG9wEjl1HNNx7dq14eHhw4YNE2Z1ByE0ComiWFtcpa/qAZb7h29NrFM1p5J8k9jvB9QH1t1aV9BYAAC9XXqH/SMs7B9h4fJwhUQB1OPZNp4STwCo0lv0jkNrYongLyv7lnReogd9uDzc19n3UYcQNsjG7htTq1Mr9ZWX6i+Va8vHy8dboNLWxPJ19t2n3hcgC5CKpADwRsc3LNAgQljKdeUbbm34d49/X6y7WK4tL9eVW6be1kZFa7utlYqkZ2rOyESy15983TINIoTlXO25qZ5Tuzl1e0HxgrPY2WL1thaxxCD+l+Jf7PceznShZ5e4il2LtcWWr5fLVzqE7fCsx7OqcpVMJCvVlj7j/ozF6hUhberi6OhQd6XhypPSJxUShQ51lrmbRWIRXKBbmgQXSCyCCyQWwQUSi+ACiUVwgcQiuEBiEVwgsQgukFgEF0gsggskFsEFEovgAolFcIHEIrhAYhFcILEILpBYBBdILIILJBbBBRKL4AKJRXCBxCK4QGIRXCCxCC6QWAQXSCyCCyQWwQUSi+ACiUVwgcQiuEBiEVwgsQgukFgEF0gsggskFsEFEovgAolFcIHEIrhAYhFcILEILpBYBBdILIILJBbBBRKL4AKJRXCBxCK4QGIRXCCxCC78HzZEnJo3id1wAAACKXpUWHRyZGtpdFBLTCByZGtpdCAyMDIxLjAzLjQAAHice79v7T0GIOABYkYGCJADYkUgbmAUZFAAibMxJAApJiY2Bg0gzczCAaGZYDRCHkKzO4DFmdkc0NQ7QNVDxRF0Blg9I7oEOwNYgokRp0qYC6FcThgXrgzKQDgJQwDNZG5gODAyMTAxazAxsSiwsDKwsjGwsTOwcyRwcGowcXAlcHEncPNkMPHwJvDyZTDx8SfwCygICCoICmUwCQknCIswCItmMImKMYiKJ4hLZDDxS2YwSUolSElnMEnLJMjIAnWyJ8jwJchyJ0gIJoiwsLJzcHHzsPHyycgCKSFhUXEJQTZJKWkZPn5xWIwwyK29wnrww8y+AyBOStLdA5G3G8HsNI+LByZeUAOz40o/H7A/f2w/iF3IuPhAUjAvWLz4+bQDHFsdweK/HAIPzG7Yvg/E/sdjeUDqTbc9iG31u/RAnaqAA4jN+mLVAdVSLjA7y9HpwE+WRDB78rZT+/9e8ACzH4Tu3x/14yJY7xxv2X1sf8rBbPdFPfbea5+C2VHqMg5fNvWD2ZuvKzqsu7UfbO/LteUOzB9bwe5xjqt1CDyrBHanzayVDrWnfMHszKI1DsvOTwOztddedLj5SQLMdpvxx4HlgzOY/e/KOQeVihSwOY9fLna4ypsENt/cN8fBJukn2N67c9Ic3rXGgN28/JiAQ+/BZjB7imOjfenqIDA7efXKfQtX1ILZYgDvC50E5P6RqQAAAhx6VFh0TU9MIHJka2l0IDIwMjEuMDMuNAAAeJydVcuK3DAQvM9X9A9E9Futc2ZzWbKBHPIPgRzz/6QlebReyIJHxgxVI6tcrX74Bv36eX/9/RfWxffbDQRBBAD/e7fW4Bcj4i0f/xJFXLUjLWouXQNLriJ8/fOZxPkeKl4ahUwVtMCzCjyhYorUERdHtz2VmntjqFAxEz6p/LiuYgWbtOmFMTZVtFSy6AhLNa97EUlhbz5VxEL3VLhEo7GXemx0Unl7xkuojMzkuRjLnhcrohhThVx073SloNjIjBQja3sqWSUhdaqQ1NiLiIo2jXm6rriZIyxk4nNv89irl5HfuZdKbbrnJTOj0tpUIWbfVTGOowOk6jmi61WXmYmaO8Y5o/pmRFKaxdHTprKXacjaxTmlsi/J9qZUV4mGjxnBH7xcnruQE9NYZ0SptxlRzckwqq53lNM5om/XVbyoj8mQmY7G2+eStSZThRk3I5LijXnWbrbleUo9VXWOIhOp2mY35px0HtNWC1HVPS9Z9zjzm1XXaPNLkj0o8xuQvfBx7l5WyVB4/HaSSBZJpOOvg9haSeSLJKqLJIpFErWh0UkDwqWWhB4riYgXYSBZRKBHdxCFXsoHMSBfxIGWg0S0HCSi5SAR44Mk6kmkRZaDRLzOoJPlIBHb6aW8HCTiukiF3v8HCeDlIJHgKTiI08p7cPnM+4HkG+nx2HeAl7f77R9ofpL5XnNjswAAAWx6VFh0U01JTEVTIHJka2l0IDIwMjEuMDMuNAAAeJwtkUuO4zAQQ6/SSxuQBdW/CkFWBmY5OYS2g8wF+vBNKQ14oyeaVaRez/u473/n677fNI/n6/w/edLEd/ydMueBy3n8OeeU8z3f4Pz1fVzRfeTIdlE3E26Py7vpGNUuxpVrblSU7O3SPiyHAGUXV+WF1JwLyPooKVk/8kgmIO1BFtau0cPcfcmks5fVYmKp2417FsGNlgXpVqWKeoOX8a+9KGxByOUjGWKsTbqR1bJBhpQAIInwDbQ0Cb6OQctldDJxxBu9PD3B1tAMaKJUrD24q1ThTMy+z8YZn4VDEag9sJ0XNBgw1LE4SFlmrvCmEmgN+46xmkVgMv2QzIq2a+GED7o2lt21ZCHcI9CErHaQzsl4adRlV5jFatsHm8kizAO9rulezCsn4gptMATPKV3xPLFCsDNx004Ukjs1YhMUXBS0qxEhSQcqNMzt/P4BQYV7drj1BsAAAAAASUVORK5CYII=\" alt=\"Mol\"/></td>\n",
       "      <td>LCC(=O)OCCN1C(=O)Oc2c1cc1c(Nc3cc(L)c(F)cc3)ncn...</td>\n",
       "      <td>[[0.0, 0.0, 0.0, 0.0, 0.0, 0.0, 0.0, 0.0, 0.0,...</td>\n",
       "      <td>[[0.0, 0.0, 0.0, 1.0, 0.0, 0.0, 0.0, 0.0, 0.0,...</td>\n",
       "      <td>[[0.0, 0.0, 0.0, 1.0, 0.0, 0.0, 0.0, 0.0, 0.0,...</td>\n",
       "    </tr>\n",
       "  </tbody>\n",
       "</table>\n",
       "</div>"
      ],
      "text/plain": [
       "       chembl_id                                   canonical_smiles  \\\n",
       "0   CHEMBL207869  Clc1c(OCc2cc(F)ccc2)ccc(Nc2c(C#Cc3ncccn3)cncn2)c1   \n",
       "1  CHEMBL3940060  ClCC(=O)OCCN1C(=O)Oc2c1cc1c(Nc3cc(Cl)c(F)cc3)n...   \n",
       "\n",
       "                                               Mol2D  \\\n",
       "0  <img data-content=\"rdkit/molecule\" src=\"data:i...   \n",
       "1  <img data-content=\"rdkit/molecule\" src=\"data:i...   \n",
       "\n",
       "                          processed_canonical_smiles  \\\n",
       "0   Lc1c(OCc2cc(F)ccc2)ccc(Nc2c(C#Cc3ncccn3)cncn2)c1   \n",
       "1  LCC(=O)OCCN1C(=O)Oc2c1cc1c(Nc3cc(L)c(F)cc3)ncn...   \n",
       "\n",
       "                              unique_char_ohe_matrix  \\\n",
       "0  [[0.0, 0.0, 0.0, 0.0, 0.0, 0.0, 0.0, 0.0, 0.0,...   \n",
       "1  [[0.0, 0.0, 0.0, 0.0, 0.0, 0.0, 0.0, 0.0, 0.0,...   \n",
       "\n",
       "                       sklearn_ohe_matrix_no_padding  \\\n",
       "0  [[0.0, 0.0, 0.0, 0.0, 0.0, 0.0, 0.0, 0.0, 0.0,...   \n",
       "1  [[0.0, 0.0, 0.0, 1.0, 0.0, 0.0, 0.0, 0.0, 0.0,...   \n",
       "\n",
       "                    sklearn_ohe_matrix_later_padding  \n",
       "0  [[0.0, 0.0, 0.0, 0.0, 0.0, 0.0, 0.0, 0.0, 0.0,...  \n",
       "1  [[0.0, 0.0, 0.0, 1.0, 0.0, 0.0, 0.0, 0.0, 0.0,...  "
      ]
     },
     "execution_count": 29,
     "metadata": {},
     "output_type": "execute_result"
    }
   ],
   "source": [
    "# Apply the function over the processed canonical SMILES strings\n",
    "df[\"sklearn_ohe_matrix_later_padding\"] = df[\"processed_canonical_smiles\"].apply(\n",
    "    sklearn_one_hot_encoded_matrix,\n",
    "    islaterpadding=True,\n",
    "    isinitialpadding=False,\n",
    "    smiles_maxlen=smiles_maxlen,\n",
    "    unique_char=unique_char,\n",
    ")\n",
    "df.head(2)"
   ]
  },
  {
   "cell_type": "markdown",
   "metadata": {},
   "source": [
    "**Visualization of one-hot encoded matrix (equal dimension)**"
   ]
  },
  {
   "cell_type": "code",
   "execution_count": 30,
   "metadata": {},
   "outputs": [
    {
     "data": {
      "image/png": "[encoded data removed]",
      "text/plain": [
       "<Figure size 432x288 with 1 Axes>"
      ]
     },
     "metadata": {
      "needs_background": "light"
     },
     "output_type": "display_data"
    },
    {
     "name": "stdout",
     "output_type": "stream",
     "text": [
      "Shape of one-hot matrix :  (36, 267)\n",
      "Associated canonical SMILES:  O(C)c1c(C(=Cc2c3c(N)nc(N)nc3oc2)CCCC)cccc1\n"
     ]
    }
   ],
   "source": [
    "# Choose index of the compound for which the OHE matrix is visualised\n",
    "index = 2705\n",
    "one_hot_matrix_plot(\n",
    "    df.iloc[index][\"sklearn_ohe_matrix_later_padding\"],\n",
    "    unique_char,\n",
    "    df.iloc[index][\"processed_canonical_smiles\"],\n",
    ")"
   ]
  },
  {
   "cell_type": "markdown",
   "metadata": {},
   "source": [
    "##### Padding before one-hot encoding is performed\n",
    "\n",
    "In this case, padding is performed before OHE - but after integer encoding - the list of SMILES characters by passing **True** to the `initial_padding` boolean parameter to the `sklearn_one_hot_encoded_matrix` function."
   ]
  },
  {
   "cell_type": "code",
   "execution_count": 31,
   "metadata": {},
   "outputs": [
    {
     "data": {
      "text/html": [
       "<div>\n",
       "<style scoped>\n",
       "    .dataframe tbody tr th:only-of-type {\n",
       "        vertical-align: middle;\n",
       "    }\n",
       "\n",
       "    .dataframe tbody tr th {\n",
       "        vertical-align: top;\n",
       "    }\n",
       "\n",
       "    .dataframe thead th {\n",
       "        text-align: right;\n",
       "    }\n",
       "</style>\n",
       "<table border=\"1\" class=\"dataframe\">\n",
       "  <thead>\n",
       "    <tr style=\"text-align: right;\">\n",
       "      <th></th>\n",
       "      <th>chembl_id</th>\n",
       "      <th>canonical_smiles</th>\n",
       "      <th>Mol2D</th>\n",
       "      <th>processed_canonical_smiles</th>\n",
       "      <th>unique_char_ohe_matrix</th>\n",
       "      <th>sklearn_ohe_matrix_no_padding</th>\n",
       "      <th>sklearn_ohe_matrix_later_padding</th>\n",
       "      <th>sklearn_ohe_matrix_initial_padding</th>\n",
       "    </tr>\n",
       "  </thead>\n",
       "  <tbody>\n",
       "    <tr>\n",
       "      <th>0</th>\n",
       "      <td>CHEMBL207869</td>\n",
       "      <td>Clc1c(OCc2cc(F)ccc2)ccc(Nc2c(C#Cc3ncccn3)cncn2)c1</td>\n",
       "      <td><img data-content=\"rdkit/molecule\" src=\"data:image/png;base64,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\" alt=\"Mol\"/></td>\n",
       "      <td>Lc1c(OCc2cc(F)ccc2)ccc(Nc2c(C#Cc3ncccn3)cncn2)c1</td>\n",
       "      <td>[[0.0, 0.0, 0.0, 0.0, 0.0, 0.0, 0.0, 0.0, 0.0,...</td>\n",
       "      <td>[[0.0, 0.0, 0.0, 0.0, 0.0, 0.0, 0.0, 0.0, 0.0,...</td>\n",
       "      <td>[[0.0, 0.0, 0.0, 0.0, 0.0, 0.0, 0.0, 0.0, 0.0,...</td>\n",
       "      <td>[[0.0, 0.0, 0.0, 0.0, 0.0, 0.0, 0.0, 0.0, 0.0,...</td>\n",
       "    </tr>\n",
       "    <tr>\n",
       "      <th>1</th>\n",
       "      <td>CHEMBL3940060</td>\n",
       "      <td>ClCC(=O)OCCN1C(=O)Oc2c1cc1c(Nc3cc(Cl)c(F)cc3)n...</td>\n",
       "      <td><img data-content=\"rdkit/molecule\" src=\"data:image/png;base64,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\" alt=\"Mol\"/></td>\n",
       "      <td>LCC(=O)OCCN1C(=O)Oc2c1cc1c(Nc3cc(L)c(F)cc3)ncn...</td>\n",
       "      <td>[[0.0, 0.0, 0.0, 0.0, 0.0, 0.0, 0.0, 0.0, 0.0,...</td>\n",
       "      <td>[[0.0, 0.0, 0.0, 1.0, 0.0, 0.0, 0.0, 0.0, 0.0,...</td>\n",
       "      <td>[[0.0, 0.0, 0.0, 1.0, 0.0, 0.0, 0.0, 0.0, 0.0,...</td>\n",
       "      <td>[[0.0, 0.0, 0.0, 1.0, 0.0, 0.0, 0.0, 0.0, 0.0,...</td>\n",
       "    </tr>\n",
       "  </tbody>\n",
       "</table>\n",
       "</div>"
      ],
      "text/plain": [
       "       chembl_id                                   canonical_smiles  \\\n",
       "0   CHEMBL207869  Clc1c(OCc2cc(F)ccc2)ccc(Nc2c(C#Cc3ncccn3)cncn2)c1   \n",
       "1  CHEMBL3940060  ClCC(=O)OCCN1C(=O)Oc2c1cc1c(Nc3cc(Cl)c(F)cc3)n...   \n",
       "\n",
       "                                               Mol2D  \\\n",
       "0  <img data-content=\"rdkit/molecule\" src=\"data:i...   \n",
       "1  <img data-content=\"rdkit/molecule\" src=\"data:i...   \n",
       "\n",
       "                          processed_canonical_smiles  \\\n",
       "0   Lc1c(OCc2cc(F)ccc2)ccc(Nc2c(C#Cc3ncccn3)cncn2)c1   \n",
       "1  LCC(=O)OCCN1C(=O)Oc2c1cc1c(Nc3cc(L)c(F)cc3)ncn...   \n",
       "\n",
       "                              unique_char_ohe_matrix  \\\n",
       "0  [[0.0, 0.0, 0.0, 0.0, 0.0, 0.0, 0.0, 0.0, 0.0,...   \n",
       "1  [[0.0, 0.0, 0.0, 0.0, 0.0, 0.0, 0.0, 0.0, 0.0,...   \n",
       "\n",
       "                       sklearn_ohe_matrix_no_padding  \\\n",
       "0  [[0.0, 0.0, 0.0, 0.0, 0.0, 0.0, 0.0, 0.0, 0.0,...   \n",
       "1  [[0.0, 0.0, 0.0, 1.0, 0.0, 0.0, 0.0, 0.0, 0.0,...   \n",
       "\n",
       "                    sklearn_ohe_matrix_later_padding  \\\n",
       "0  [[0.0, 0.0, 0.0, 0.0, 0.0, 0.0, 0.0, 0.0, 0.0,...   \n",
       "1  [[0.0, 0.0, 0.0, 1.0, 0.0, 0.0, 0.0, 0.0, 0.0,...   \n",
       "\n",
       "                  sklearn_ohe_matrix_initial_padding  \n",
       "0  [[0.0, 0.0, 0.0, 0.0, 0.0, 0.0, 0.0, 0.0, 0.0,...  \n",
       "1  [[0.0, 0.0, 0.0, 1.0, 0.0, 0.0, 0.0, 0.0, 0.0,...  "
      ]
     },
     "execution_count": 31,
     "metadata": {},
     "output_type": "execute_result"
    }
   ],
   "source": [
    "# Apply the function over the processed canonical SMILES strings\n",
    "df[\"sklearn_ohe_matrix_initial_padding\"] = df[\"processed_canonical_smiles\"].apply(\n",
    "    sklearn_one_hot_encoded_matrix,\n",
    "    islaterpadding=False,\n",
    "    isinitialpadding=True,\n",
    "    smiles_maxlen=smiles_maxlen,\n",
    "    unique_char=unique_char,\n",
    ")\n",
    "\n",
    "df.head(2)"
   ]
  },
  {
   "cell_type": "markdown",
   "metadata": {},
   "source": [
    "**Visualization of one-hot encoded matrix (equal dimension)**"
   ]
  },
  {
   "cell_type": "code",
   "execution_count": 32,
   "metadata": {},
   "outputs": [
    {
     "data": {
      "image/png": "[encoded data removed]",
      "text/plain": [
       "<Figure size 432x288 with 1 Axes>"
      ]
     },
     "metadata": {
      "needs_background": "light"
     },
     "output_type": "display_data"
    },
    {
     "name": "stdout",
     "output_type": "stream",
     "text": [
      "Shape of one-hot matrix :  (36, 267)\n",
      "Associated canonical SMILES:  O(C)c1c(C(=Cc2c3c(N)nc(N)nc3oc2)CCCC)cccc1\n"
     ]
    }
   ],
   "source": [
    "# Choose index of the compound for which the OHE matrix is visualised\n",
    "index = 2705\n",
    "one_hot_matrix_plot(\n",
    "    df.iloc[index][\"sklearn_ohe_matrix_later_padding\"],\n",
    "    unique_char,\n",
    "    df.iloc[index][\"processed_canonical_smiles\"],\n",
    ")"
   ]
  },
  {
   "cell_type": "markdown",
   "metadata": {},
   "source": [
    "### Keras implementation of one-hot encoding"
   ]
  },
  {
   "cell_type": "markdown",
   "metadata": {},
   "source": [
    "Keras is also a very powerful and intensively used library, especially employed in deep learning tasks. \n",
    "There may be a case where we have sequences or strings that are already integer encoded, then we can use the function called [to_categorical()](https://keras.io/api/utils/), provided by the keras library, to one-hot encode integer data directly, otherwise we can use [Tokenizer](https://keras.io/api/preprocessing/text/) to first integer encode the string data and then use the `to_categorical` function to one-hot encode the data."
   ]
  },
  {
   "cell_type": "code",
   "execution_count": 33,
   "metadata": {},
   "outputs": [],
   "source": [
    "# Use keras implementation of one-hot encoding\n",
    "def keras_one_hot_encoded_matrix(smiles, islaterpadding, smiles_maxlen, unique_char):\n",
    "    \"\"\"\n",
    "    One-hot encodes the SMILES using keras\n",
    "    implementation.\n",
    "\n",
    "    Parameters\n",
    "    ----------\n",
    "    canonical_char : array\n",
    "        Canonical character array.\n",
    "    islaterpadding : bool\n",
    "        The paramater is `True` if later_padding is required,\n",
    "        `False` otherwise.\n",
    "    smiles_maxlen : int\n",
    "        Maximum length of the SMILES string.\n",
    "    unique_char : list\n",
    "        List of unique characters in the string data set.\n",
    "\n",
    "    Returns\n",
    "    -------\n",
    "    encoded : numpy.ndarray\n",
    "        One-hot encoded matrix of shape\n",
    "        (chars in SMILES, length of SMILES).\n",
    "    \"\"\"\n",
    "\n",
    "    # Integer encoding using Tokenizer\n",
    "    input_smiles = smiles\n",
    "    tokenizer = Tokenizer(char_level=True)\n",
    "    tokenizer.fit_on_texts([input_smiles])\n",
    "    integer_encoded = tokenizer.texts_to_sequences([input_smiles])[0]\n",
    "\n",
    "    # One-hot encoding using to_categorical function\n",
    "    encoded = to_categorical(integer_encoded)\n",
    "    if islaterpadding:\n",
    "        encoded = later_padding(encoded, smiles_maxlen, unique_char)\n",
    "    encoded = encoded.transpose()\n",
    "    return encoded"
   ]
  },
  {
   "cell_type": "markdown",
   "metadata": {},
   "source": [
    "Next, we implement two scenarios: \n",
    "\n",
    "- OHE without padding, which will result in unequal dimensions of the produced one-hot encoded matrix and \n",
    "- OHE with later padding by passing `True` to the boolean parameter `islaterpadding` in the `keras_one_hot_encoded_matrix` function."
   ]
  },
  {
   "cell_type": "markdown",
   "metadata": {},
   "source": [
    "#### Without padding (unequal dimension)"
   ]
  },
  {
   "cell_type": "code",
   "execution_count": 34,
   "metadata": {},
   "outputs": [
    {
     "data": {
      "text/html": [
       "<div>\n",
       "<style scoped>\n",
       "    .dataframe tbody tr th:only-of-type {\n",
       "        vertical-align: middle;\n",
       "    }\n",
       "\n",
       "    .dataframe tbody tr th {\n",
       "        vertical-align: top;\n",
       "    }\n",
       "\n",
       "    .dataframe thead th {\n",
       "        text-align: right;\n",
       "    }\n",
       "</style>\n",
       "<table border=\"1\" class=\"dataframe\">\n",
       "  <thead>\n",
       "    <tr style=\"text-align: right;\">\n",
       "      <th></th>\n",
       "      <th>chembl_id</th>\n",
       "      <th>canonical_smiles</th>\n",
       "      <th>Mol2D</th>\n",
       "      <th>processed_canonical_smiles</th>\n",
       "      <th>unique_char_ohe_matrix</th>\n",
       "      <th>sklearn_ohe_matrix_no_padding</th>\n",
       "      <th>sklearn_ohe_matrix_later_padding</th>\n",
       "      <th>sklearn_ohe_matrix_initial_padding</th>\n",
       "      <th>keras_ohe_matrix_without_padding</th>\n",
       "    </tr>\n",
       "  </thead>\n",
       "  <tbody>\n",
       "    <tr>\n",
       "      <th>0</th>\n",
       "      <td>CHEMBL207869</td>\n",
       "      <td>Clc1c(OCc2cc(F)ccc2)ccc(Nc2c(C#Cc3ncccn3)cncn2)c1</td>\n",
       "      <td><img data-content=\"rdkit/molecule\" src=\"data:image/png;base64,iVBORw0KGgoAAAANSUhEUgAAAMgAAADICAIAAAAiOjnJAAAABmJLR0QA/wD/AP+gvaeTAAAakklEQVR4nO3dZ1hUV8IH8P8MZehdVpEgoqh0WwxusEUTSxIfI7jRtWzsbRWBdS0Jxrqiq5BNomIjmmA0Rk0sRIgRA77kkSZKDKAwFEMvMwxSZphy3g/Xl9e1DHfKZYic35MPPObec474nzv33tN4hBBQlL7xDd0A6uVEg0VxggaL4gQNFsUJGiyKEzRYFCdosChO0GBRnKDBojhBg0VxggaL4gQNFsUJGiyKEzRYFCdosChO0GBRnKDBojhBg0VxggaL4gQNFsUJGiyKEzRYFCdosChO0GBRnKDBojhBg0VxggaL4gQNFsUJGiyKEzRYFCdosChO0GBRnKDBojhBg0VxggaL4gQNFsUJGiyKEzRYFCdosChO0GBRnKDBojhBg0VxggaL4gQNFsUJGiyKEzRYFCdosChO0GBRnKDBojhBg0VxggaL4oSxoRtAGUZdXV1KSoqdnR0AGxsbIyMjCwsLgUBgampqaWnJ5/NtbW11KZ8Gqyc6d+7c1atX4+LiOj3S1taWz+ePHj06Ojp68ODB7Kvg0V3sexqJROLl5VVVVTVq1CgbGxvmT1QqVUtLS3t7u0wma21tVSqVTU1NHafY29u3tLTk5eUNGDCAbTWE6mFWrVoFICgoSKVSdXqwWCwWiURz584FMGfOHPa10CtWz5KVlRUYGMjj8bKyspKSkoKDg9lchCorKz09Pdva2jIzM0eMGMGmIvpU2IMolcrly5crlcqIiIjq6uoNGzYEBga2traqOaW0tHTBggWZmZlr1qwhhPzjH/9gW5nWV1TqDyc2ttHXd2m/fv3q6uqYC9XevXvVn3LgwAEAgwcPrqurc3BwAPDjjz+yqUtdsCqk0jKptKG9XYO2U91VeTmxsSF8PklMrNiyZQcAPz+/9s7+cdvb2z09PQEcPXp0z549AAICApRKZafVqQtWeFFRUkPDr83Nmv0NqG4pJIQAZOZMkp9PXFyUr79+KC0tjc2JZ86cAeDi4tLQ0ODm5gbg9OnTnZ6lLlhhhYUJ9fVlbW1s2051V4mJBCAWFqS4mLzxBgHIsmVsz1WpVIGBgQCioqKOHz8OoH///jKZTP1Z6oK1raSkXCptUSjYNoHqllpbiYcHAcj+/eTECQIQR0dSV6dBCT///DMAOzu7mpoaHx8fAJ999pn6U9QFa8/DhxpUTnVXaWnExoYMHUrkchIcTABy8qTGhbz11lsA1q9ff/HiRQC9evWSSCRqjlcXLIlCoSTkmki05sEDBYuXaVR3s3kzEYlIdTX56ivy22+EEKJSkUuXiBb/mHfu3OHz+WZmZmVlZePHjwfw8ccfqzle3XssGyMjFSEHKip+aWpKaGhg+wKD6jbKy7F3L1pa0NAAb28A4PHw7rvg8TQuKiAgYPbs2VKpdNu2bVFRUTweb//+/dXV1S86vpMXpMY83goXFwCxlZVSlUrj5lAG5eQEV1ekp+untB07dpiZmSmVylGjRk2fPr25uTkqKupFB3f+5v0tBwcvC4taufxsba1+Gkh1oRUr8M03+inKw8OjpKTkxIkTPB4vKCjI1tY2KCjoRQd3HiwesM7VFcAX1dVNCoV+2kh1icBAGBkhMhKmptDLZaF3794AmpqaYmJiJBKJRCJ50ZGs+gpHWFu/ZmNjCpz84Qc9tI7qKrNmAUBqKlavxvbteit248aNlZWVQUFBixYteuFBLB8K7lVUWNnbm5ub//777xo/UVAGVVBAjI2JiQkpLNRDaRkZGUZGRsbGxnfu3FFzmAad0HPmzAGwePFindtGdbUlSwhAZs/WtRyFQjFs2DDmoqX+SA2CVVxcbGpqamRkdO/ePd2aR3W1igpiYUF4PHLrlk7lxMSQsWPPDh06srmzHmTNhs38/e9/BzBjxgwd2kYZxoYNBCCTJ8u1LqG8nFhbE4BcudL5wZqNIK2pqRkwYEBLS8vo0aOdnJzMzMxMTEysrKx4PN6L5nt4enoOHTpUx7tFSneNjZg167sHD9YfO3bozTff1KKEkBCcP4/gYJw7x+JojTLb3t7u6urKPHOybk1IdHS0dh8RSr/27t2L/x5QlZ2dnZWVVVRUJBQKa2oaRSLyorEsV68SgFhbE5YPb5pdsfbs2bNx48Z+/fodPHhQoVDIZLL29vaWlhaVSsW80nhqvkdtbW1SUpKxsXF+fr6Hhwf7iiguSKXSwYMHP3z48Ouvv2YexYyMjFT/16EybtzZlJRZzM8mJsjLw8CBj09sa4OvL4qLER2NsDB2lbHPe1lZmZWVFYCEhAT2Zy1cuBDA3Llz2Z9CcYeZS9i/f3+pVCqXy0eMGDF8+HAPDw8PD49p0xLs7YlAQAACkNLS/z9LJCLz5pFhw4ic9R2aBsGaPn06gNmzZ+fm5u7cubPToV6EkLy8vPLycgsLCx6Pl52dzb4uiiMKhcLX1xfA6tWrf/nll6ysrNzcXKFQWFJSIhK1ikSE+ZKUyR7/EBpKzp4lhJCNG0lLiwYVsQ3WhQsXANjY2Dx8+PD1118HsG3bNvWnrF27ls/nX7p0iZnaMXnyZA3aRXHm2LFj5ubmz353jR+fylyrAGJpSeztSe/eJCyMhIaSxkYSGqpZLayC1dLS4u7uDuDzzz8/cuQIgN69e4vFYvVnffrppwCGDBlSW1vLTPD46aefNGsdxYF33nkHwCuvvBIYGDhixAhfX18PD49+/fpNmZJub094PNIRLz6fRESQhw/Jhx9yE6zw8HAAI0eOrKmpcXJyAnDmzJlOz2pvbx84cCCAuLi43bt3MyWwmX1Lcef8+fPMN09FRYWawx49IiIRqaoiERGEEBITo8EYeUbnwcrNzTUxMeHz+enp6QsWLADw1ltvsSz966+/BtC3b9+GhoZXXnkFwDfffKNZAyn9aWpqcnV1BXDgwAGWpzD9ge3tJDNTs7o6CZZSqRw9ejSA0NDQlJQUHo8nEAgKCgpYlq5SqZgZ2Xv37j169CgADw8PNnf9FBfCwsKY7w0F9xNkOgnWoUOHmDuq2tpaLy8vADt27NCogh9//BGAnZ1dbW2tt7e3Rh8XSo+Ybx4jI6OueTxXF6zq6mp7e3sAZ8+e3b59O4BBgwZJpVJN65g0aRKADRs2MI+Wzs7OTU1NOrSZ0ljHN8+6deu6pkZ1wZo3bx7zmqCoqIh5QL1+/boWdXRM8Oh4VbF9+3ZtG0xpg1mCoU+fPo2NjV1T4wuDVVtb6+TkJBAIhELhvXv3RowYMX/+fK2rmT17NoClS5fevHkTgJWV1UM6abGrdHzznDt3rssqfeFSkXK53NzcXKFQODs7W1lZpaent7W1sesleo6dO3eam5t/9NFHbm5uY8aMycjIYFYBYEZAPHdwRMe4icDAwNDQUD6frrikpfDwcLFYPGXKlODg4C6rVF0ndFBQUFpa2tatWz/++GN91SeXy/38/IqKing8noLd1AxPT0+BQJCZmWlmZqavZgCQyWSlpaWbNm0yNjY2Nzc3MzN7al1XZvlNS0tLU1NTgUDg4OCgZlJKt5WSkjJhwgQzM7N79+516TgANVezW7du8Xg8Kyur6upqfV0hmTelAwcObGtrI4RIpVKRSFRfXy8UCoVC4e3bt7OyslJSUq5du5aQkHD27NnTp08zb1n37dunrzYwtm3b1rdvX/a/KHd3902bNsnZd8N2A1KpdMiQIQB2797dxVV3MmxmxowZFy9eXLNmDdM/o6OHDx96e3u3tLQkJCRMmzaN5VlJSUlTpkyxt7cvKipiuoZ0V1RU5OfnJ5PJtm7d6uXl9dx1XZn73ObmZrlcLpVK09LSRCLR4cOHly1bppc2dIGtW7du27bNx8cnJyfHxMSkK6vuJFj379/39fXl8Xh5eXkDO4bnaGv69OmXL1+eM2cO80aevUmTJl2/fn3Tpk3/+te/dGwDY9q0aVevXl24cGFcXBwhZMWKFQCsra07vhaZOzwA9vb2gwcP9vf3P3fu3KxZs/r06VNYWGhpaamXZnDh8OHDwcHBTk5OhYWFISEhSqXys88+mzBhQle3o9NrGjN3TKMVc5+LZS/Vc2VmZvJ4PH1NPjt16hQABweH2tpaQkinDyUfffQRcyLzKmjXrl26t4EjSUlJANzc3GQyGfP6cNGiRQZpSecjSCsqKgYNGqTRirnPam1t9fHxKS0tPXDgALMctKbef//9otzcE++956fbRaupqcnLy6uysvLYsWOLFy8GIJfLv/jiC+Z/KZXK1tbWjpGxhJDGxsa//OUvISEhAFJTU8eNG2draysUCh0dHXVpBhdkMllAQMD9+/f37NnTt2/fefPmOTo65ufn9+rVywCtYZO+f/7zn9Ck7/lZuvdSSQoLVaamxNiY5Odr3QxCyMqVK8F6lfNnTZ06FUB4eLgubeBIZGQkAB8fn/r6ehcXFwBxcXFpaWktGo3Q0xNWwRKLxcxd87Vr17SoQ2+9VKtWPV5GU1ssZ/GqkZuby+fzTU1NhUKh1s3gwoMHD8zMzHg83o0bN5hbxqCgoPLychsbG3d39zqNFvDTB7YjSJkFa56c4LF27dply5atWbNmw4YNmzdvjoqKioqKio2NPXz4cHx8fEZGBnOYPnupamoeT2xjtyrrU9jP4lVv/vz5AP72t7/pUojeTZw4EcCSJUsyMjL4fL6xsfHdu3dnzZoF4L333uv69rANVltbGzOgqmOIH7MNy4ssX76cOezgwYPQYy9VZCQByJgxWpwaHR0NwM3NrdNZvOqVlpYKBAI+n5+Tk6NLOXr05ZdfAnB0dKyurmY+PJs2bUpMTARgYWFRUlLS9U3SYPrX8ePHlyxZ0r9//4KCAlNT0y+//FIqlUql0ra2NoVC8ejRIwBisRjAo0eP3nzzzYULF9bU1Hh5eYnF4m+//Za5/9VVUxMGDoREgpycx2vUsVNVVeXl5SWRSC5duvTuu+/q2Irw8PCYmJi33377ypUrOhalO7FYzIz/PnHiRENDQ0REhJubW3Z2dmBgoFAo3LdvX0RERNe3SoNgKZVKf3//vLy8kSNHenh4dLrVna2tbUxMTGJi4uTJk5lPj34kJcHeHmlpsLfHvHkwZrUzXnBw8IULF4KDg8+xmsbbifr6+oEDB0okkuvXr7/xxhu6F6iL5cuXHzlyZMyYMWfOnPH29mY+POnp6bt27fLz88vOzu7iV6OPaXR9S0xMZJ6qWOrTp4+VlVVxcbGer7Pz5xORiGRlkchIkpFBfvqJZGWRrCzy4AERCqXV1SKR6Mnvu6tXrwKwtrbW4xpMO3bsADBq1CjDjuJXKBQhISGmpqZ5eXkzZ84EEBwcfP/+febL+pdffjFUwzTe/auysjItLe1FU5+f6hIJCAhYv369s7OzRlV0QizGnj1gVr9cvhyZmcjJefL/Z48bNzIlhfmZuXwyL6Wio6PD2E7j7VxbW9ugQYPKy8vPnz/P/IuqFxcHX1+MGoUTJ9DejmXL8OgREhIwe7YeGlNYWCgUCqdOnWptbf3bb7998MEHycnJK1asYAYAG4TGO6y6uLgwzxoGY2MDkQgApFIYGWH4cNjbg1mzUCKBStVmZWVvb8/c/KlUKrFYzPTA+Pv7A0hKSkpNTd21a5fW9be0tFhaWpqbm2/YsGHNmjUhISHm5uZP3gkEBh7Mz3/Tzg48HqysYGICMzPY2SErC8OH4+5dyOUAIJOhoEAPvw8Affv2nTJlCoDt27cnJycnJyc7OTnt3LlTP6Vrx1CXSp189x2JjCTr13e6Rp1CoRCJRMybw1dffbW2tpaZlp2enq5dzZWVlc7OzpGRkQqFYsuWLc/9lY4fn9wxNa/jv7VrSVYW+eQTsm4deecdsnMn2byZqF0pXQPMX3DYsGFyuZy5fH711Vf6KVpbf8xgaai1tZWZ9vTtt99++OGHAMaOHatdUe+//z6AqVOnFhYWMi8kk5OTm5ubRSJRVVWVUCi8f/9+Tk5NVha5do1cu0YuXCBnz5KTJ0lYGCGEbN5Mli4lq1cTQkhdnX6Cde/ePQcHh/HjxzOfFpVKdenSJYPP3+wRwSKExMbGAhg0aFBDQwNzz/fDDz9oWgjTxWthYVFcXKxpFy+zAoJYTKKiCLNJYHMz0bwJT1OpVMw+EatWrdK1LL3qKcFSKBTM9LXY2FjmTamfnx+bffc6MGsAAdizZ098fDyeGB/B3vXrxNSUDB1KNKlZnWPHjgH405/+JBKJ9FOinvSUYBFCmDdYffr0EYlEzCBdjW5Enu3iPX78uKZtkMkeb8QVH6/pqc9RX1/PjFw4deqUHorTqx4ULELIn//8ZwA7d+48efIkAHd3d5bTJJ/s4tVxfASzsZu7O9F8gubTmLXHxo8fb/A7qmf1rGClpqYCsLa2rqqqYvrUYmJi2Jz4ZBevjuMjlEoydCgByCefaFfAYzdv3tR0xYOu1LOCRQh5++23AYSFhSUkJABwcnLqtHf82S5eHcdHXLlCAOLsrJJItFzGQi6XM6/ltm7dqktLuNPjgvXkgKpx48Y5ODjcvHlTzfEymYyZzHPixAl9jY8ghMybl+Ht/WpkZKR2pzNj/z09Pdu668bKPS5YhBBmMab58+cLhcJOl48jhNy9ezc0NLSiooLpXL906ZLubUhPT+fxeJaWllVVVZqeW1payvQlaDfusmv0xGB1DKi6ffs2+7M6unj11QymQC3ePzFL8nXz9YI17oR+OURERERHR/fr12/y5Mlqdj/oGAKUl5cXGhpqbW2dl5fHvMTX3YMHD5iNu3/99VdmWikbzCw0Gxub/Px85q1HN2XoZBvGlStXzM3NjdmN5WJYWVnpfSeEpUuXApg4ceK1a9dSU1OzsrJycnKYSeENDQ0ikai9vf3J4zuW5Dt48KB+W6J3PfGKpVAoRowYkZubO3PmzMmTJ7McAnTq1CkPDw+Nstip4uJiHx8fS0vLBrVbbpuZmXV8DOrq6kaOHJment7NV0nR56/pj+Lf//53bm6up6fnqVOn9LvQiKaY4d1WVlaTJk160SBvhULBDAFnTjE3N/fx8enmqQJ63ldhWVlZN3mk6nibn5ycrP7I1tZWkUhUU1OTkJDALGFXVlbWNY3UWo8LFjOTojs8UjHjIxYvXpyZmcm+s++vf/0rgIULF3LaNt31rGBdSr0EwM7OTou3R/rFjI9wdHTs6Fw6fPiwmuOVSuXJkyc/+OCDkpISgUDQ/bcj7UHBalI0uea6jjw+8tipY4ZtiVhM3nlnt4mJSVxcXExMDFi8zW9sbGRWi0hMTFy7di2A6dOnd1mDtdCDgrXu93XIxqv5rypUnK9yrt6KFQQgISH3Hz6ssLa2BnD58uVOz9q3bx8Af3//mpoaZrbwjRs3uG+slnpKsO623jW+bWx02+h2iwZv27mQkUH4fGJsTO7eJbNmqcaMOTp3LqthqG1tbczCrfHx8du2bQPw2muvdcMBM4weESwlUY4uGI1shP0eZtiWyOVk2DACkE2bHu9ZamFB2M+AZ5Zbcnd3r6+vZ/a5/f777zlsrg5e/mC1q9r3V+9HNvrk9mlUdNEq5y+ybx8BSL9+pK7u8VDS/fs1OF2pVDIbbP/nP//5/PPPAQwePLh7Lov60gbr50c/R5RHrC9f/z/N/+Oa64psnBN33SrnLzJhAgFIQgJJSiKmpiQgQIM9SxmXL18G4OTkVF9f7+npCeDYMQM/izzXSxuseSXzCCFKoixoK/i09tOjdUcN2Jj0dPLdd4QQcvo06dj3+LffiHajUJkFRbds2XLmzBkALi4uBllaTb1u3zOgLQFPAIAPPvPzEqclBmxMYSGOHEFtLW7dQsdq0d7eCAjQprSoqCgej7d///6xY8e+9tprlZWVzNdit/LSBovP4xfJin5v/12mkhm6LQCwbt3j5SZ0N2rUqBkzZjg5OZWVlTHz6KOiohobG/VTup68tJ3Q0a7R8aJ4Qsi7du+Othxt6ObA0RHe3oiP109psbGxtra2AoFAKpU6ODhMnDjRsL3pz3ppg2XFt1rhtIL52dVEP0PztObpiV69sGgRqqtx6xYCA3UtsGMBn927d4tEory8PCMjI10L1aueOB7LUGprMXw4WlogFEIvO2wUFhb6+/vLZLLk5GRmon338dLeY3VDzs7w9UVjI3bv1k+BK1eulEqlixYt6m6pAr1idbHcXAwbBlNT3L8PNzedioqPj58/f76jo2NBQYGTk5OeGqg39IrVpfz9MWcOpFLouFGfRIJPPw0ePnzDvn37umGqQK9YXa+kBEOGQKnEnTsqX18tP9grVyI2FuPG4cYNwuPx9NtCvaDBMoAPP2xJTT3r6Hjl++/Pa3F6ZiYCA2FsrOmS5F2KBssA6uvrBwwY0NTUlJyczPTPVFRUNDU1PTGf0c7W9vnXIYUCo0YhJwebN0OHhVS5Z8j+pB5s+/bteGI176fW+BcIZMzKpba25KmdYjrGR+i8fAS36M27YYSHh/fu3TsjI+PixYsAnJ2dhwwZ4uHh0bdvX0dHR4HAlDlMIoFK9V8nOjvDwQEHD6Ib78UJ0K9CAzp48ODq1av79+9/5swZIyMjOzs7ZgduExNTMzM7c3MAaGyEQABzc+TlITwcV68iKgoLFkCTzawNgwbLYORyuY+PT3t7e1lZ2ZN/bmdn39goAmBsDGtrALC3x9y5KC/HmDEoLUV4OGxtDdJkDby0fYXdn4mJSWZm5qFDh5jFUTumPtvaOkilkEqhUEAsBgCxGDIZxoxBbi4UCsO2mi16xeq+5HI0N4MQNDaipgYFBZg6FcOHIz//D3DFosH6Y5BIIBbD3R0ZGRg2DAbZz0sjNFgUJ+jrBooTNFgUJ2iwKE7QYFGcoMGiOEGDRXGCBoviBA0WxQkaLIoTNFgUJ2iwKE7QYFGcoMGiOEGDRXGCBoviBA0WxQkaLIoTNFgUJ2iwKE7QYFGcoMGiOEGDRXGCBoviBA0WxQkaLIoTNFgUJ2iwKE7QYFGcoMGiOEGDRXGCBoviBA0WxQkaLIoTNFgUJ2iwKE7QYFGcoMGiOEGDRXGCBoviBA0WxQkaLIoTNFgUJ2iwKE7QYFGcoMGiOEGDRXGCBoviBA0WxQkaLIoTNFgUJ2iwKE7QYFGc+F/5S94vE4+Q+gAAAjN6VFh0cmRraXRQS0wgcmRraXQgMjAyMS4wMy40AAB4nHu/b+09BiDgAWJGBgiQB2IlIG5gFGRQAImzOWgAKWYWGM3BAKaZ2BgSgDQTE0I+A0QzwzVwwvTDxYlhQPSyM4AFmDBsZwPbzoSgYRogNDMeszGUEBbgBgYLI1MGExOzAjMLAwsrAytbBhMbewI7BwM7ZwYTJ1cCFzdQlieBhzeDiZcvgY9fgV9AQUAwQVBIQUhYg1lYREFENINJVCxBTDyDSVwiQUIyg0lQKoNJSjpBWiaDSUY2gU8ug0mOMYGbNUFWIINJUiRBhIWNUY6Pl4eJjY2dk4ublU1UTFxCUoRNSlpGVkBQHBZPDPJPb+od2JXkeQDEmXvqx/4Zue/3g9gXnmoe+LKLB8wuedtyoMCLEczesnb2gdNXA+xBbIcVpw/4u8WA2Y0Zjw4snsntAGK3GXIePFLKB2Yvnyhy8PLfJDB7zTnRg2HqxWD1PXlcB09/3LsPxO5+9OTApUtXwOziR+/2H/liCVbD+3D3PocWPTD7j9IGu9+zlcFuePfptX09jz6Y/aNS2UHfmwHs/o7tjQ4B6sxg9uWPsxza37qC1cjrbHEwOMQANicr7azDlx2PwexvCX8dNjHcA7MX+nI7uq9xALuT8fZ/B+1ZXWB26YPzDjYcPWC25rJtDp0pbmD2ifIZDvHrw8F2/aqqc1i2dgqY/ahVzmGa/WQw+zDXI3vZ74Fg9s7Gx/tuqX4Fu0cMAO7HpzAuktL6AAACIXpUWHRNT0wgcmRraXQgMjAyMS4wMy40AAB4nJ2VzcpUMQyG93MVvQFL/tOuHd2In+DCexBcev+Y/pxyBIVvMgzDGzrnOW+TNH2U8fn+/PLzdzkfej4ehbGwlAL//Pbeyw8CgEf8/QNVZ4KhuKKYDwbUWIXy8df/EPfvpGDtwr5Uc9A7pbybQtVUJgWqSvccRSqqwKaAwo3y7RVKs+vZhtpyXqyyCW+KgeQoXsF1UqhiQ85RWlUXWxQi7TlKr9R0Ujhq9Fe/fH6FwsY7u116Mrst+oV2pdkRstlFpd11gprsuuh7s10ZJ0tWOvZhvvdhDXNe4gmW6wQYd8xRYkcypsikNL7X6O39FKqq8wTE6QZY/fe6F6mga74ERXruBASlydUvHmMvR9HI6XWSFa4ufpVi0WutrTy7Z2vktcdA2JQoeq5GrTqYrjMNmJzew0tXXXlmTk6pkZduuCluyexq7Mjb3tG48FJ5keo2OzbuRnZI1ohr9zkZ4k4JHOW8UBW3vimAyRpFl9jMaeyIGnjKy5iTss503PsxPDNeIpk0f0cQKnCygqX2Sig9QSg7QSg/z4RqJwjVz99aGffCWgmFeAIsSLeX4nEQCuUEUkayd6AFj4NQY0DvwAseB6HwOAg1Zg7PIBThtRKKjoNQdByEouMgFB0Hochu76GTg1B0HISifoJeGG5b4JMDXlXYKzSTuldgbm4DbLqewddSPr09H38APeafQgERS2AAAAFwelRYdFNNSUxFUyByZGtpdCAyMDIxLjAzLjQAAHicJVJLilxBDLtKIJtpqCn8/9DLhlkmh6ht6BPM4SPXvEVhhC1L8vs6fPB9vP4ewfvvgfrP0fd5n6Ov368pz3krcHkc/vX98dlbyj2WbrdIW8/P2p7mvWSLeA/SW0M6Fu22Lu7bFM7d65O2JnU5sNzsEj6YsUcysMCoSWO0gswKkKG09oHYM+RC7PrD5uRkgwk22A+bW6fMKEOARi0UleR621KF0KabLWJ0YL2ZWk9bQxLYoNKMOIcttAm7nuAw1bsgSrPgVLa7qSywEk0GaMrwvvRSNJZkW0ajx3YQOxDdDRtxERs/hqEpMIRwqAaB2jEDYmvJQcqEZLZnKuJaT4c00snKCXHDXSDISl9QkT08CUNFPQAMrWftpDDH9YhptKChHTHbVmU4GYoO9gHy7kjKrBnorr5paURjdmJgpHpzroh7tRTExfe4lLgu/gouFl+P7/8OCoC67DcrAQAAAABJRU5ErkJggg==\" alt=\"Mol\"/></td>\n",
       "      <td>Lc1c(OCc2cc(F)ccc2)ccc(Nc2c(C#Cc3ncccn3)cncn2)c1</td>\n",
       "      <td>[[0.0, 0.0, 0.0, 0.0, 0.0, 0.0, 0.0, 0.0, 0.0,...</td>\n",
       "      <td>[[0.0, 0.0, 0.0, 0.0, 0.0, 0.0, 0.0, 0.0, 0.0,...</td>\n",
       "      <td>[[0.0, 0.0, 0.0, 0.0, 0.0, 0.0, 0.0, 0.0, 0.0,...</td>\n",
       "      <td>[[0.0, 0.0, 0.0, 0.0, 0.0, 0.0, 0.0, 0.0, 0.0,...</td>\n",
       "      <td>[[0.0, 0.0, 0.0, 0.0, 0.0, 0.0, 0.0, 0.0, 0.0,...</td>\n",
       "    </tr>\n",
       "    <tr>\n",
       "      <th>1</th>\n",
       "      <td>CHEMBL3940060</td>\n",
       "      <td>ClCC(=O)OCCN1C(=O)Oc2c1cc1c(Nc3cc(Cl)c(F)cc3)n...</td>\n",
       "      <td><img data-content=\"rdkit/molecule\" src=\"data:image/png;base64,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\" alt=\"Mol\"/></td>\n",
       "      <td>LCC(=O)OCCN1C(=O)Oc2c1cc1c(Nc3cc(L)c(F)cc3)ncn...</td>\n",
       "      <td>[[0.0, 0.0, 0.0, 0.0, 0.0, 0.0, 0.0, 0.0, 0.0,...</td>\n",
       "      <td>[[0.0, 0.0, 0.0, 1.0, 0.0, 0.0, 0.0, 0.0, 0.0,...</td>\n",
       "      <td>[[0.0, 0.0, 0.0, 1.0, 0.0, 0.0, 0.0, 0.0, 0.0,...</td>\n",
       "      <td>[[0.0, 0.0, 0.0, 1.0, 0.0, 0.0, 0.0, 0.0, 0.0,...</td>\n",
       "      <td>[[0.0, 0.0, 0.0, 0.0, 0.0, 0.0, 0.0, 0.0, 0.0,...</td>\n",
       "    </tr>\n",
       "  </tbody>\n",
       "</table>\n",
       "</div>"
      ],
      "text/plain": [
       "       chembl_id                                   canonical_smiles  \\\n",
       "0   CHEMBL207869  Clc1c(OCc2cc(F)ccc2)ccc(Nc2c(C#Cc3ncccn3)cncn2)c1   \n",
       "1  CHEMBL3940060  ClCC(=O)OCCN1C(=O)Oc2c1cc1c(Nc3cc(Cl)c(F)cc3)n...   \n",
       "\n",
       "                                               Mol2D  \\\n",
       "0  <img data-content=\"rdkit/molecule\" src=\"data:i...   \n",
       "1  <img data-content=\"rdkit/molecule\" src=\"data:i...   \n",
       "\n",
       "                          processed_canonical_smiles  \\\n",
       "0   Lc1c(OCc2cc(F)ccc2)ccc(Nc2c(C#Cc3ncccn3)cncn2)c1   \n",
       "1  LCC(=O)OCCN1C(=O)Oc2c1cc1c(Nc3cc(L)c(F)cc3)ncn...   \n",
       "\n",
       "                              unique_char_ohe_matrix  \\\n",
       "0  [[0.0, 0.0, 0.0, 0.0, 0.0, 0.0, 0.0, 0.0, 0.0,...   \n",
       "1  [[0.0, 0.0, 0.0, 0.0, 0.0, 0.0, 0.0, 0.0, 0.0,...   \n",
       "\n",
       "                       sklearn_ohe_matrix_no_padding  \\\n",
       "0  [[0.0, 0.0, 0.0, 0.0, 0.0, 0.0, 0.0, 0.0, 0.0,...   \n",
       "1  [[0.0, 0.0, 0.0, 1.0, 0.0, 0.0, 0.0, 0.0, 0.0,...   \n",
       "\n",
       "                    sklearn_ohe_matrix_later_padding  \\\n",
       "0  [[0.0, 0.0, 0.0, 0.0, 0.0, 0.0, 0.0, 0.0, 0.0,...   \n",
       "1  [[0.0, 0.0, 0.0, 1.0, 0.0, 0.0, 0.0, 0.0, 0.0,...   \n",
       "\n",
       "                  sklearn_ohe_matrix_initial_padding  \\\n",
       "0  [[0.0, 0.0, 0.0, 0.0, 0.0, 0.0, 0.0, 0.0, 0.0,...   \n",
       "1  [[0.0, 0.0, 0.0, 1.0, 0.0, 0.0, 0.0, 0.0, 0.0,...   \n",
       "\n",
       "                    keras_ohe_matrix_without_padding  \n",
       "0  [[0.0, 0.0, 0.0, 0.0, 0.0, 0.0, 0.0, 0.0, 0.0,...  \n",
       "1  [[0.0, 0.0, 0.0, 0.0, 0.0, 0.0, 0.0, 0.0, 0.0,...  "
      ]
     },
     "execution_count": 34,
     "metadata": {},
     "output_type": "execute_result"
    }
   ],
   "source": [
    "# Apply the function over the processed canonical SMILES strings\n",
    "df[\"keras_ohe_matrix_without_padding\"] = df[\"processed_canonical_smiles\"].apply(\n",
    "    keras_one_hot_encoded_matrix,\n",
    "    smiles_maxlen=smiles_maxlen,\n",
    "    unique_char=unique_char,\n",
    "    islaterpadding=False,\n",
    ")\n",
    "df.head(2)"
   ]
  },
  {
   "cell_type": "markdown",
   "metadata": {},
   "source": [
    "**Visualization of one-hot encoded matrix (unequal dimension)**"
   ]
  },
  {
   "cell_type": "code",
   "execution_count": 35,
   "metadata": {},
   "outputs": [
    {
     "data": {
      "image/png": "[encoded data removed]",
      "text/plain": [
       "<Figure size 432x288 with 1 Axes>"
      ]
     },
     "metadata": {
      "needs_background": "light"
     },
     "output_type": "display_data"
    },
    {
     "name": "stdout",
     "output_type": "stream",
     "text": [
      "Shape of one-hot matrix :  (14, 43)\n",
      "Associated canonical SMILES:  N([C@H](C)c1ccccc1)c1ncnc2oc(-c3ccccc3)cc12\n"
     ]
    }
   ],
   "source": [
    "# Choose index of the compound for which the OHE matrix is visualised\n",
    "index = 100\n",
    "one_hot_matrix_plot(\n",
    "    df.iloc[index][\"keras_ohe_matrix_without_padding\"],\n",
    "    df.iloc[index][\"keras_ohe_matrix_without_padding\"],\n",
    "    df.iloc[index][\"processed_canonical_smiles\"],\n",
    ")"
   ]
  },
  {
   "cell_type": "markdown",
   "metadata": {},
   "source": [
    "#### With padding (equal dimension)"
   ]
  },
  {
   "cell_type": "code",
   "execution_count": 36,
   "metadata": {},
   "outputs": [
    {
     "data": {
      "text/html": [
       "<div>\n",
       "<style scoped>\n",
       "    .dataframe tbody tr th:only-of-type {\n",
       "        vertical-align: middle;\n",
       "    }\n",
       "\n",
       "    .dataframe tbody tr th {\n",
       "        vertical-align: top;\n",
       "    }\n",
       "\n",
       "    .dataframe thead th {\n",
       "        text-align: right;\n",
       "    }\n",
       "</style>\n",
       "<table border=\"1\" class=\"dataframe\">\n",
       "  <thead>\n",
       "    <tr style=\"text-align: right;\">\n",
       "      <th></th>\n",
       "      <th>chembl_id</th>\n",
       "      <th>canonical_smiles</th>\n",
       "      <th>Mol2D</th>\n",
       "      <th>processed_canonical_smiles</th>\n",
       "      <th>unique_char_ohe_matrix</th>\n",
       "      <th>sklearn_ohe_matrix_no_padding</th>\n",
       "      <th>sklearn_ohe_matrix_later_padding</th>\n",
       "      <th>sklearn_ohe_matrix_initial_padding</th>\n",
       "      <th>keras_ohe_matrix_without_padding</th>\n",
       "      <th>keras_ohe_matrix_padding</th>\n",
       "    </tr>\n",
       "  </thead>\n",
       "  <tbody>\n",
       "    <tr>\n",
       "      <th>0</th>\n",
       "      <td>CHEMBL207869</td>\n",
       "      <td>Clc1c(OCc2cc(F)ccc2)ccc(Nc2c(C#Cc3ncccn3)cncn2)c1</td>\n",
       "      <td><img data-content=\"rdkit/molecule\" src=\"data:image/png;base64,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\" alt=\"Mol\"/></td>\n",
       "      <td>Lc1c(OCc2cc(F)ccc2)ccc(Nc2c(C#Cc3ncccn3)cncn2)c1</td>\n",
       "      <td>[[0.0, 0.0, 0.0, 0.0, 0.0, 0.0, 0.0, 0.0, 0.0,...</td>\n",
       "      <td>[[0.0, 0.0, 0.0, 0.0, 0.0, 0.0, 0.0, 0.0, 0.0,...</td>\n",
       "      <td>[[0.0, 0.0, 0.0, 0.0, 0.0, 0.0, 0.0, 0.0, 0.0,...</td>\n",
       "      <td>[[0.0, 0.0, 0.0, 0.0, 0.0, 0.0, 0.0, 0.0, 0.0,...</td>\n",
       "      <td>[[0.0, 0.0, 0.0, 0.0, 0.0, 0.0, 0.0, 0.0, 0.0,...</td>\n",
       "      <td>[[0.0, 0.0, 0.0, 0.0, 0.0, 0.0, 0.0, 0.0, 0.0,...</td>\n",
       "    </tr>\n",
       "    <tr>\n",
       "      <th>1</th>\n",
       "      <td>CHEMBL3940060</td>\n",
       "      <td>ClCC(=O)OCCN1C(=O)Oc2c1cc1c(Nc3cc(Cl)c(F)cc3)n...</td>\n",
       "      <td><img data-content=\"rdkit/molecule\" src=\"data:image/png;base64,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\" alt=\"Mol\"/></td>\n",
       "      <td>LCC(=O)OCCN1C(=O)Oc2c1cc1c(Nc3cc(L)c(F)cc3)ncn...</td>\n",
       "      <td>[[0.0, 0.0, 0.0, 0.0, 0.0, 0.0, 0.0, 0.0, 0.0,...</td>\n",
       "      <td>[[0.0, 0.0, 0.0, 1.0, 0.0, 0.0, 0.0, 0.0, 0.0,...</td>\n",
       "      <td>[[0.0, 0.0, 0.0, 1.0, 0.0, 0.0, 0.0, 0.0, 0.0,...</td>\n",
       "      <td>[[0.0, 0.0, 0.0, 1.0, 0.0, 0.0, 0.0, 0.0, 0.0,...</td>\n",
       "      <td>[[0.0, 0.0, 0.0, 0.0, 0.0, 0.0, 0.0, 0.0, 0.0,...</td>\n",
       "      <td>[[0.0, 0.0, 0.0, 0.0, 0.0, 0.0, 0.0, 0.0, 0.0,...</td>\n",
       "    </tr>\n",
       "  </tbody>\n",
       "</table>\n",
       "</div>"
      ],
      "text/plain": [
       "       chembl_id                                   canonical_smiles  \\\n",
       "0   CHEMBL207869  Clc1c(OCc2cc(F)ccc2)ccc(Nc2c(C#Cc3ncccn3)cncn2)c1   \n",
       "1  CHEMBL3940060  ClCC(=O)OCCN1C(=O)Oc2c1cc1c(Nc3cc(Cl)c(F)cc3)n...   \n",
       "\n",
       "                                               Mol2D  \\\n",
       "0  <img data-content=\"rdkit/molecule\" src=\"data:i...   \n",
       "1  <img data-content=\"rdkit/molecule\" src=\"data:i...   \n",
       "\n",
       "                          processed_canonical_smiles  \\\n",
       "0   Lc1c(OCc2cc(F)ccc2)ccc(Nc2c(C#Cc3ncccn3)cncn2)c1   \n",
       "1  LCC(=O)OCCN1C(=O)Oc2c1cc1c(Nc3cc(L)c(F)cc3)ncn...   \n",
       "\n",
       "                              unique_char_ohe_matrix  \\\n",
       "0  [[0.0, 0.0, 0.0, 0.0, 0.0, 0.0, 0.0, 0.0, 0.0,...   \n",
       "1  [[0.0, 0.0, 0.0, 0.0, 0.0, 0.0, 0.0, 0.0, 0.0,...   \n",
       "\n",
       "                       sklearn_ohe_matrix_no_padding  \\\n",
       "0  [[0.0, 0.0, 0.0, 0.0, 0.0, 0.0, 0.0, 0.0, 0.0,...   \n",
       "1  [[0.0, 0.0, 0.0, 1.0, 0.0, 0.0, 0.0, 0.0, 0.0,...   \n",
       "\n",
       "                    sklearn_ohe_matrix_later_padding  \\\n",
       "0  [[0.0, 0.0, 0.0, 0.0, 0.0, 0.0, 0.0, 0.0, 0.0,...   \n",
       "1  [[0.0, 0.0, 0.0, 1.0, 0.0, 0.0, 0.0, 0.0, 0.0,...   \n",
       "\n",
       "                  sklearn_ohe_matrix_initial_padding  \\\n",
       "0  [[0.0, 0.0, 0.0, 0.0, 0.0, 0.0, 0.0, 0.0, 0.0,...   \n",
       "1  [[0.0, 0.0, 0.0, 1.0, 0.0, 0.0, 0.0, 0.0, 0.0,...   \n",
       "\n",
       "                    keras_ohe_matrix_without_padding  \\\n",
       "0  [[0.0, 0.0, 0.0, 0.0, 0.0, 0.0, 0.0, 0.0, 0.0,...   \n",
       "1  [[0.0, 0.0, 0.0, 0.0, 0.0, 0.0, 0.0, 0.0, 0.0,...   \n",
       "\n",
       "                            keras_ohe_matrix_padding  \n",
       "0  [[0.0, 0.0, 0.0, 0.0, 0.0, 0.0, 0.0, 0.0, 0.0,...  \n",
       "1  [[0.0, 0.0, 0.0, 0.0, 0.0, 0.0, 0.0, 0.0, 0.0,...  "
      ]
     },
     "execution_count": 36,
     "metadata": {},
     "output_type": "execute_result"
    }
   ],
   "source": [
    "# Apply the function over the Processed_canonical_smiles strings\n",
    "df[\"keras_ohe_matrix_padding\"] = df[\"processed_canonical_smiles\"].apply(\n",
    "    keras_one_hot_encoded_matrix,\n",
    "    smiles_maxlen=smiles_maxlen,\n",
    "    unique_char=unique_char,\n",
    "    islaterpadding=True,\n",
    ")\n",
    "df.head(2)"
   ]
  },
  {
   "cell_type": "markdown",
   "metadata": {},
   "source": [
    "**Visualization of one-hot encoded matrix (unequal dimension)**"
   ]
  },
  {
   "cell_type": "code",
   "execution_count": 37,
   "metadata": {},
   "outputs": [
    {
     "data": {
      "image/png": "[encoded data removed]",
      "text/plain": [
       "<Figure size 432x288 with 1 Axes>"
      ]
     },
     "metadata": {
      "needs_background": "light"
     },
     "output_type": "display_data"
    },
    {
     "name": "stdout",
     "output_type": "stream",
     "text": [
      "Shape of one-hot matrix :  (36, 267)\n",
      "Associated canonical SMILES:  O(C)c1c(C(=Cc2c3c(N)nc(N)nc3oc2)CCCC)cccc1\n"
     ]
    }
   ],
   "source": [
    "# Choose index of the compound for which the OHE matrix is visualised\n",
    "index = 2705\n",
    "one_hot_matrix_plot(\n",
    "    df.iloc[index][\"keras_ohe_matrix_padding\"],\n",
    "    unique_char,\n",
    "    df.iloc[index][\"processed_canonical_smiles\"],\n",
    ")"
   ]
  }
 ],
 "metadata": {
  "kernelspec": {
   "display_name": "Python 3 (ipykernel)",
   "language": "python",
   "name": "python3"
  },
  "language_info": {
   "codemirror_mode": {
    "name": "ipython",
    "version": 3
   },
   "file_extension": ".py",
   "mimetype": "text/x-python",
   "name": "python",
   "nbconvert_exporter": "python",
   "pygments_lexer": "ipython3",
   "version": "3.8.10"
  },
  "toc-autonumbering": true,
  "widgets": {
   "application/vnd.jupyter.widget-state+json": {
    "state": {},
    "version_major": 2,
    "version_minor": 0
   }
  }
 },
 "nbformat": 4,
 "nbformat_minor": 4
}
